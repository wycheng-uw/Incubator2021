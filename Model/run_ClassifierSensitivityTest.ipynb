{
 "cells": [
  {
   "cell_type": "code",
   "execution_count": 1,
   "id": "clear-diabetes",
   "metadata": {},
   "outputs": [
    {
     "name": "stdout",
     "output_type": "stream",
     "text": [
      "/home/disk/p/wycheng/anaconda3/envs/tensorflow/bin/python\n"
     ]
    }
   ],
   "source": [
    "import sys\n",
    "print(sys.executable)"
   ]
  },
  {
   "cell_type": "code",
   "execution_count": 2,
   "id": "prescription-history",
   "metadata": {},
   "outputs": [],
   "source": [
    "import xarray as xr\n",
    "import dask\n",
    "import numpy as np\n",
    "import pandas as pd\n",
    "import matplotlib.pyplot as plt\n",
    "from eofs.xarray import Eof\n",
    "import time"
   ]
  },
  {
   "cell_type": "markdown",
   "id": "sweet-married",
   "metadata": {},
   "source": [
    "# Read data"
   ]
  },
  {
   "cell_type": "code",
   "execution_count": 3,
   "id": "center-picnic",
   "metadata": {},
   "outputs": [],
   "source": [
    "main_dir = '/home/disk/eos12/wycheng/'"
   ]
  },
  {
   "cell_type": "code",
   "execution_count": 5,
   "id": "continuous-posting",
   "metadata": {},
   "outputs": [
    {
     "data": {
      "text/html": [
       "<div><svg style=\"position: absolute; width: 0; height: 0; overflow: hidden\">\n",
       "<defs>\n",
       "<symbol id=\"icon-database\" viewBox=\"0 0 32 32\">\n",
       "<path d=\"M16 0c-8.837 0-16 2.239-16 5v4c0 2.761 7.163 5 16 5s16-2.239 16-5v-4c0-2.761-7.163-5-16-5z\"></path>\n",
       "<path d=\"M16 17c-8.837 0-16-2.239-16-5v6c0 2.761 7.163 5 16 5s16-2.239 16-5v-6c0 2.761-7.163 5-16 5z\"></path>\n",
       "<path d=\"M16 26c-8.837 0-16-2.239-16-5v6c0 2.761 7.163 5 16 5s16-2.239 16-5v-6c0 2.761-7.163 5-16 5z\"></path>\n",
       "</symbol>\n",
       "<symbol id=\"icon-file-text2\" viewBox=\"0 0 32 32\">\n",
       "<path d=\"M28.681 7.159c-0.694-0.947-1.662-2.053-2.724-3.116s-2.169-2.030-3.116-2.724c-1.612-1.182-2.393-1.319-2.841-1.319h-15.5c-1.378 0-2.5 1.121-2.5 2.5v27c0 1.378 1.122 2.5 2.5 2.5h23c1.378 0 2.5-1.122 2.5-2.5v-19.5c0-0.448-0.137-1.23-1.319-2.841zM24.543 5.457c0.959 0.959 1.712 1.825 2.268 2.543h-4.811v-4.811c0.718 0.556 1.584 1.309 2.543 2.268zM28 29.5c0 0.271-0.229 0.5-0.5 0.5h-23c-0.271 0-0.5-0.229-0.5-0.5v-27c0-0.271 0.229-0.5 0.5-0.5 0 0 15.499-0 15.5 0v7c0 0.552 0.448 1 1 1h7v19.5z\"></path>\n",
       "<path d=\"M23 26h-14c-0.552 0-1-0.448-1-1s0.448-1 1-1h14c0.552 0 1 0.448 1 1s-0.448 1-1 1z\"></path>\n",
       "<path d=\"M23 22h-14c-0.552 0-1-0.448-1-1s0.448-1 1-1h14c0.552 0 1 0.448 1 1s-0.448 1-1 1z\"></path>\n",
       "<path d=\"M23 18h-14c-0.552 0-1-0.448-1-1s0.448-1 1-1h14c0.552 0 1 0.448 1 1s-0.448 1-1 1z\"></path>\n",
       "</symbol>\n",
       "</defs>\n",
       "</svg>\n",
       "<style>/* CSS stylesheet for displaying xarray objects in jupyterlab.\n",
       " *\n",
       " */\n",
       "\n",
       ":root {\n",
       "  --xr-font-color0: var(--jp-content-font-color0, rgba(0, 0, 0, 1));\n",
       "  --xr-font-color2: var(--jp-content-font-color2, rgba(0, 0, 0, 0.54));\n",
       "  --xr-font-color3: var(--jp-content-font-color3, rgba(0, 0, 0, 0.38));\n",
       "  --xr-border-color: var(--jp-border-color2, #e0e0e0);\n",
       "  --xr-disabled-color: var(--jp-layout-color3, #bdbdbd);\n",
       "  --xr-background-color: var(--jp-layout-color0, white);\n",
       "  --xr-background-color-row-even: var(--jp-layout-color1, white);\n",
       "  --xr-background-color-row-odd: var(--jp-layout-color2, #eeeeee);\n",
       "}\n",
       "\n",
       "html[theme=dark],\n",
       "body.vscode-dark {\n",
       "  --xr-font-color0: rgba(255, 255, 255, 1);\n",
       "  --xr-font-color2: rgba(255, 255, 255, 0.54);\n",
       "  --xr-font-color3: rgba(255, 255, 255, 0.38);\n",
       "  --xr-border-color: #1F1F1F;\n",
       "  --xr-disabled-color: #515151;\n",
       "  --xr-background-color: #111111;\n",
       "  --xr-background-color-row-even: #111111;\n",
       "  --xr-background-color-row-odd: #313131;\n",
       "}\n",
       "\n",
       ".xr-wrap {\n",
       "  display: block;\n",
       "  min-width: 300px;\n",
       "  max-width: 700px;\n",
       "}\n",
       "\n",
       ".xr-text-repr-fallback {\n",
       "  /* fallback to plain text repr when CSS is not injected (untrusted notebook) */\n",
       "  display: none;\n",
       "}\n",
       "\n",
       ".xr-header {\n",
       "  padding-top: 6px;\n",
       "  padding-bottom: 6px;\n",
       "  margin-bottom: 4px;\n",
       "  border-bottom: solid 1px var(--xr-border-color);\n",
       "}\n",
       "\n",
       ".xr-header > div,\n",
       ".xr-header > ul {\n",
       "  display: inline;\n",
       "  margin-top: 0;\n",
       "  margin-bottom: 0;\n",
       "}\n",
       "\n",
       ".xr-obj-type,\n",
       ".xr-array-name {\n",
       "  margin-left: 2px;\n",
       "  margin-right: 10px;\n",
       "}\n",
       "\n",
       ".xr-obj-type {\n",
       "  color: var(--xr-font-color2);\n",
       "}\n",
       "\n",
       ".xr-sections {\n",
       "  padding-left: 0 !important;\n",
       "  display: grid;\n",
       "  grid-template-columns: 150px auto auto 1fr 20px 20px;\n",
       "}\n",
       "\n",
       ".xr-section-item {\n",
       "  display: contents;\n",
       "}\n",
       "\n",
       ".xr-section-item input {\n",
       "  display: none;\n",
       "}\n",
       "\n",
       ".xr-section-item input + label {\n",
       "  color: var(--xr-disabled-color);\n",
       "}\n",
       "\n",
       ".xr-section-item input:enabled + label {\n",
       "  cursor: pointer;\n",
       "  color: var(--xr-font-color2);\n",
       "}\n",
       "\n",
       ".xr-section-item input:enabled + label:hover {\n",
       "  color: var(--xr-font-color0);\n",
       "}\n",
       "\n",
       ".xr-section-summary {\n",
       "  grid-column: 1;\n",
       "  color: var(--xr-font-color2);\n",
       "  font-weight: 500;\n",
       "}\n",
       "\n",
       ".xr-section-summary > span {\n",
       "  display: inline-block;\n",
       "  padding-left: 0.5em;\n",
       "}\n",
       "\n",
       ".xr-section-summary-in:disabled + label {\n",
       "  color: var(--xr-font-color2);\n",
       "}\n",
       "\n",
       ".xr-section-summary-in + label:before {\n",
       "  display: inline-block;\n",
       "  content: '►';\n",
       "  font-size: 11px;\n",
       "  width: 15px;\n",
       "  text-align: center;\n",
       "}\n",
       "\n",
       ".xr-section-summary-in:disabled + label:before {\n",
       "  color: var(--xr-disabled-color);\n",
       "}\n",
       "\n",
       ".xr-section-summary-in:checked + label:before {\n",
       "  content: '▼';\n",
       "}\n",
       "\n",
       ".xr-section-summary-in:checked + label > span {\n",
       "  display: none;\n",
       "}\n",
       "\n",
       ".xr-section-summary,\n",
       ".xr-section-inline-details {\n",
       "  padding-top: 4px;\n",
       "  padding-bottom: 4px;\n",
       "}\n",
       "\n",
       ".xr-section-inline-details {\n",
       "  grid-column: 2 / -1;\n",
       "}\n",
       "\n",
       ".xr-section-details {\n",
       "  display: none;\n",
       "  grid-column: 1 / -1;\n",
       "  margin-bottom: 5px;\n",
       "}\n",
       "\n",
       ".xr-section-summary-in:checked ~ .xr-section-details {\n",
       "  display: contents;\n",
       "}\n",
       "\n",
       ".xr-array-wrap {\n",
       "  grid-column: 1 / -1;\n",
       "  display: grid;\n",
       "  grid-template-columns: 20px auto;\n",
       "}\n",
       "\n",
       ".xr-array-wrap > label {\n",
       "  grid-column: 1;\n",
       "  vertical-align: top;\n",
       "}\n",
       "\n",
       ".xr-preview {\n",
       "  color: var(--xr-font-color3);\n",
       "}\n",
       "\n",
       ".xr-array-preview,\n",
       ".xr-array-data {\n",
       "  padding: 0 5px !important;\n",
       "  grid-column: 2;\n",
       "}\n",
       "\n",
       ".xr-array-data,\n",
       ".xr-array-in:checked ~ .xr-array-preview {\n",
       "  display: none;\n",
       "}\n",
       "\n",
       ".xr-array-in:checked ~ .xr-array-data,\n",
       ".xr-array-preview {\n",
       "  display: inline-block;\n",
       "}\n",
       "\n",
       ".xr-dim-list {\n",
       "  display: inline-block !important;\n",
       "  list-style: none;\n",
       "  padding: 0 !important;\n",
       "  margin: 0;\n",
       "}\n",
       "\n",
       ".xr-dim-list li {\n",
       "  display: inline-block;\n",
       "  padding: 0;\n",
       "  margin: 0;\n",
       "}\n",
       "\n",
       ".xr-dim-list:before {\n",
       "  content: '(';\n",
       "}\n",
       "\n",
       ".xr-dim-list:after {\n",
       "  content: ')';\n",
       "}\n",
       "\n",
       ".xr-dim-list li:not(:last-child):after {\n",
       "  content: ',';\n",
       "  padding-right: 5px;\n",
       "}\n",
       "\n",
       ".xr-has-index {\n",
       "  font-weight: bold;\n",
       "}\n",
       "\n",
       ".xr-var-list,\n",
       ".xr-var-item {\n",
       "  display: contents;\n",
       "}\n",
       "\n",
       ".xr-var-item > div,\n",
       ".xr-var-item label,\n",
       ".xr-var-item > .xr-var-name span {\n",
       "  background-color: var(--xr-background-color-row-even);\n",
       "  margin-bottom: 0;\n",
       "}\n",
       "\n",
       ".xr-var-item > .xr-var-name:hover span {\n",
       "  padding-right: 5px;\n",
       "}\n",
       "\n",
       ".xr-var-list > li:nth-child(odd) > div,\n",
       ".xr-var-list > li:nth-child(odd) > label,\n",
       ".xr-var-list > li:nth-child(odd) > .xr-var-name span {\n",
       "  background-color: var(--xr-background-color-row-odd);\n",
       "}\n",
       "\n",
       ".xr-var-name {\n",
       "  grid-column: 1;\n",
       "}\n",
       "\n",
       ".xr-var-dims {\n",
       "  grid-column: 2;\n",
       "}\n",
       "\n",
       ".xr-var-dtype {\n",
       "  grid-column: 3;\n",
       "  text-align: right;\n",
       "  color: var(--xr-font-color2);\n",
       "}\n",
       "\n",
       ".xr-var-preview {\n",
       "  grid-column: 4;\n",
       "}\n",
       "\n",
       ".xr-var-name,\n",
       ".xr-var-dims,\n",
       ".xr-var-dtype,\n",
       ".xr-preview,\n",
       ".xr-attrs dt {\n",
       "  white-space: nowrap;\n",
       "  overflow: hidden;\n",
       "  text-overflow: ellipsis;\n",
       "  padding-right: 10px;\n",
       "}\n",
       "\n",
       ".xr-var-name:hover,\n",
       ".xr-var-dims:hover,\n",
       ".xr-var-dtype:hover,\n",
       ".xr-attrs dt:hover {\n",
       "  overflow: visible;\n",
       "  width: auto;\n",
       "  z-index: 1;\n",
       "}\n",
       "\n",
       ".xr-var-attrs,\n",
       ".xr-var-data {\n",
       "  display: none;\n",
       "  background-color: var(--xr-background-color) !important;\n",
       "  padding-bottom: 5px !important;\n",
       "}\n",
       "\n",
       ".xr-var-attrs-in:checked ~ .xr-var-attrs,\n",
       ".xr-var-data-in:checked ~ .xr-var-data {\n",
       "  display: block;\n",
       "}\n",
       "\n",
       ".xr-var-data > table {\n",
       "  float: right;\n",
       "}\n",
       "\n",
       ".xr-var-name span,\n",
       ".xr-var-data,\n",
       ".xr-attrs {\n",
       "  padding-left: 25px !important;\n",
       "}\n",
       "\n",
       ".xr-attrs,\n",
       ".xr-var-attrs,\n",
       ".xr-var-data {\n",
       "  grid-column: 1 / -1;\n",
       "}\n",
       "\n",
       "dl.xr-attrs {\n",
       "  padding: 0;\n",
       "  margin: 0;\n",
       "  display: grid;\n",
       "  grid-template-columns: 125px auto;\n",
       "}\n",
       "\n",
       ".xr-attrs dt,\n",
       ".xr-attrs dd {\n",
       "  padding: 0;\n",
       "  margin: 0;\n",
       "  float: left;\n",
       "  padding-right: 10px;\n",
       "  width: auto;\n",
       "}\n",
       "\n",
       ".xr-attrs dt {\n",
       "  font-weight: normal;\n",
       "  grid-column: 1;\n",
       "}\n",
       "\n",
       ".xr-attrs dt:hover span {\n",
       "  display: inline-block;\n",
       "  background: var(--xr-background-color);\n",
       "  padding-right: 10px;\n",
       "}\n",
       "\n",
       ".xr-attrs dd {\n",
       "  grid-column: 2;\n",
       "  white-space: pre-wrap;\n",
       "  word-break: break-all;\n",
       "}\n",
       "\n",
       ".xr-icon-database,\n",
       ".xr-icon-file-text2 {\n",
       "  display: inline-block;\n",
       "  vertical-align: middle;\n",
       "  width: 1em;\n",
       "  height: 1.5em !important;\n",
       "  stroke-width: 0;\n",
       "  stroke: currentColor;\n",
       "  fill: currentColor;\n",
       "}\n",
       "</style><pre class='xr-text-repr-fallback'>&lt;xarray.Dataset&gt;\n",
       "Dimensions:  (Time: 29216, lat: 10, lev: 10, lon: 10)\n",
       "Coordinates:\n",
       "  * Time     (Time) datetime64[ns] 2010-01-01 ... 2019-12-31T21:00:00\n",
       "  * lat      (lat) float32 32.5 33.5 34.5 35.5 36.5 37.5 38.5 39.5 40.5 41.5\n",
       "  * lon      (lon) float32 -119.5 -118.5 -117.5 -116.5 ... -112.5 -111.5 -110.5\n",
       "  * lev      (lev) int32 1000 900 800 700 600 500 400 300 200 100\n",
       "Data variables:\n",
       "    F        (Time, lat, lon) float32 ...\n",
       "    pcp      (Time, lat, lon) float32 ...\n",
       "    cape     (Time, lat, lon) float64 ...\n",
       "    t        (Time, lev, lat, lon) float64 ...\n",
       "    q        (Time, lev, lat, lon) float64 ...\n",
       "    z        (Time, lev, lat, lon) float64 ...\n",
       "    CP       (Time, lat, lon) float64 ...\n",
       "    TO       (Time, lat, lon) float64 ...</pre><div class='xr-wrap' hidden><div class='xr-header'><div class='xr-obj-type'>xarray.Dataset</div></div><ul class='xr-sections'><li class='xr-section-item'><input id='section-00c4c4c6-00b7-436c-8874-1469b8ecc657' class='xr-section-summary-in' type='checkbox' disabled ><label for='section-00c4c4c6-00b7-436c-8874-1469b8ecc657' class='xr-section-summary'  title='Expand/collapse section'>Dimensions:</label><div class='xr-section-inline-details'><ul class='xr-dim-list'><li><span class='xr-has-index'>Time</span>: 29216</li><li><span class='xr-has-index'>lat</span>: 10</li><li><span class='xr-has-index'>lev</span>: 10</li><li><span class='xr-has-index'>lon</span>: 10</li></ul></div><div class='xr-section-details'></div></li><li class='xr-section-item'><input id='section-125fdbdd-51a1-43b4-8104-4b8df3024e81' class='xr-section-summary-in' type='checkbox'  checked><label for='section-125fdbdd-51a1-43b4-8104-4b8df3024e81' class='xr-section-summary' >Coordinates: <span>(4)</span></label><div class='xr-section-inline-details'></div><div class='xr-section-details'><ul class='xr-var-list'><li class='xr-var-item'><div class='xr-var-name'><span class='xr-has-index'>Time</span></div><div class='xr-var-dims'>(Time)</div><div class='xr-var-dtype'>datetime64[ns]</div><div class='xr-var-preview xr-preview'>2010-01-01 ... 2019-12-31T21:00:00</div><input id='attrs-3f1861de-9f66-43f0-84bb-28de8a537add' class='xr-var-attrs-in' type='checkbox' disabled><label for='attrs-3f1861de-9f66-43f0-84bb-28de8a537add' title='Show/Hide attributes'><svg class='icon xr-icon-file-text2'><use xlink:href='#icon-file-text2'></use></svg></label><input id='data-bbea3e03-71bc-4922-a8c8-12809bf10ceb' class='xr-var-data-in' type='checkbox'><label for='data-bbea3e03-71bc-4922-a8c8-12809bf10ceb' title='Show/Hide data repr'><svg class='icon xr-icon-database'><use xlink:href='#icon-database'></use></svg></label><div class='xr-var-attrs'><dl class='xr-attrs'></dl></div><div class='xr-var-data'><pre>array([&#x27;2010-01-01T00:00:00.000000000&#x27;, &#x27;2010-01-01T03:00:00.000000000&#x27;,\n",
       "       &#x27;2010-01-01T06:00:00.000000000&#x27;, ..., &#x27;2019-12-31T15:00:00.000000000&#x27;,\n",
       "       &#x27;2019-12-31T18:00:00.000000000&#x27;, &#x27;2019-12-31T21:00:00.000000000&#x27;],\n",
       "      dtype=&#x27;datetime64[ns]&#x27;)</pre></div></li><li class='xr-var-item'><div class='xr-var-name'><span class='xr-has-index'>lat</span></div><div class='xr-var-dims'>(lat)</div><div class='xr-var-dtype'>float32</div><div class='xr-var-preview xr-preview'>32.5 33.5 34.5 ... 39.5 40.5 41.5</div><input id='attrs-2e58f1e3-88de-4202-908f-864fff52b7a6' class='xr-var-attrs-in' type='checkbox' ><label for='attrs-2e58f1e3-88de-4202-908f-864fff52b7a6' title='Show/Hide attributes'><svg class='icon xr-icon-file-text2'><use xlink:href='#icon-file-text2'></use></svg></label><input id='data-226a79f7-472e-458e-8c20-62b4653ef423' class='xr-var-data-in' type='checkbox'><label for='data-226a79f7-472e-458e-8c20-62b4653ef423' title='Show/Hide data repr'><svg class='icon xr-icon-database'><use xlink:href='#icon-database'></use></svg></label><div class='xr-var-attrs'><dl class='xr-attrs'><dt><span>units :</span></dt><dd>degrees_north</dd></dl></div><div class='xr-var-data'><pre>array([32.5, 33.5, 34.5, 35.5, 36.5, 37.5, 38.5, 39.5, 40.5, 41.5],\n",
       "      dtype=float32)</pre></div></li><li class='xr-var-item'><div class='xr-var-name'><span class='xr-has-index'>lon</span></div><div class='xr-var-dims'>(lon)</div><div class='xr-var-dtype'>float32</div><div class='xr-var-preview xr-preview'>-119.5 -118.5 ... -111.5 -110.5</div><input id='attrs-1ea4e103-9a12-47b5-b7c2-0186e3ec80d8' class='xr-var-attrs-in' type='checkbox' ><label for='attrs-1ea4e103-9a12-47b5-b7c2-0186e3ec80d8' title='Show/Hide attributes'><svg class='icon xr-icon-file-text2'><use xlink:href='#icon-file-text2'></use></svg></label><input id='data-ff405d53-2a0f-4053-b08d-892c9e27a71f' class='xr-var-data-in' type='checkbox'><label for='data-ff405d53-2a0f-4053-b08d-892c9e27a71f' title='Show/Hide data repr'><svg class='icon xr-icon-database'><use xlink:href='#icon-database'></use></svg></label><div class='xr-var-attrs'><dl class='xr-attrs'><dt><span>units :</span></dt><dd>degrees_east</dd></dl></div><div class='xr-var-data'><pre>array([-119.5, -118.5, -117.5, -116.5, -115.5, -114.5, -113.5, -112.5, -111.5,\n",
       "       -110.5], dtype=float32)</pre></div></li><li class='xr-var-item'><div class='xr-var-name'><span class='xr-has-index'>lev</span></div><div class='xr-var-dims'>(lev)</div><div class='xr-var-dtype'>int32</div><div class='xr-var-preview xr-preview'>1000 900 800 700 ... 300 200 100</div><input id='attrs-1c618e60-5b98-4bf4-948c-d41240b520ba' class='xr-var-attrs-in' type='checkbox' ><label for='attrs-1c618e60-5b98-4bf4-948c-d41240b520ba' title='Show/Hide attributes'><svg class='icon xr-icon-file-text2'><use xlink:href='#icon-file-text2'></use></svg></label><input id='data-a0ae0be9-63d8-4270-9457-204c3601fe82' class='xr-var-data-in' type='checkbox'><label for='data-a0ae0be9-63d8-4270-9457-204c3601fe82' title='Show/Hide data repr'><svg class='icon xr-icon-database'><use xlink:href='#icon-database'></use></svg></label><div class='xr-var-attrs'><dl class='xr-attrs'><dt><span>units :</span></dt><dd>millibars</dd><dt><span>long_name :</span></dt><dd>pressure_level</dd></dl></div><div class='xr-var-data'><pre>array([1000,  900,  800,  700,  600,  500,  400,  300,  200,  100], dtype=int32)</pre></div></li></ul></div></li><li class='xr-section-item'><input id='section-4614fcb4-a734-428b-8030-96ff7aab6daa' class='xr-section-summary-in' type='checkbox'  checked><label for='section-4614fcb4-a734-428b-8030-96ff7aab6daa' class='xr-section-summary' >Data variables: <span>(8)</span></label><div class='xr-section-inline-details'></div><div class='xr-section-details'><ul class='xr-var-list'><li class='xr-var-item'><div class='xr-var-name'><span>F</span></div><div class='xr-var-dims'>(Time, lat, lon)</div><div class='xr-var-dtype'>float32</div><div class='xr-var-preview xr-preview'>...</div><input id='attrs-fde492fe-8fa7-4c12-a9b6-08d82d3ee7fb' class='xr-var-attrs-in' type='checkbox' disabled><label for='attrs-fde492fe-8fa7-4c12-a9b6-08d82d3ee7fb' title='Show/Hide attributes'><svg class='icon xr-icon-file-text2'><use xlink:href='#icon-file-text2'></use></svg></label><input id='data-29cf2ce0-fdc8-4251-a359-e3666ac02fac' class='xr-var-data-in' type='checkbox'><label for='data-29cf2ce0-fdc8-4251-a359-e3666ac02fac' title='Show/Hide data repr'><svg class='icon xr-icon-database'><use xlink:href='#icon-database'></use></svg></label><div class='xr-var-attrs'><dl class='xr-attrs'></dl></div><div class='xr-var-data'><pre>[2921600 values with dtype=float32]</pre></div></li><li class='xr-var-item'><div class='xr-var-name'><span>pcp</span></div><div class='xr-var-dims'>(Time, lat, lon)</div><div class='xr-var-dtype'>float32</div><div class='xr-var-preview xr-preview'>...</div><input id='attrs-9da34ae8-75e4-4928-aea8-b2b1e2b5d588' class='xr-var-attrs-in' type='checkbox' disabled><label for='attrs-9da34ae8-75e4-4928-aea8-b2b1e2b5d588' title='Show/Hide attributes'><svg class='icon xr-icon-file-text2'><use xlink:href='#icon-file-text2'></use></svg></label><input id='data-a4dac087-0fd7-4fa6-9c5f-b5361c452163' class='xr-var-data-in' type='checkbox'><label for='data-a4dac087-0fd7-4fa6-9c5f-b5361c452163' title='Show/Hide data repr'><svg class='icon xr-icon-database'><use xlink:href='#icon-database'></use></svg></label><div class='xr-var-attrs'><dl class='xr-attrs'></dl></div><div class='xr-var-data'><pre>[2921600 values with dtype=float32]</pre></div></li><li class='xr-var-item'><div class='xr-var-name'><span>cape</span></div><div class='xr-var-dims'>(Time, lat, lon)</div><div class='xr-var-dtype'>float64</div><div class='xr-var-preview xr-preview'>...</div><input id='attrs-69c6da4f-d79f-4ae5-b7b5-dc125428a06c' class='xr-var-attrs-in' type='checkbox' disabled><label for='attrs-69c6da4f-d79f-4ae5-b7b5-dc125428a06c' title='Show/Hide attributes'><svg class='icon xr-icon-file-text2'><use xlink:href='#icon-file-text2'></use></svg></label><input id='data-c44b84d3-038a-4a7c-b7f1-7fa173b5e472' class='xr-var-data-in' type='checkbox'><label for='data-c44b84d3-038a-4a7c-b7f1-7fa173b5e472' title='Show/Hide data repr'><svg class='icon xr-icon-database'><use xlink:href='#icon-database'></use></svg></label><div class='xr-var-attrs'><dl class='xr-attrs'></dl></div><div class='xr-var-data'><pre>[2921600 values with dtype=float64]</pre></div></li><li class='xr-var-item'><div class='xr-var-name'><span>t</span></div><div class='xr-var-dims'>(Time, lev, lat, lon)</div><div class='xr-var-dtype'>float64</div><div class='xr-var-preview xr-preview'>...</div><input id='attrs-e80c419e-ba54-493d-945e-a8a60a2970af' class='xr-var-attrs-in' type='checkbox' disabled><label for='attrs-e80c419e-ba54-493d-945e-a8a60a2970af' title='Show/Hide attributes'><svg class='icon xr-icon-file-text2'><use xlink:href='#icon-file-text2'></use></svg></label><input id='data-b808f114-6d60-428d-8703-88567d467d0d' class='xr-var-data-in' type='checkbox'><label for='data-b808f114-6d60-428d-8703-88567d467d0d' title='Show/Hide data repr'><svg class='icon xr-icon-database'><use xlink:href='#icon-database'></use></svg></label><div class='xr-var-attrs'><dl class='xr-attrs'></dl></div><div class='xr-var-data'><pre>[29216000 values with dtype=float64]</pre></div></li><li class='xr-var-item'><div class='xr-var-name'><span>q</span></div><div class='xr-var-dims'>(Time, lev, lat, lon)</div><div class='xr-var-dtype'>float64</div><div class='xr-var-preview xr-preview'>...</div><input id='attrs-3c5dc304-a0fe-4702-9515-6b51e129bdf5' class='xr-var-attrs-in' type='checkbox' disabled><label for='attrs-3c5dc304-a0fe-4702-9515-6b51e129bdf5' title='Show/Hide attributes'><svg class='icon xr-icon-file-text2'><use xlink:href='#icon-file-text2'></use></svg></label><input id='data-f0b14bc3-b543-4b35-9c6c-c44c0e4dd864' class='xr-var-data-in' type='checkbox'><label for='data-f0b14bc3-b543-4b35-9c6c-c44c0e4dd864' title='Show/Hide data repr'><svg class='icon xr-icon-database'><use xlink:href='#icon-database'></use></svg></label><div class='xr-var-attrs'><dl class='xr-attrs'></dl></div><div class='xr-var-data'><pre>[29216000 values with dtype=float64]</pre></div></li><li class='xr-var-item'><div class='xr-var-name'><span>z</span></div><div class='xr-var-dims'>(Time, lev, lat, lon)</div><div class='xr-var-dtype'>float64</div><div class='xr-var-preview xr-preview'>...</div><input id='attrs-1bda7858-5a8a-46bb-b0bb-fc0bf997f1c1' class='xr-var-attrs-in' type='checkbox' disabled><label for='attrs-1bda7858-5a8a-46bb-b0bb-fc0bf997f1c1' title='Show/Hide attributes'><svg class='icon xr-icon-file-text2'><use xlink:href='#icon-file-text2'></use></svg></label><input id='data-db8ba798-0d38-42d8-ab38-965fb192a813' class='xr-var-data-in' type='checkbox'><label for='data-db8ba798-0d38-42d8-ab38-965fb192a813' title='Show/Hide data repr'><svg class='icon xr-icon-database'><use xlink:href='#icon-database'></use></svg></label><div class='xr-var-attrs'><dl class='xr-attrs'></dl></div><div class='xr-var-data'><pre>[29216000 values with dtype=float64]</pre></div></li><li class='xr-var-item'><div class='xr-var-name'><span>CP</span></div><div class='xr-var-dims'>(Time, lat, lon)</div><div class='xr-var-dtype'>float64</div><div class='xr-var-preview xr-preview'>...</div><input id='attrs-868993ac-9f2f-4e01-943a-a7ca789d1750' class='xr-var-attrs-in' type='checkbox' disabled><label for='attrs-868993ac-9f2f-4e01-943a-a7ca789d1750' title='Show/Hide attributes'><svg class='icon xr-icon-file-text2'><use xlink:href='#icon-file-text2'></use></svg></label><input id='data-a91d0e80-5b03-4771-bd67-7b68f9b3fd39' class='xr-var-data-in' type='checkbox'><label for='data-a91d0e80-5b03-4771-bd67-7b68f9b3fd39' title='Show/Hide data repr'><svg class='icon xr-icon-database'><use xlink:href='#icon-database'></use></svg></label><div class='xr-var-attrs'><dl class='xr-attrs'></dl></div><div class='xr-var-data'><pre>[2921600 values with dtype=float64]</pre></div></li><li class='xr-var-item'><div class='xr-var-name'><span>TO</span></div><div class='xr-var-dims'>(Time, lat, lon)</div><div class='xr-var-dtype'>float64</div><div class='xr-var-preview xr-preview'>...</div><input id='attrs-21166e06-1cb8-4f58-99c7-fc9266022473' class='xr-var-attrs-in' type='checkbox' disabled><label for='attrs-21166e06-1cb8-4f58-99c7-fc9266022473' title='Show/Hide attributes'><svg class='icon xr-icon-file-text2'><use xlink:href='#icon-file-text2'></use></svg></label><input id='data-263282de-b694-4ebe-abcd-1816dba644cd' class='xr-var-data-in' type='checkbox'><label for='data-263282de-b694-4ebe-abcd-1816dba644cd' title='Show/Hide data repr'><svg class='icon xr-icon-database'><use xlink:href='#icon-database'></use></svg></label><div class='xr-var-attrs'><dl class='xr-attrs'></dl></div><div class='xr-var-data'><pre>[2921600 values with dtype=float64]</pre></div></li></ul></div></li><li class='xr-section-item'><input id='section-5d05e261-b2be-46cb-9f81-dea1bc04d123' class='xr-section-summary-in' type='checkbox' disabled ><label for='section-5d05e261-b2be-46cb-9f81-dea1bc04d123' class='xr-section-summary'  title='Expand/collapse section'>Attributes: <span>(0)</span></label><div class='xr-section-inline-details'></div><div class='xr-section-details'><dl class='xr-attrs'></dl></div></li></ul></div></div>"
      ],
      "text/plain": [
       "<xarray.Dataset>\n",
       "Dimensions:  (Time: 29216, lat: 10, lev: 10, lon: 10)\n",
       "Coordinates:\n",
       "  * Time     (Time) datetime64[ns] 2010-01-01 ... 2019-12-31T21:00:00\n",
       "  * lat      (lat) float32 32.5 33.5 34.5 35.5 36.5 37.5 38.5 39.5 40.5 41.5\n",
       "  * lon      (lon) float32 -119.5 -118.5 -117.5 -116.5 ... -112.5 -111.5 -110.5\n",
       "  * lev      (lev) int32 1000 900 800 700 600 500 400 300 200 100\n",
       "Data variables:\n",
       "    F        (Time, lat, lon) float32 ...\n",
       "    pcp      (Time, lat, lon) float32 ...\n",
       "    cape     (Time, lat, lon) float64 ...\n",
       "    t        (Time, lev, lat, lon) float64 ...\n",
       "    q        (Time, lev, lat, lon) float64 ...\n",
       "    z        (Time, lev, lat, lon) float64 ...\n",
       "    CP       (Time, lat, lon) float64 ...\n",
       "    TO       (Time, lat, lon) float64 ..."
      ]
     },
     "metadata": {},
     "output_type": "display_data"
    }
   ],
   "source": [
    "dataset = xr.open_dataset(main_dir+'data/US/dataset/dataset_CAL.nc')\n",
    "display(dataset)"
   ]
  },
  {
   "cell_type": "markdown",
   "id": "artistic-therapist",
   "metadata": {},
   "source": [
    "# Set country borders"
   ]
  },
  {
   "cell_type": "code",
   "execution_count": null,
   "id": "european-figure",
   "metadata": {},
   "outputs": [],
   "source": [
    "import regionmask\n",
    "import geopandas as gpd"
   ]
  },
  {
   "cell_type": "code",
   "execution_count": null,
   "id": "diagnostic-creek",
   "metadata": {},
   "outputs": [],
   "source": [
    "PATH_TO_SHAPEFILE = '/home/disk/eos10/wycheng/LightningMachineLearning/data/WorldCountriesBoundaries/99bfd9e7-bb42-4728-87b5-07f8c8ac631c2020328-1-1vef4ev.lu5nk.shp'\n",
    "countries = gpd.read_file(PATH_TO_SHAPEFILE)"
   ]
  },
  {
   "cell_type": "code",
   "execution_count": null,
   "id": "dried-vermont",
   "metadata": {},
   "outputs": [],
   "source": []
  },
  {
   "cell_type": "markdown",
   "id": "injured-country",
   "metadata": {},
   "source": [
    "# ML Setup"
   ]
  },
  {
   "cell_type": "code",
   "execution_count": null,
   "id": "printable-above",
   "metadata": {},
   "outputs": [],
   "source": [
    "from imblearn.under_sampling import RandomUnderSampler\n",
    "from sklearn.model_selection import validation_curve\n",
    "from sklearn.model_selection import learning_curve\n",
    "from sklearn.model_selection import train_test_split\n",
    "from sklearn.metrics import accuracy_score, precision_score, average_precision_score, recall_score, f1_score, roc_auc_score, confusion_matrix\n",
    "from sklearn.metrics import plot_roc_curve, plot_precision_recall_curve\n",
    "from sklearn.metrics import roc_curve, precision_recall_curve\n",
    "from sklearn.metrics import auc"
   ]
  },
  {
   "cell_type": "code",
   "execution_count": null,
   "id": "adolescent-great",
   "metadata": {},
   "outputs": [],
   "source": [
    "dataset = dataset.assign(TO=lambda dataset: 1.0*(dataset.F>0))"
   ]
  },
  {
   "cell_type": "code",
   "execution_count": null,
   "id": "clear-restriction",
   "metadata": {},
   "outputs": [],
   "source": [
    "dataframe = dataset.where( (dataset.island == 1) ).to_dataframe().dropna(axis=0)\n",
    "dataframe"
   ]
  },
  {
   "cell_type": "code",
   "execution_count": null,
   "id": "passing-heritage",
   "metadata": {},
   "outputs": [],
   "source": [
    "feature_name   = ['pcp','cape']\n",
    "output_name    = ['TO']"
   ]
  },
  {
   "cell_type": "code",
   "execution_count": null,
   "id": "suffering-wings",
   "metadata": {},
   "outputs": [],
   "source": [
    "X = dataframe.drop(output_name,axis=1)\n",
    "y = dataframe[output_name] \n",
    "\n",
    "undersample = RandomUnderSampler(sampling_strategy=0.33)\n",
    "                   \n",
    "X_train_raw, X_test, y_train_raw, y_test = train_test_split(X, y, test_size=0.33, random_state=0)\n",
    "X_train, y_train = undersample.fit_resample(X_train_raw, y_train_raw)\n",
    "\n",
    "y_predict_truth = y_test[output_name].values.ravel()"
   ]
  },
  {
   "cell_type": "code",
   "execution_count": null,
   "id": "inner-ridge",
   "metadata": {},
   "outputs": [],
   "source": [
    "n_models = 5\n",
    "AUCROC = np.zeros((n_models))\n",
    "AUCPRC = np.zeros((n_models))"
   ]
  },
  {
   "cell_type": "markdown",
   "id": "failing-transition",
   "metadata": {},
   "source": [
    "## R14"
   ]
  },
  {
   "cell_type": "code",
   "execution_count": null,
   "id": "existing-preparation",
   "metadata": {},
   "outputs": [],
   "source": [
    "import scipy as sp\n",
    "from sklearn.metrics import accuracy_score, precision_score, f1_score, confusion_matrix\n",
    "from sklearn.preprocessing import normalize"
   ]
  },
  {
   "cell_type": "code",
   "execution_count": null,
   "id": "guided-structure",
   "metadata": {},
   "outputs": [],
   "source": [
    "class R14:\n",
    "    \n",
    "    def fit(CAPE,pcp,y):\n",
    "\n",
    "        thrs = sp.optimize.fminbound(lambda x: -f1_score(y, ((CAPE*pcp > x) * 1.0).astype(int)), 0, 4000)\n",
    "        fval = f1_score(y, ((CAPE*pcp >= thrs) * 1.0).astype(int))\n",
    "        \n",
    "        return thrs, fval\n",
    "    \n",
    "    def predict(CAPE,pcp,thrs):\n",
    "        \n",
    "        y_predict = ((CAPE*pcp >= thrs) * 1.0).astype(int)\n",
    "        y_predict_proba = CAPE*pcp\n",
    "        \n",
    "        return y_predict, y_predict_proba/np.max(y_predict_proba)"
   ]
  },
  {
   "cell_type": "code",
   "execution_count": null,
   "id": "reverse-listening",
   "metadata": {},
   "outputs": [],
   "source": [
    "[r14_thrs,fval] = R14.fit(X_train['cape'],X_train['pcp'],y_train)"
   ]
  },
  {
   "cell_type": "code",
   "execution_count": null,
   "id": "aggressive-livestock",
   "metadata": {},
   "outputs": [],
   "source": [
    "y_predict_r14, y_score_r14 = R14.predict(X_test['cape'],X_test['pcp'],r14_thrs)"
   ]
  },
  {
   "cell_type": "code",
   "execution_count": null,
   "id": "efficient-haiti",
   "metadata": {},
   "outputs": [],
   "source": [
    "precision, recall, thresholds = precision_recall_curve(y_predict_truth, y_score_r14)\n",
    "AUCROC[0] = roc_auc_score(y_predict_truth, y_score_r14)\n",
    "AUCPRC[0] = auc(recall, precision)"
   ]
  },
  {
   "cell_type": "markdown",
   "id": "indonesian-toyota",
   "metadata": {},
   "source": [
    "## Logistic Regression"
   ]
  },
  {
   "cell_type": "code",
   "execution_count": null,
   "id": "patient-atlanta",
   "metadata": {},
   "outputs": [],
   "source": [
    "from sklearn.linear_model import LogisticRegression"
   ]
  },
  {
   "cell_type": "code",
   "execution_count": null,
   "id": "dying-compensation",
   "metadata": {},
   "outputs": [],
   "source": [
    "lrclf = LogisticRegression(random_state=0).fit(X_train[feature_name], y_train[output_name].values.ravel())"
   ]
  },
  {
   "cell_type": "code",
   "execution_count": null,
   "id": "environmental-copyright",
   "metadata": {},
   "outputs": [],
   "source": [
    "y_predict_lrclf = lrclf.predict(X_test[feature_name])"
   ]
  },
  {
   "cell_type": "code",
   "execution_count": null,
   "id": "quarterly-plenty",
   "metadata": {},
   "outputs": [],
   "source": [
    "y_score_lrclf = lrclf.predict_proba(X_test[feature_name])[:,1]"
   ]
  },
  {
   "cell_type": "code",
   "execution_count": null,
   "id": "driving-yellow",
   "metadata": {},
   "outputs": [],
   "source": [
    "precision, recall, thresholds = precision_recall_curve(y_predict_truth, y_score_lrclf)\n",
    "AUCROC[1]   = roc_auc_score(y_predict_truth, y_score_lrclf)\n",
    "AUCPRC[1]   = auc(recall, precision)"
   ]
  },
  {
   "cell_type": "markdown",
   "id": "romance-punishment",
   "metadata": {},
   "source": [
    "## Decision Trees"
   ]
  },
  {
   "cell_type": "code",
   "execution_count": null,
   "id": "favorite-collectible",
   "metadata": {},
   "outputs": [],
   "source": [
    "from sklearn.tree import DecisionTreeClassifier"
   ]
  },
  {
   "cell_type": "code",
   "execution_count": null,
   "id": "personalized-termination",
   "metadata": {},
   "outputs": [],
   "source": [
    "dtclf = DecisionTreeClassifier(max_depth=5)\n",
    "\n",
    "dtclf.fit(X_train[feature_name], y_train[output_name].values.ravel())"
   ]
  },
  {
   "cell_type": "code",
   "execution_count": null,
   "id": "resident-romance",
   "metadata": {},
   "outputs": [],
   "source": [
    "y_predict_dtclf = dtclf.predict(X_test[feature_name])"
   ]
  },
  {
   "cell_type": "code",
   "execution_count": null,
   "id": "stuck-pickup",
   "metadata": {},
   "outputs": [],
   "source": [
    "y_score_dtclf = dtclf.predict_proba(X_test[feature_name])[:,1]"
   ]
  },
  {
   "cell_type": "code",
   "execution_count": null,
   "id": "macro-briefs",
   "metadata": {},
   "outputs": [],
   "source": [
    "precision, recall, thresholds = precision_recall_curve(y_predict_truth, y_score_dtclf)\n",
    "AUCROC[2]   = roc_auc_score(y_predict_truth, y_score_dtclf)\n",
    "AUCPRC[2]   = auc(recall, precision)"
   ]
  },
  {
   "cell_type": "markdown",
   "id": "documentary-transcript",
   "metadata": {},
   "source": [
    "## RFC"
   ]
  },
  {
   "cell_type": "code",
   "execution_count": null,
   "id": "experimental-catch",
   "metadata": {},
   "outputs": [],
   "source": [
    "from sklearn.ensemble import RandomForestClassifier"
   ]
  },
  {
   "cell_type": "code",
   "execution_count": null,
   "id": "floral-legislation",
   "metadata": {},
   "outputs": [],
   "source": [
    "rfclf = RandomForestClassifier(n_estimators=10, \n",
    "                               max_depth=4,\n",
    "                               min_samples_split=10,\n",
    "                               random_state=0)\n",
    "    \n",
    "rfclf.fit(X_train[feature_name], y_train[output_name].values.ravel())"
   ]
  },
  {
   "cell_type": "code",
   "execution_count": null,
   "id": "precise-editing",
   "metadata": {},
   "outputs": [],
   "source": [
    "y_predict_rfclf = rfclf.predict(X_test[feature_name])"
   ]
  },
  {
   "cell_type": "code",
   "execution_count": null,
   "id": "built-naples",
   "metadata": {},
   "outputs": [],
   "source": [
    "y_score_rfclf = rfclf.predict_proba(X_test[feature_name])[:,1]"
   ]
  },
  {
   "cell_type": "code",
   "execution_count": null,
   "id": "grateful-stack",
   "metadata": {},
   "outputs": [],
   "source": [
    "precision, recall, thresholds = precision_recall_curve(y_predict_truth, y_score_rfclf)\n",
    "AUCROC[3]   = roc_auc_score(y_predict_truth, y_score_rfclf)\n",
    "AUCPRC[3]   = auc(recall, precision)"
   ]
  },
  {
   "cell_type": "markdown",
   "id": "ongoing-bishop",
   "metadata": {},
   "source": [
    "## Neural Network Classifier"
   ]
  },
  {
   "cell_type": "code",
   "execution_count": null,
   "id": "authentic-romance",
   "metadata": {},
   "outputs": [],
   "source": [
    "from sklearn.neural_network import MLPClassifier"
   ]
  },
  {
   "cell_type": "code",
   "execution_count": null,
   "id": "aging-interest",
   "metadata": {},
   "outputs": [],
   "source": [
    "mlpclf = MLPClassifier(solver='lbfgs', alpha=1e-5,\n",
    "                       hidden_layer_sizes=(5, 2), random_state=1)\n",
    "\n",
    "mlpclf.fit(X_train[feature_name], y_train[output_name].values.ravel())"
   ]
  },
  {
   "cell_type": "code",
   "execution_count": null,
   "id": "continued-failure",
   "metadata": {},
   "outputs": [],
   "source": [
    "y_predict_mlpclf = mlpclf.predict(X_test[feature_name])"
   ]
  },
  {
   "cell_type": "code",
   "execution_count": null,
   "id": "defined-oakland",
   "metadata": {},
   "outputs": [],
   "source": [
    "y_score_mlpclf = mlpclf.predict_proba(X_test[feature_name])[:,1]"
   ]
  },
  {
   "cell_type": "code",
   "execution_count": null,
   "id": "minimal-ireland",
   "metadata": {},
   "outputs": [],
   "source": [
    "precision, recall, thresholds = precision_recall_curve(y_predict_truth, y_score_mlpclf)\n",
    "AUCROC[4]   = roc_auc_score(y_predict_truth, y_score_mlpclf)\n",
    "AUCPRC[4]   = auc(recall, precision)"
   ]
  },
  {
   "cell_type": "markdown",
   "id": "floating-index",
   "metadata": {},
   "source": [
    "## Evaluating Model Performance"
   ]
  },
  {
   "cell_type": "code",
   "execution_count": null,
   "id": "attractive-ethernet",
   "metadata": {},
   "outputs": [],
   "source": [
    "models  = ['r14','lrclf','dtclf','rfclf','mlpclf']\n",
    "model_names = ['R14','LR','DT','RF','NN']\n",
    "colors  = ['k','b','orange','g','r','purple']\n",
    "markers = ['.','v','s','p','*','x','d']"
   ]
  },
  {
   "cell_type": "code",
   "execution_count": null,
   "id": "united-episode",
   "metadata": {},
   "outputs": [],
   "source": [
    "fig, ax = plt.subplots()\n",
    "\n",
    "for imodel in np.arange(0,n_models,1):\n",
    "    exec( 'fpr, tpr, threshold = roc_curve(y_predict_truth, y_score_'+models[imodel]+')' )\n",
    "    roc_auc = auc(fpr, tpr)\n",
    "    ax.plot(fpr, tpr, c=colors[imodel], label = model_names[imodel]+' (AUC = %0.2f)'% roc_auc)\n",
    "    \n",
    "plt.xlabel('False Alarm Rate')\n",
    "plt.ylabel('True Positive Rate')\n",
    "plt.legend(fontsize=12,loc='best')\n",
    "plt.show()  "
   ]
  },
  {
   "cell_type": "code",
   "execution_count": null,
   "id": "dirty-community",
   "metadata": {},
   "outputs": [],
   "source": [
    "fig, ax = plt.subplots()\n",
    "\n",
    "for imodel in np.arange(0,n_models,1):\n",
    "    exec( 'precision, recall, thresholds = precision_recall_curve(y_predict_truth, y_score_'+models[imodel]+')' )\n",
    "    pr_auc = auc(recall, precision)\n",
    "    ax.plot(precision, recall, c=colors[imodel], label = model_names[imodel]+' (AUC = %0.2f)'% pr_auc)\n",
    "    \n",
    "plt.xlabel('Recall')\n",
    "plt.ylabel('Precision')\n",
    "plt.legend(fontsize=12,loc='best')\n",
    "plt.show()  "
   ]
  },
  {
   "cell_type": "code",
   "execution_count": null,
   "id": "accepting-junior",
   "metadata": {},
   "outputs": [],
   "source": [
    "fig, ax = plt.subplots()\n",
    "\n",
    "for imodel in np.arange(0,n_models,1):\n",
    "    ax.scatter(AUCPRC[imodel],AUCROC[imodel], c=colors[imodel], marker=markers[imodel],label=model_names[imodel])\n",
    "\n",
    "ax.set_title('Model skill')\n",
    "ax.set_xlabel('Area under PR curve')\n",
    "ax.set_ylabel('Area under ROC curve')\n",
    "#ax.set_xlim([0.25,0.5])\n",
    "#ax.set_ylim([0.7,0.95])\n",
    "ax.legend(loc='best')"
   ]
  },
  {
   "cell_type": "markdown",
   "id": "ordinary-surprise",
   "metadata": {},
   "source": [
    "# Examine the performance for dry thunderstorms"
   ]
  },
  {
   "cell_type": "code",
   "execution_count": null,
   "id": "black-creator",
   "metadata": {},
   "outputs": [],
   "source": [
    "pcp_thrs = 0.01\n",
    "Xdt_test = X_test.where(X_test['pcp']<pcp_thrs).dropna()\n",
    "ydt_predict_truth = y_test[output_name].where(X_test.pcp<pcp_thrs).dropna().values.ravel()"
   ]
  },
  {
   "cell_type": "markdown",
   "id": "killing-composite",
   "metadata": {},
   "source": [
    "the ratio between dry thunderstorms and total thunderstorms"
   ]
  },
  {
   "cell_type": "code",
   "execution_count": null,
   "id": "square-moral",
   "metadata": {},
   "outputs": [],
   "source": [
    "print(y_test.where(y_test['TO']>0).where(X_test.pcp<pcp_thrs).count()/y_test.where(y_test['TO']>0).count())"
   ]
  },
  {
   "cell_type": "code",
   "execution_count": null,
   "id": "handled-anger",
   "metadata": {},
   "outputs": [],
   "source": [
    "ydt_predict_r14, ydt_score0 = R14.predict(Xdt_test['cape'],Xdt_test['pcp'],r14_thrs)"
   ]
  },
  {
   "cell_type": "code",
   "execution_count": null,
   "id": "stuck-ceiling",
   "metadata": {},
   "outputs": [],
   "source": [
    "AUCROC = np.zeros((n_models))\n",
    "AUCPRC = np.zeros((n_models))"
   ]
  },
  {
   "cell_type": "code",
   "execution_count": null,
   "id": "packed-brave",
   "metadata": {},
   "outputs": [],
   "source": [
    "ydt_predict_r14,    ydt_score_r14     = R14.predict(Xdt_test['cape'],Xdt_test['pcp'],r14_thrs)\n",
    "\n",
    "ydt_score_lrclf   = lrclf.predict_proba(Xdt_test[feature_name])[:,1]\n",
    "ydt_score_dtclf   = dtclf.predict_proba(Xdt_test[feature_name])[:,1]\n",
    "ydt_score_rfclf   = rfclf.predict_proba(Xdt_test[feature_name])[:,1]\n",
    "ydt_score_mlpclf  = mlpclf.predict_proba(Xdt_test[feature_name])[:,1]"
   ]
  },
  {
   "cell_type": "code",
   "execution_count": null,
   "id": "pretty-martial",
   "metadata": {},
   "outputs": [],
   "source": [
    "precision, recall, thresholds = precision_recall_curve(ydt_predict_truth, ydt_score_r14)\n",
    "AUCROC[0] = roc_auc_score(ydt_predict_truth, ydt_score_r14)\n",
    "AUCPRC[0] = auc(recall, precision)\n",
    "\n",
    "precision, recall, thresholds = precision_recall_curve(ydt_predict_truth, ydt_score_lrclf)\n",
    "AUCROC[1] = roc_auc_score(ydt_predict_truth, ydt_score_lrclf)\n",
    "AUCPRC[1] = auc(recall, precision)\n",
    "\n",
    "precision, recall, thresholds = precision_recall_curve(ydt_predict_truth, ydt_score_dtclf)\n",
    "AUCROC[2] = roc_auc_score(ydt_predict_truth, ydt_score_dtclf)\n",
    "AUCPRC[2] = auc(recall, precision)\n",
    "\n",
    "precision, recall, thresholds = precision_recall_curve(ydt_predict_truth, ydt_score_rfclf)\n",
    "AUCROC[3] = roc_auc_score(ydt_predict_truth, ydt_score_rfclf)\n",
    "AUCPRC[3] = auc(recall, precision)\n",
    "\n",
    "precision, recall, thresholds = precision_recall_curve(ydt_predict_truth, ydt_score_mlpclf)\n",
    "AUCROC[4] = roc_auc_score(ydt_predict_truth, ydt_score_mlpclf)\n",
    "AUCPRC[4] = auc(recall, precision)"
   ]
  },
  {
   "cell_type": "code",
   "execution_count": null,
   "id": "saving-xerox",
   "metadata": {},
   "outputs": [],
   "source": [
    "models  = ['r14','lrclf','dtclf','rfclf','mlpclf']\n",
    "model_names = ['R14','LR','DT','RF','NN']\n",
    "colors  = ['k','b','orange','g','r','purple']\n",
    "markers = ['.','v','s','p','*','x','d']"
   ]
  },
  {
   "cell_type": "code",
   "execution_count": null,
   "id": "sublime-trust",
   "metadata": {},
   "outputs": [],
   "source": [
    "fig, ax = plt.subplots()\n",
    "\n",
    "for imodel in np.arange(0,n_models,1):\n",
    "    exec( 'fpr, tpr, threshold = roc_curve(ydt_predict_truth, ydt_score_'+models[imodel]+')' )\n",
    "    roc_auc = auc(fpr, tpr)\n",
    "    ax.plot(fpr, tpr, c=colors[imodel], label = model_names[imodel]+' (AUC = %0.2f)'% roc_auc)\n",
    "    \n",
    "plt.xlabel('False Alarm Rate')\n",
    "plt.ylabel('True Positive Rate')\n",
    "plt.legend(fontsize=12,loc='best')\n",
    "plt.show()  "
   ]
  },
  {
   "cell_type": "code",
   "execution_count": null,
   "id": "ecological-reflection",
   "metadata": {},
   "outputs": [],
   "source": [
    "fig, ax = plt.subplots()\n",
    "\n",
    "for imodel in np.arange(0,n_models,1):\n",
    "    exec( 'precision, recall, thresholds = precision_recall_curve(ydt_predict_truth, ydt_score_'+models[imodel]+')' )\n",
    "    pr_auc = auc(recall, precision)\n",
    "    ax.plot(precision, recall, c=colors[imodel], label = model_names[imodel]+' (AUC = %0.2f)'% pr_auc)\n",
    "    \n",
    "plt.xlabel('Recall')\n",
    "plt.ylabel('Precision')\n",
    "plt.legend(fontsize=12,loc='best')\n",
    "plt.show()  "
   ]
  },
  {
   "cell_type": "code",
   "execution_count": null,
   "id": "bizarre-choice",
   "metadata": {},
   "outputs": [],
   "source": [
    "fig, ax = plt.subplots()\n",
    "\n",
    "for imodel in np.arange(0,n_models,1):\n",
    "    ax.scatter(AUCPRC[imodel],AUCROC[imodel], c=colors[imodel], marker=markers[imodel],label=model_names[imodel])\n",
    "\n",
    "ax.set_title('Model skill')\n",
    "ax.set_xlabel('Area under PR curve')\n",
    "ax.set_ylabel('Area under ROC curve')\n",
    "#ax.set_xlim([0.25,0.5])\n",
    "#ax.set_ylim([0.7,0.95])\n",
    "ax.legend(loc='best')"
   ]
  },
  {
   "cell_type": "code",
   "execution_count": null,
   "id": "addressed-lafayette",
   "metadata": {},
   "outputs": [],
   "source": []
  },
  {
   "cell_type": "code",
   "execution_count": null,
   "id": "friendly-abuse",
   "metadata": {},
   "outputs": [],
   "source": []
  },
  {
   "cell_type": "code",
   "execution_count": null,
   "id": "republican-continuity",
   "metadata": {},
   "outputs": [],
   "source": []
  },
  {
   "cell_type": "code",
   "execution_count": null,
   "id": "unusual-harvard",
   "metadata": {},
   "outputs": [],
   "source": []
  },
  {
   "cell_type": "code",
   "execution_count": null,
   "id": "secondary-physiology",
   "metadata": {},
   "outputs": [],
   "source": [
    "dataset_test = xr.open_dataset('/home/disk/eos12/wycheng/dataset_CAL.nc')\n",
    "display(dataset_test)"
   ]
  },
  {
   "cell_type": "code",
   "execution_count": null,
   "id": "enabling-protest",
   "metadata": {},
   "outputs": [],
   "source": []
  }
 ],
 "metadata": {
  "kernelspec": {
   "display_name": "Python 3",
   "language": "python",
   "name": "python3"
  },
  "language_info": {
   "codemirror_mode": {
    "name": "ipython",
    "version": 3
   },
   "file_extension": ".py",
   "mimetype": "text/x-python",
   "name": "python",
   "nbconvert_exporter": "python",
   "pygments_lexer": "ipython3",
   "version": "3.7.9"
  }
 },
 "nbformat": 4,
 "nbformat_minor": 5
}
