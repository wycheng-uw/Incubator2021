{
 "cells": [
  {
   "cell_type": "code",
   "execution_count": null,
   "id": "hidden-davis",
   "metadata": {},
   "outputs": [],
   "source": [
    "import xarray as xr\n",
    "import dask\n",
    "import numpy as np\n",
    "import pandas as pd\n",
    "import matplotlib.pyplot as plt\n",
    "import matplotlib.colors as colors\n",
    "import time"
   ]
  },
  {
   "cell_type": "markdown",
   "id": "alert-period",
   "metadata": {},
   "source": [
    "# Read data"
   ]
  },
  {
   "cell_type": "code",
   "execution_count": null,
   "id": "knowing-idaho",
   "metadata": {},
   "outputs": [],
   "source": [
    "main_dir = '/home/disk/eos12/wycheng/'"
   ]
  },
  {
   "cell_type": "code",
   "execution_count": null,
   "id": "norman-membrane",
   "metadata": {},
   "outputs": [],
   "source": [
    "dataset = xr.open_dataset(main_dir+'data/US/dataset/dataset_CONUS.nc')"
   ]
  },
  {
   "cell_type": "markdown",
   "id": "bridal-crack",
   "metadata": {},
   "source": [
    "# Set countries boundaries"
   ]
  },
  {
   "cell_type": "code",
   "execution_count": null,
   "id": "catholic-shoot",
   "metadata": {},
   "outputs": [],
   "source": [
    "import regionmask\n",
    "import geopandas as gpd"
   ]
  },
  {
   "cell_type": "code",
   "execution_count": null,
   "id": "discrete-rescue",
   "metadata": {},
   "outputs": [],
   "source": [
    "PATH_TO_SHAPEFILE = main_dir+'data/WorldCountriesBoundaries/99bfd9e7-bb42-4728-87b5-07f8c8ac631c2020328-1-1vef4ev.lu5nk.shp'\n",
    "countries = gpd.read_file(PATH_TO_SHAPEFILE)"
   ]
  },
  {
   "cell_type": "code",
   "execution_count": null,
   "id": "buried-egyptian",
   "metadata": {},
   "outputs": [],
   "source": [
    "indexes = np.arange(250).tolist()\n",
    "countries_mask_poly = regionmask.Regions(name = 'COUNTRY', numbers = indexes, names = countries.CNTRY_NAME[indexes], abbrevs = countries.CNTRY_NAME[indexes], outlines = list(countries.geometry.values[i] for i in range(0,countries.shape[0])))\n",
    "mask = countries_mask_poly.mask(dataset.isel(Time = 0), lat_name='lat', lon_name='lon')\n",
    "mask = mask.where( (mask==232) & (mask.lat<49.35) & (mask.lat>24.74)  & (mask.lon>-124.78) & (mask.lon<-66.95) )"
   ]
  },
  {
   "cell_type": "markdown",
   "id": "sunset-earthquake",
   "metadata": {},
   "source": [
    "# Plot"
   ]
  },
  {
   "cell_type": "code",
   "execution_count": null,
   "id": "smart-resource",
   "metadata": {},
   "outputs": [],
   "source": [
    "fig = plt.figure(figsize=(12,6))\n",
    "plt.rcParams.update({'font.size': 16})\n",
    "dataset['F'].where( ~np.isnan(mask) ).mean(dim='Time').plot(cmap='RdYlGn_r',norm=colors.LogNorm(vmin=0.1, vmax=10))\n",
    "plt.title('Annual mean lightning frequency (WWLLN)')\n",
    "plt.xlim([-125,-65])\n",
    "plt.ylim([25,50])\n",
    "plt.rcParams.update({'font.size': 10})"
   ]
  },
  {
   "cell_type": "code",
   "execution_count": null,
   "id": "surprising-airline",
   "metadata": {},
   "outputs": [],
   "source": [
    "fig = plt.figure(figsize=(12,6))\n",
    "plt.rcParams.update({'font.size': 16})\n",
    "(dataset['TO'].sum(dim='Time')/10).where( ~np.isnan(mask) ).plot(cmap='RdYlGn_r')\n",
    "plt.title('Annual mean lightning events (WWLLN)')\n",
    "plt.xlim([-125,-65])\n",
    "plt.ylim([25,50])\n",
    "plt.rcParams.update({'font.size': 10})"
   ]
  },
  {
   "cell_type": "code",
   "execution_count": null,
   "id": "conservative-inclusion",
   "metadata": {},
   "outputs": [],
   "source": [
    "pcp_thrs = 0.01"
   ]
  },
  {
   "cell_type": "code",
   "execution_count": null,
   "id": "shaped-mainstream",
   "metadata": {},
   "outputs": [],
   "source": [
    "fig = plt.figure(figsize=(12,6))\n",
    "plt.rcParams.update({'font.size': 16})\n",
    "(dataset['TO'].where(dataset['pcp']<pcp_thrs).sum(dim='Time')/10).where( ~np.isnan(mask) ).plot(cmap='RdYlGn_r')\n",
    "plt.title('Annual mean dry thunderstorm events')\n",
    "plt.xlim([-125,-65])\n",
    "plt.ylim([25,50])\n",
    "plt.rcParams.update({'font.size': 10})"
   ]
  },
  {
   "cell_type": "code",
   "execution_count": null,
   "id": "sunset-mainstream",
   "metadata": {},
   "outputs": [],
   "source": [
    "fig = plt.figure(figsize=(12,6))\n",
    "plt.rcParams.update({'font.size': 16})\n",
    "(dataset['TO'].where(dataset['pcp']<pcp_thrs).sum(dim='Time')/dataset['TO'].sum(dim='Time')).where( ~np.isnan(mask) ).plot(cmap='RdYlGn_r')\n",
    "plt.title('Dry thunderstorm fraction')\n",
    "plt.xlim([-125,-65])\n",
    "plt.ylim([25,50])\n",
    "plt.rcParams.update({'font.size': 10})"
   ]
  },
  {
   "cell_type": "code",
   "execution_count": null,
   "id": "failing-mouth",
   "metadata": {},
   "outputs": [],
   "source": [
    "dataset_1dd = xr.open_dataset(main_dir+'data/US/dataset/dataset_CONUS_1dd.nc')"
   ]
  },
  {
   "cell_type": "code",
   "execution_count": null,
   "id": "narrative-amateur",
   "metadata": {},
   "outputs": [],
   "source": [
    "date='2019-06-06'"
   ]
  },
  {
   "cell_type": "code",
   "execution_count": null,
   "id": "early-distance",
   "metadata": {},
   "outputs": [],
   "source": [
    "fig = plt.figure(figsize=(8,6))\n",
    "base = countries.plot(figsize=(8,6), color=(1,1,1,0.0), edgecolor='black',zorder=2)\n",
    "dataset_1dd['cape'].sel(Time=date).plot(ax=base,cmap='rainbow',zorder=1, cbar_kwargs={'orientation': 'horizontal'})\n",
    "plt.title('CAPE (ERA5)')\n",
    "plt.xlim(-135, -80)\n",
    "plt.ylim(20, 50)"
   ]
  },
  {
   "cell_type": "code",
   "execution_count": null,
   "id": "grave-migration",
   "metadata": {},
   "outputs": [],
   "source": [
    "base = countries.plot(figsize=(8,6), color=(1,1,1,0.0), edgecolor='black',zorder=2)\n",
    "#dataset_raw['pcp'].where(dataset_raw['pcp']>0).sel(Time='2019-10-17').plot(ax=base,cmap='rainbow',zorder=1,vmin=0, vmax=2, cbar_kwargs={'orientation': 'horizontal'})\n",
    "dataset_1dd['pcp'].sel(Time=date).plot(ax=base,cmap='rainbow',zorder=1, extend='both', cbar_kwargs={'orientation': 'horizontal'})\n",
    "plt.title('Precipitation (TRMM)')\n",
    "plt.xlim(-135, -80)\n",
    "plt.ylim(20, 50)"
   ]
  },
  {
   "cell_type": "code",
   "execution_count": null,
   "id": "entire-attitude",
   "metadata": {},
   "outputs": [],
   "source": [
    "base = countries.plot(figsize=(8,6), color=(1,1,1,0.0), edgecolor='black',zorder=2)\n",
    "dataset_1dd['t'].isel(lev=0).sel(Time=date).plot(ax=base,cmap='rainbow',zorder=1, extend='both', cbar_kwargs={'orientation': 'horizontal'})\n",
    "plt.title('Temperature at 1000hPa (ERA5)')\n",
    "plt.xlim(-135, -80)\n",
    "plt.ylim(20, 50)"
   ]
  },
  {
   "cell_type": "code",
   "execution_count": null,
   "id": "armed-wagon",
   "metadata": {},
   "outputs": [],
   "source": [
    "base = countries.plot(figsize=(8,6), color=(1,1,1,0.0), edgecolor='black',zorder=2)\n",
    "dataset_1dd['q'].isel(lev=0).sel(Time=date).plot(ax=base,cmap='rainbow',zorder=1, extend='both', cbar_kwargs={'orientation': 'horizontal'})\n",
    "plt.title('Specific humidity at 1000hPa (ERA5)')\n",
    "plt.xlim(-135, -80)\n",
    "plt.ylim(20, 50)"
   ]
  },
  {
   "cell_type": "code",
   "execution_count": null,
   "id": "comic-pottery",
   "metadata": {},
   "outputs": [],
   "source": [
    "base = countries.plot(figsize=(8,6), color=(1,1,1,0.0), edgecolor='black',zorder=2)\n",
    "dataset_1dd['z'].isel(lev=2).sel(Time=date).plot(ax=base,cmap='rainbow',zorder=1, extend='both', cbar_kwargs={'orientation': 'horizontal'})\n",
    "plt.title('Geopotential height at 500 hPa (ERA5)')\n",
    "plt.xlim(-135, -80)\n",
    "plt.ylim(20, 50)"
   ]
  },
  {
   "cell_type": "code",
   "execution_count": null,
   "id": "psychological-floating",
   "metadata": {},
   "outputs": [],
   "source": [
    "fig = plt.figure(figsize=(8,6))\n",
    "base = countries.plot(figsize=(8,6), color=(1,1,1,0.0), edgecolor='black',zorder=2)\n",
    "dataset_1dd['F'].where(dataset['F']>0).sel(Time=date).plot(ax=base,cmap='rainbow',zorder=1,vmin=0, vmax=10, extend='max', cbar_kwargs={'orientation': 'horizontal'})\n",
    "plt.title('Lightning Stroke Density (WWLLN)')\n",
    "plt.xlim(-135, -80)\n",
    "plt.ylim(20, 50)\n",
    "\n",
    "print( dataset['F'].sel(Time=date).sel(lat=slice(32,42),lon=slice(-120,-110)).sum(dim={'lat','lon'}).values )"
   ]
  },
  {
   "cell_type": "code",
   "execution_count": null,
   "id": "distributed-nashville",
   "metadata": {},
   "outputs": [],
   "source": [
    "fig = plt.figure(figsize=(8,6))\n",
    "base = countries.plot(figsize=(8,6), color=(1,1,1,0.0), edgecolor='black',zorder=2)\n",
    "dataset_1dd['CP'].sel(Time=date).plot(ax=base,cmap='rainbow',zorder=1, extend='both', cbar_kwargs={'orientation': 'horizontal'})\n",
    "plt.title('CP')\n",
    "plt.xlim(-135, -80)\n",
    "plt.ylim(20, 50)\n",
    "\n",
    "print( dataset['CP'].sel(Time=date).sel(lat=slice(32,42),lon=slice(-120,-110)).sum(dim={'lat','lon'}).values )"
   ]
  },
  {
   "cell_type": "code",
   "execution_count": null,
   "id": "korean-jackson",
   "metadata": {},
   "outputs": [],
   "source": []
  }
 ],
 "metadata": {
  "kernelspec": {
   "display_name": "Python 3",
   "language": "python",
   "name": "python3"
  },
  "language_info": {
   "codemirror_mode": {
    "name": "ipython",
    "version": 3
   },
   "file_extension": ".py",
   "mimetype": "text/x-python",
   "name": "python",
   "nbconvert_exporter": "python",
   "pygments_lexer": "ipython3",
   "version": "3.7.9"
  }
 },
 "nbformat": 4,
 "nbformat_minor": 5
}
