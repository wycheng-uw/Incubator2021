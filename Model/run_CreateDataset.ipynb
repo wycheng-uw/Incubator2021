{
 "cells": [
  {
   "cell_type": "code",
   "execution_count": null,
   "id": "vocational-duplicate",
   "metadata": {},
   "outputs": [],
   "source": [
    "import xarray as xr\n",
    "import dask\n",
    "import numpy as np\n",
    "import pandas as pd\n",
    "import matplotlib.pyplot as plt\n",
    "from eofs.xarray import Eof\n",
    "import time"
   ]
  },
  {
   "cell_type": "markdown",
   "id": "forward-jaguar",
   "metadata": {},
   "source": [
    "# Create large dataset"
   ]
  },
  {
   "cell_type": "code",
   "execution_count": null,
   "id": "cardiovascular-calvin",
   "metadata": {},
   "outputs": [],
   "source": [
    "main_dir = '/home/disk/eos12/wycheng/'"
   ]
  },
  {
   "cell_type": "code",
   "execution_count": null,
   "id": "restricted-graduate",
   "metadata": {},
   "outputs": [],
   "source": [
    "WWLLN_dataset = xr.open_mfdataset(main_dir+'data/US/WWLLN/WWLLN_*_F_cg_1deg3hr_US.nc',\n",
    "                                  parallel=True,\n",
    "                                  chunks={'Time':'auto', 'lat':'auto', 'lon':'auto'})\n",
    "WWLLN_dataset['F'] = (1/((111.19492664455873)**2)) * (365.25*8) * WWLLN_dataset['F']\n",
    "display(WWLLN_dataset)"
   ]
  },
  {
   "cell_type": "code",
   "execution_count": null,
   "id": "continent-preserve",
   "metadata": {},
   "outputs": [],
   "source": [
    "TRMM_dataset = xr.open_mfdataset(main_dir+'data/US/TRMM/TRMM_*_pcp_cg_1deg3hr_US.nc',\n",
    "                                  parallel=True,\n",
    "                                  chunks={'Time':'auto', 'lat':'auto', 'lon':'auto'})\n",
    "TRMM_dataset['pcp'] = TRMM_dataset['pcp'].where(TRMM_dataset['pcp']>0,0)\n",
    "display(TRMM_dataset)"
   ]
  },
  {
   "cell_type": "code",
   "execution_count": null,
   "id": "focused-above",
   "metadata": {},
   "outputs": [],
   "source": [
    "ERA5_cape_dataset = xr.open_dataset(main_dir+'data/US/ERA5/dataset/ERA5_cape_dataset.nc')\n",
    "display(ERA5_cape_dataset)"
   ]
  },
  {
   "cell_type": "code",
   "execution_count": null,
   "id": "accepted-contrast",
   "metadata": {},
   "outputs": [],
   "source": [
    "ERA5_t_dataset = xr.open_dataset(main_dir+'data/US/ERA5/dataset/ERA5_t_dataset.nc')\n",
    "ERA5_q_dataset = xr.open_dataset(main_dir+'data/US/ERA5/dataset/ERA5_q_dataset.nc')\n",
    "ERA5_z_dataset = xr.open_dataset(main_dir+'data/US/ERA5/dataset/ERA5_z_dataset.nc')"
   ]
  },
  {
   "cell_type": "code",
   "execution_count": null,
   "id": "engaging-irish",
   "metadata": {},
   "outputs": [],
   "source": [
    "dataset = xr.merge([WWLLN_dataset, TRMM_dataset, ERA5_cape_dataset, ERA5_t_dataset, ERA5_q_dataset, ERA5_z_dataset]).sel(Time=slice(\"2010-01-01\", \"2019-12-31\"))\n",
    "dataset['CP'] = dataset['cape'] * dataset['pcp']\n",
    "dataset = dataset.assign(TO=lambda dataset: 1.0*(dataset.F>0))\n",
    "dataset = dataset.persist()\n",
    "display(dataset)"
   ]
  },
  {
   "cell_type": "code",
   "execution_count": null,
   "id": "horizontal-action",
   "metadata": {},
   "outputs": [],
   "source": [
    "dataset.to_netcdf(path=main_dir+'data/US/dataset/dataset_CONUS.nc', mode='w')"
   ]
  },
  {
   "cell_type": "code",
   "execution_count": null,
   "id": "fitting-queens",
   "metadata": {},
   "outputs": [],
   "source": [
    "dataset_1dd = dataset.resample(Time='1D').mean().persist()"
   ]
  },
  {
   "cell_type": "code",
   "execution_count": null,
   "id": "uniform-steel",
   "metadata": {},
   "outputs": [],
   "source": [
    "dataset_1dd.to_netcdf(path=main_dir+'data/US/dataset/dataset_CONUS_1dd.nc', mode='w')"
   ]
  },
  {
   "cell_type": "markdown",
   "id": "accepting-newark",
   "metadata": {},
   "source": [
    "# Create small dataset"
   ]
  },
  {
   "cell_type": "code",
   "execution_count": null,
   "id": "integrated-haiti",
   "metadata": {},
   "outputs": [],
   "source": [
    "main_dir = '/home/disk/eos12/wycheng/'"
   ]
  },
  {
   "cell_type": "code",
   "execution_count": null,
   "id": "loving-celebrity",
   "metadata": {},
   "outputs": [],
   "source": [
    "latm = 32\n",
    "latp = 42\n",
    "lonm = -120\n",
    "lonp = -110"
   ]
  },
  {
   "cell_type": "code",
   "execution_count": null,
   "id": "consecutive-serial",
   "metadata": {},
   "outputs": [],
   "source": [
    "WWLLN_dataset = xr.open_mfdataset(main_dir+'data/US/WWLLN/WWLLN_*_F_cg_1deg3hr_US.nc',\n",
    "                                  parallel=True,\n",
    "                                  chunks={'Time':'auto', 'lat':'auto', 'lon':'auto'}).sel(lat=slice(latm,latp), lon=slice(lonm,lonp))\n",
    "WWLLN_dataset['F'] = (1/((111.19492664455873)**2)) * (365.25*8) * WWLLN_dataset['F']\n",
    "display(WWLLN_dataset)"
   ]
  },
  {
   "cell_type": "code",
   "execution_count": null,
   "id": "flexible-nelson",
   "metadata": {},
   "outputs": [],
   "source": [
    "TRMM_dataset = xr.open_mfdataset(main_dir+'data/US/TRMM/TRMM_*_pcp_cg_1deg3hr_US.nc',\n",
    "                                  parallel=True,\n",
    "                                  chunks={'Time':'auto', 'lat':'auto', 'lon':'auto'}).sel(lat=slice(latm,latp), lon=slice(lonm,lonp))\n",
    "TRMM_dataset['pcp'] = TRMM_dataset['pcp'].where(TRMM_dataset['pcp']>0,0)\n",
    "display(TRMM_dataset)"
   ]
  },
  {
   "cell_type": "code",
   "execution_count": null,
   "id": "sorted-person",
   "metadata": {
    "tags": []
   },
   "outputs": [],
   "source": [
    "ERA5_cape_dataset = xr.open_dataset(main_dir+'data/US/ERA5/dataset/ERA5_cape_dataset.nc').sel(lat=slice(latm,latp), lon=slice(lonm,lonp))\n",
    "display(ERA5_cape_dataset)"
   ]
  },
  {
   "cell_type": "code",
   "execution_count": null,
   "id": "friendly-halloween",
   "metadata": {},
   "outputs": [],
   "source": [
    "ERA5_t_dataset = xr.open_dataset(main_dir+'data/US/ERA5/dataset/ERA5_t_dataset.nc').sel(lat=slice(latm,latp), lon=slice(lonm,lonp))\n",
    "ERA5_q_dataset = xr.open_dataset(main_dir+'data/US/ERA5/dataset/ERA5_q_dataset.nc').sel(lat=slice(latm,latp), lon=slice(lonm,lonp))\n",
    "ERA5_z_dataset = xr.open_dataset(main_dir+'data/US/ERA5/dataset/ERA5_z_dataset.nc').sel(lat=slice(latm,latp), lon=slice(lonm,lonp))"
   ]
  },
  {
   "cell_type": "code",
   "execution_count": null,
   "id": "processed-cycling",
   "metadata": {},
   "outputs": [],
   "source": [
    "dataset = xr.merge([WWLLN_dataset, TRMM_dataset, ERA5_cape_dataset, ERA5_t_dataset, ERA5_q_dataset, ERA5_z_dataset]).sel(Time=slice(\"2010-01-01\", \"2019-12-31\"))\n",
    "dataset['CP'] = dataset['cape'] * dataset['pcp']\n",
    "dataset = dataset.assign(TO=lambda dataset: 1.0*(dataset.F>0))\n",
    "dataset = dataset.persist()\n",
    "display(dataset)"
   ]
  },
  {
   "cell_type": "code",
   "execution_count": null,
   "id": "robust-peeing",
   "metadata": {},
   "outputs": [],
   "source": [
    "dataset.to_netcdf(path=main_dir+'data/US/dataset/dataset_CAL.nc', mode='w')"
   ]
  }
 ],
 "metadata": {
  "kernelspec": {
   "display_name": "Python 3",
   "language": "python",
   "name": "python3"
  },
  "language_info": {
   "codemirror_mode": {
    "name": "ipython",
    "version": 3
   },
   "file_extension": ".py",
   "mimetype": "text/x-python",
   "name": "python",
   "nbconvert_exporter": "python",
   "pygments_lexer": "ipython3",
   "version": "3.7.9"
  }
 },
 "nbformat": 4,
 "nbformat_minor": 5
}
