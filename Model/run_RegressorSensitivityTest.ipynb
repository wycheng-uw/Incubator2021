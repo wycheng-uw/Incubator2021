{
 "cells": [
  {
   "cell_type": "code",
   "execution_count": null,
   "id": "potential-major",
   "metadata": {},
   "outputs": [],
   "source": [
    "import xarray as xr\n",
    "import dask\n",
    "import numpy as np\n",
    "import pandas as pd\n",
    "import matplotlib.pyplot as plt\n",
    "from eofs.xarray import Eof\n",
    "import time"
   ]
  },
  {
   "cell_type": "code",
   "execution_count": null,
   "id": "aware-clarity",
   "metadata": {},
   "outputs": [],
   "source": [
    "import sys\n",
    "import warnings\n",
    "\n",
    "if not sys.warnoptions:\n",
    "    warnings.simplefilter(\"ignore\")"
   ]
  },
  {
   "cell_type": "markdown",
   "id": "bridal-expansion",
   "metadata": {},
   "source": [
    "# Read data"
   ]
  },
  {
   "cell_type": "code",
   "execution_count": null,
   "id": "occasional-terminology",
   "metadata": {},
   "outputs": [],
   "source": [
    "main_dir = '/home/disk/eos12/wycheng/'"
   ]
  },
  {
   "cell_type": "code",
   "execution_count": null,
   "id": "exceptional-limit",
   "metadata": {},
   "outputs": [],
   "source": [
    "dataset_raw = xr.open_dataset(main_dir+'data/US/dataset/dataset_CAL.nc')"
   ]
  },
  {
   "cell_type": "markdown",
   "id": "absent-nursery",
   "metadata": {},
   "source": [
    "### Normalize data"
   ]
  },
  {
   "cell_type": "markdown",
   "id": "mighty-warehouse",
   "metadata": {},
   "source": [
    "- remove annual cycle (remove monthly average)\n",
    "- normalize the input/output data"
   ]
  },
  {
   "cell_type": "code",
   "execution_count": null,
   "id": "indirect-competition",
   "metadata": {},
   "outputs": [],
   "source": [
    "def normalize(x, m, s):\n",
    "    return (x-m)/s"
   ]
  },
  {
   "cell_type": "code",
   "execution_count": null,
   "id": "suffering-armstrong",
   "metadata": {},
   "outputs": [],
   "source": [
    "def unnormalize(x, m, s):\n",
    "    return (x*s)+m"
   ]
  },
  {
   "cell_type": "code",
   "execution_count": null,
   "id": "christian-shareware",
   "metadata": {},
   "outputs": [],
   "source": [
    "dataset_norm = xr.apply_ufunc(normalize,\n",
    "    dataset_raw.groupby('Time.month'),\n",
    "    dataset_raw.groupby('Time.month').mean('Time'),\n",
    "    dataset_raw.groupby('Time.month').std('Time'),\n",
    "    dask='allowed'\n",
    "                        )"
   ]
  },
  {
   "cell_type": "code",
   "execution_count": null,
   "id": "adolescent-reporter",
   "metadata": {},
   "outputs": [],
   "source": [
    "display(dataset_norm)"
   ]
  },
  {
   "cell_type": "markdown",
   "id": "fitted-combat",
   "metadata": {},
   "source": [
    "# Set country borders"
   ]
  },
  {
   "cell_type": "code",
   "execution_count": null,
   "id": "organized-drama",
   "metadata": {},
   "outputs": [],
   "source": [
    "import regionmask\n",
    "import geopandas as gpd"
   ]
  },
  {
   "cell_type": "code",
   "execution_count": null,
   "id": "southeast-appraisal",
   "metadata": {},
   "outputs": [],
   "source": [
    "PATH_TO_SHAPEFILE = main_dir+'data/WorldCountriesBoundaries/99bfd9e7-bb42-4728-87b5-07f8c8ac631c2020328-1-1vef4ev.lu5nk.shp'\n",
    "countries = gpd.read_file(PATH_TO_SHAPEFILE)"
   ]
  },
  {
   "cell_type": "code",
   "execution_count": null,
   "id": "shared-synthesis",
   "metadata": {},
   "outputs": [],
   "source": [
    "indexes = np.arange(250).tolist()\n",
    "countries_mask_poly = regionmask.Regions(name = 'COUNTRY', numbers = indexes, names = countries.CNTRY_NAME[indexes], abbrevs = countries.CNTRY_NAME[indexes], outlines = list(countries.geometry.values[i] for i in range(0,countries.shape[0])))\n",
    "mask = countries_mask_poly.mask(dataset_raw['F'].isel(Time = 0), lat_name='lat', lon_name='lon')\n",
    "mask = mask.where( (mask==232) & (mask.lat<49.35) & (mask.lat>24.74)  & (mask.lon>-124.78) & (mask.lon<-66.95) )"
   ]
  },
  {
   "cell_type": "code",
   "execution_count": null,
   "id": "authentic-skill",
   "metadata": {},
   "outputs": [],
   "source": [
    "dataset_norm = dataset_norm.where( ~np.isnan(mask) )"
   ]
  },
  {
   "cell_type": "markdown",
   "id": "incident-plenty",
   "metadata": {},
   "source": [
    "# ML Setup"
   ]
  },
  {
   "cell_type": "code",
   "execution_count": null,
   "id": "breeding-insertion",
   "metadata": {},
   "outputs": [],
   "source": [
    "feature_name   = ['pcp','cape']\n",
    "output_name    = ['F']"
   ]
  },
  {
   "cell_type": "code",
   "execution_count": null,
   "id": "sudden-cross",
   "metadata": {},
   "outputs": [],
   "source": [
    "idx_train = np.arange(0,23376)\n",
    "idx_test = np.arange(23376,29216)\n",
    "#idx_train, idx_val, _, _ = train_test_split(idx_train, idx_train, test_size=0.25)"
   ]
  },
  {
   "cell_type": "code",
   "execution_count": null,
   "id": "difficult-convertible",
   "metadata": {},
   "outputs": [],
   "source": [
    "train_dataset_X = dataset_norm[feature_name].isel(Time=idx_train)\n",
    "test_dataset_X  = dataset_norm[feature_name].isel(Time=idx_test)\n",
    "train_dataset_y = dataset_norm[output_name].isel(Time=idx_train)\n",
    "test_dataset_y  = dataset_norm[output_name].isel(Time=idx_test)"
   ]
  },
  {
   "cell_type": "code",
   "execution_count": null,
   "id": "atomic-constraint",
   "metadata": {},
   "outputs": [],
   "source": [
    "X_train = train_dataset_X.to_dataframe().dropna(axis=0)\n",
    "X_test  = test_dataset_X.to_dataframe().dropna(axis=0)\n",
    "y_train = train_dataset_y.to_dataframe().dropna(axis=0)\n",
    "y_test  = test_dataset_y.to_dataframe().dropna(axis=0)"
   ]
  },
  {
   "cell_type": "code",
   "execution_count": null,
   "id": "crazy-apparel",
   "metadata": {},
   "outputs": [],
   "source": [
    "y_predict_truth_norm = y_test[output_name].to_xarray()"
   ]
  },
  {
   "cell_type": "code",
   "execution_count": null,
   "id": "finite-contributor",
   "metadata": {},
   "outputs": [],
   "source": [
    "y_predict_truth_unnorm = xr.apply_ufunc(unnormalize,\n",
    "    y_predict_truth_norm.groupby('Time.month'),\n",
    "    dataset_raw['F'].groupby('Time.month').mean('Time'),\n",
    "    dataset_raw['F'].groupby('Time.month').std('Time'),\n",
    "    dask='allowed'\n",
    "                                   )"
   ]
  },
  {
   "cell_type": "markdown",
   "id": "intended-indie",
   "metadata": {},
   "source": [
    "## R14"
   ]
  },
  {
   "cell_type": "code",
   "execution_count": null,
   "id": "nasty-mayor",
   "metadata": {},
   "outputs": [],
   "source": [
    "class R14:\n",
    "    \n",
    "    def fit(CAPE,pcp,y):\n",
    "        coef = np.sum(y) / np.sum(CAPE*pcp)\n",
    "        return coef\n",
    "    \n",
    "    def predict(CAPE,pcp,coef):\n",
    "        y_predict = coef*CAPE*pcp\n",
    "        return y_predict"
   ]
  },
  {
   "cell_type": "code",
   "execution_count": null,
   "id": "informative-livestock",
   "metadata": {},
   "outputs": [],
   "source": [
    "r14coef = R14.fit(\n",
    "    dataset_raw['cape'].where( ~np.isnan(mask) ).isel(Time=idx_train), \n",
    "    dataset_raw['pcp'].where( ~np.isnan(mask) ).isel(Time=idx_train), \n",
    "    dataset_raw['F']\n",
    ")"
   ]
  },
  {
   "cell_type": "code",
   "execution_count": null,
   "id": "preceding-highland",
   "metadata": {},
   "outputs": [],
   "source": [
    "y_predict_r14_unnorm = R14.predict(\n",
    "    dataset_raw['cape'].where( ~np.isnan(mask) ).isel(Time=idx_test), \n",
    "    dataset_raw['pcp'].where( ~np.isnan(mask) ).isel(Time=idx_test), \n",
    "    r14coef\n",
    ")"
   ]
  },
  {
   "cell_type": "code",
   "execution_count": null,
   "id": "fatty-overview",
   "metadata": {},
   "outputs": [],
   "source": [
    "y_predict_r14_norm = xr.apply_ufunc(normalize,\n",
    "    y_predict_r14_unnorm.groupby('Time.month'),\n",
    "    dataset_raw['F'].groupby('Time.month').mean('Time'),\n",
    "    dataset_raw['F'].groupby('Time.month').std('Time'),\n",
    "    dask='allowed'\n",
    "                                   )"
   ]
  },
  {
   "cell_type": "markdown",
   "id": "supreme-class",
   "metadata": {},
   "source": [
    "## Random Forest Regressor"
   ]
  },
  {
   "cell_type": "code",
   "execution_count": null,
   "id": "twenty-bubble",
   "metadata": {},
   "outputs": [],
   "source": [
    "from sklearn.ensemble import RandomForestRegressor"
   ]
  },
  {
   "cell_type": "code",
   "execution_count": null,
   "id": "wrapped-religion",
   "metadata": {},
   "outputs": [],
   "source": [
    "rfreg = RandomForestRegressor(n_estimators=10, \n",
    "                              max_depth=4, \n",
    "                              random_state=0)"
   ]
  },
  {
   "cell_type": "code",
   "execution_count": null,
   "id": "brown-carpet",
   "metadata": {},
   "outputs": [],
   "source": [
    "rfreg.fit(X_train[feature_name], y_train[output_name].values.ravel())"
   ]
  },
  {
   "cell_type": "code",
   "execution_count": null,
   "id": "integral-logging",
   "metadata": {},
   "outputs": [],
   "source": [
    "y_predict_rfreg_norm = rfreg.predict(X_test[feature_name])\n",
    "y_test['y_predict_rfreg_norm'] = y_predict_rfreg_norm\n",
    "y_predict_rfreg_norm = y_test['y_predict_rfreg_norm'].to_xarray()\n",
    "y_predict_rfreg_unnorm = xr.apply_ufunc(unnormalize,\n",
    "    y_predict_rfreg_norm.groupby('Time.month'),\n",
    "    dataset_raw['F'].groupby('Time.month').mean('Time'),\n",
    "    dataset_raw['F'].groupby('Time.month').std('Time'),\n",
    "    dask='allowed'\n",
    "                                   )"
   ]
  },
  {
   "cell_type": "markdown",
   "id": "nonprofit-lightning",
   "metadata": {},
   "source": [
    "## Neural Network Classifier"
   ]
  },
  {
   "cell_type": "code",
   "execution_count": null,
   "id": "valued-cross",
   "metadata": {},
   "outputs": [],
   "source": [
    "from sklearn.neural_network import MLPRegressor"
   ]
  },
  {
   "cell_type": "code",
   "execution_count": null,
   "id": "noted-italian",
   "metadata": {},
   "outputs": [],
   "source": [
    "mlpreg = MLPRegressor(random_state=0, max_iter=800)"
   ]
  },
  {
   "cell_type": "code",
   "execution_count": null,
   "id": "balanced-regulation",
   "metadata": {},
   "outputs": [],
   "source": [
    "mlpreg.fit(X_train[feature_name], y_train[output_name].values.ravel())"
   ]
  },
  {
   "cell_type": "code",
   "execution_count": null,
   "id": "signed-webmaster",
   "metadata": {},
   "outputs": [],
   "source": [
    "y_predict_mlpreg_norm = mlpreg.predict(X_test[feature_name])\n",
    "y_test['y_predict_mlpreg_norm'] = y_predict_mlpreg_norm\n",
    "y_predict_mlpreg_norm = y_test['y_predict_mlpreg_norm'].to_xarray()\n",
    "y_predict_mlpreg_unnorm = xr.apply_ufunc(unnormalize,\n",
    "    y_predict_mlpreg_norm.groupby('Time.month'),\n",
    "    dataset_raw['F'].groupby('Time.month').mean('Time'),\n",
    "    dataset_raw['F'].groupby('Time.month').std('Time'),\n",
    "    dask='allowed'\n",
    "                                   )"
   ]
  },
  {
   "cell_type": "markdown",
   "id": "vocal-submission",
   "metadata": {},
   "source": [
    "## Evaluating Model Performance"
   ]
  },
  {
   "cell_type": "code",
   "execution_count": null,
   "id": "smoking-lotus",
   "metadata": {},
   "outputs": [],
   "source": [
    "import numpy.ma as ma"
   ]
  },
  {
   "cell_type": "code",
   "execution_count": null,
   "id": "serious-australian",
   "metadata": {},
   "outputs": [],
   "source": [
    "#models  = ['r14','rfreg','mlpreg']\n",
    "#model_names = ['R14','RF','NN']\n",
    "#colors  = ['b','orange','g']\n",
    "#markers = ['.','s','p']"
   ]
  },
  {
   "cell_type": "code",
   "execution_count": null,
   "id": "eight-digit",
   "metadata": {},
   "outputs": [],
   "source": [
    "def plot_4panels(da1, da2, da3, da4, names, vmax):\n",
    "    \n",
    "    plt.rcParams.update({'font.size': 20})\n",
    "    \n",
    "    pcorr = np.zeros((3))\n",
    "\n",
    "    for imodel in np.arange(3):\n",
    "\n",
    "        exec('pcorr[imodel] = ma.corrcoef('+\\\n",
    "             'ma.masked_invalid(np.array(da1).ravel()),'+\\\n",
    "             'ma.masked_invalid(np.array(da'+str(imodel+2)+')).ravel(),'+\\\n",
    "             ')[0,1]')\n",
    "        \n",
    "    fig, ((ax1, ax2), (ax3, ax4)) = plt.subplots(2, 2,figsize=(16,16))\n",
    "    \n",
    "    for imodel in np.arange(1,5):\n",
    "        exec( 'base'+str(imodel)+' = countries.plot(ax=ax'+str(imodel)+', color=(1,1,1,0.0), edgecolor=\\'black\\',zorder=2)' )\n",
    "        exec( 'pcm'+str(imodel)+' = da'+str(imodel)+'.plot(ax=base'+str(imodel)+',cmap=\\'rainbow\\', zorder=1, vmin=0, vmax='+str(vmax)+', add_colorbar=False)' )\n",
    "        if (imodel==1):\n",
    "            exec( 'ax'+str(imodel)+'.set_title(names['+str(imodel-1)+'])' )\n",
    "        else:\n",
    "            exec('ax'+str(imodel)+'.set_title(names['+str(imodel-1)+']+\\'(pcorr=\\'+str(np.round(pcorr['+str(imodel-2)+'],2))+\\')\\' )')\n",
    "        exec( 'ax'+str(imodel)+'.set_xlabel(\\'lon\\')' )\n",
    "        exec( 'ax'+str(imodel)+'.set_ylabel(\\'lat\\')' )\n",
    "    \n",
    "    exec( 'pcm1.set_clim([0,vmax])')\n",
    "    fig.subplots_adjust(right=0.8)\n",
    "    cbar_ax = fig.add_axes([0.85, 0.15, 0.03, 0.7])\n",
    "    exec( 'fig.colorbar(pcm1, cax=cbar_ax, extend=\\'max\\')' )\n",
    "    fig.text(0.82,0.86,'[# yr$^{-1}$ km$^{-2}$]')\n",
    "    \n",
    "    plt.rcParams.update({'font.size': 10})\n",
    "    \n",
    "    return"
   ]
  },
  {
   "cell_type": "code",
   "execution_count": null,
   "id": "tribal-proposition",
   "metadata": {},
   "outputs": [],
   "source": [
    "plot_4panels(y_predict_truth_unnorm['F'].mean('Time'), \n",
    "             y_predict_r14_unnorm.mean('Time'),\n",
    "             y_predict_rfreg_unnorm.mean('Time'),\n",
    "             y_predict_mlpreg_unnorm.mean('Time'),\n",
    "             ['OBS','R14','RF','NN'],\n",
    "             vmax=1)"
   ]
  },
  {
   "cell_type": "code",
   "execution_count": null,
   "id": "characteristic-poultry",
   "metadata": {},
   "outputs": [],
   "source": [
    "x = y_predict_truth_unnorm['F'].mean(dim={'lat','lon'}).resample(Time='1D').mean().Time"
   ]
  },
  {
   "cell_type": "code",
   "execution_count": null,
   "id": "stainless-marsh",
   "metadata": {},
   "outputs": [],
   "source": [
    "obs_unnorm    = y_predict_truth_unnorm['F'].mean(dim={'lat','lon'}).resample(Time='1D').mean().values\n",
    "r14_unnorm    = y_predict_r14_unnorm.mean(dim={'lat','lon'}).resample(Time='1D').mean().values\n",
    "rfreg_unnorm  = y_predict_rfreg_unnorm.mean(dim={'lat','lon'}).resample(Time='1D').mean().values\n",
    "mlpreg_unnorm = y_predict_mlpreg_unnorm.mean(dim={'lat','lon'}).resample(Time='1D').mean().values"
   ]
  },
  {
   "cell_type": "code",
   "execution_count": null,
   "id": "ongoing-position",
   "metadata": {},
   "outputs": [],
   "source": [
    "r14_cor  = np.round(np.corrcoef(obs_unnorm, r14_unnorm)[0,1], 2)\n",
    "r14_rmse = np.round(np.sqrt(np.mean((obs_unnorm - r14_unnorm) ** 2)), 2)\n",
    "\n",
    "rfreg_cor  = np.round(np.corrcoef(obs_unnorm, rfreg_unnorm)[0,1], 2)\n",
    "rfreg_rmse = np.round(np.sqrt(np.mean((obs_unnorm - rfreg_unnorm) ** 2)), 2)\n",
    "\n",
    "mlpreg_cor  = np.round(np.corrcoef(obs_unnorm, mlpreg_unnorm)[0,1], 2)\n",
    "mlpreg_rmse = np.round(np.sqrt(np.mean((obs_unnorm - mlpreg_unnorm) ** 2)), 2)"
   ]
  },
  {
   "cell_type": "code",
   "execution_count": null,
   "id": "dried-recommendation",
   "metadata": {},
   "outputs": [],
   "source": [
    "fig = plt.figure(figsize=[32,8])\n",
    "\n",
    "# obs\n",
    "line1 = plt.plot(x, obs_unnorm, 'black')\n",
    "plt.setp(line1,linewidth=2.0, marker='o', markersize=6.0)\n",
    "\n",
    "# r14\n",
    "line2 = plt.plot(x, r14_unnorm, 'blue')\n",
    "plt.setp(line2,linewidth=2.0, marker='o', markersize=6.0)\n",
    "\n",
    "# rf\n",
    "line3 = plt.plot(x, rfreg_unnorm, 'orangered')\n",
    "plt.setp(line3,linewidth=2.0, marker='o', markersize=6.0)\n",
    "\n",
    "# nn\n",
    "line4 = plt.plot(x, mlpreg_unnorm, 'green')\n",
    "plt.setp(line4,linewidth=2.0, marker='o', markersize=6.0)\n",
    "\n",
    "# y-scale\n",
    "#plt.yscale('log')\n",
    "\n",
    "# set x-, y-axis\n",
    "#plt.xticks(np.arange(0,39,5), np.arange(1980,2019,5))\n",
    "#plt.tick_params(labelsize=7,direction='in',length=3,width=0.4,color='black')\n",
    "plt.xticks(fontsize=24)\n",
    "plt.yticks(fontsize=24)\n",
    "\n",
    "# zero line\n",
    "plt.axhline(0,color='black',linewidth=1.0)\n",
    "\n",
    "# x-, y-label\n",
    "plt.xlabel('Time', fontsize=24)\n",
    "plt.ylabel('Lightning stroke density', fontsize=24)\n",
    "plt.title('', y=0.99, fontsize=32)\n",
    "\n",
    "# legend\n",
    "plt.legend(\n",
    "    ['OBS', \n",
    "     'R14 (Cor='+str(r14_cor)+', RMSE='+str(r14_rmse)+')', \n",
    "     'RF (Cor='+str(rfreg_cor)+', RMSE='+str(rfreg_rmse)+')',\n",
    "     'NN (Cor='+str(mlpreg_cor)+', RMSE='+str(mlpreg_rmse)+')'], \n",
    "    loc='upper left', \n",
    "    prop={'size':24}, \n",
    "    ncol=2\n",
    "    )\n",
    "\n",
    "# set plot area\n",
    "plt.subplots_adjust(bottom=0.1, top=0.93, left=0.1, right=0.96)\n",
    "\n",
    "# save\n",
    "# plt.savefig(main_dir+'fig/result_cnn.png', dpi=300)\n",
    "# plt.close()\n"
   ]
  },
  {
   "cell_type": "markdown",
   "id": "premium-wilderness",
   "metadata": {},
   "source": [
    "# Examine the performance for dry thunderstorms"
   ]
  },
  {
   "cell_type": "code",
   "execution_count": null,
   "id": "chronic-cabinet",
   "metadata": {},
   "outputs": [],
   "source": [
    "pcp_thrs = 0.01\n",
    "Xdt_test = X_test.where(X_test['pcp']<pcp_thrs).dropna()"
   ]
  },
  {
   "cell_type": "code",
   "execution_count": null,
   "id": "wired-franklin",
   "metadata": {},
   "outputs": [],
   "source": [
    "ydt_predict_truth_unnorm = dataset_raw[output_name].isel(Time=idx_test).where( (dataset_raw['pcp']<pcp_thrs) & (~np.isnan(mask)))\n",
    "ydt_predict_truth_norm = xr.apply_ufunc(normalize,\n",
    "    ydt_predict_truth_unnorm.groupby('Time.month'),\n",
    "    dataset_raw['F'].groupby('Time.month').mean('Time'),\n",
    "    dataset_raw['F'].groupby('Time.month').std('Time'),\n",
    "    dask='allowed'\n",
    "                                   )"
   ]
  },
  {
   "cell_type": "code",
   "execution_count": null,
   "id": "later-editor",
   "metadata": {},
   "outputs": [],
   "source": [
    "ydt_predict_r14_unnorm = y_predict_r14_unnorm.where(dataset_raw['pcp'].isel(Time=idx_test)<pcp_thrs)\n",
    "ydt_predict_r14_norm   = y_predict_r14_norm.where(dataset_raw['pcp'].isel(Time=idx_test)<pcp_thrs)"
   ]
  },
  {
   "cell_type": "code",
   "execution_count": null,
   "id": "fossil-mounting",
   "metadata": {},
   "outputs": [],
   "source": [
    "ydt_predict_rfreg_unnorm = y_predict_rfreg_unnorm.where(dataset_raw['pcp'].isel(Time=idx_test)<pcp_thrs)\n",
    "ydt_predict_rfreg_norm   = y_predict_rfreg_norm.where(dataset_raw['pcp'].isel(Time=idx_test)<pcp_thrs)"
   ]
  },
  {
   "cell_type": "code",
   "execution_count": null,
   "id": "identical-devil",
   "metadata": {},
   "outputs": [],
   "source": [
    "ydt_predict_mlpreg_unnorm = y_predict_mlpreg_unnorm.where(dataset_raw['pcp'].isel(Time=idx_test)<pcp_thrs)\n",
    "ydt_predict_mlpreg_norm   = y_predict_mlpreg_norm.where(dataset_raw['pcp'].isel(Time=idx_test)<pcp_thrs)"
   ]
  },
  {
   "cell_type": "code",
   "execution_count": null,
   "id": "ecological-sigma",
   "metadata": {},
   "outputs": [],
   "source": [
    "def plot_4panels(da1, da2, da3, da4, names, vmax):\n",
    "    \n",
    "    plt.rcParams.update({'font.size': 20})\n",
    "    \n",
    "    pcorr = np.zeros((3))\n",
    "\n",
    "    for imodel in np.arange(3):\n",
    "\n",
    "        exec('pcorr[imodel] = ma.corrcoef('+\\\n",
    "             'ma.masked_invalid(np.array(da1).ravel()),'+\\\n",
    "             'ma.masked_invalid(np.array(da'+str(imodel+2)+')).ravel(),'+\\\n",
    "             ')[0,1]')\n",
    "        \n",
    "    plt.rcParams.update({'font.size': 20})\n",
    "    fig, ((ax1, ax2), (ax3, ax4)) = plt.subplots(2, 2,figsize=(16,16))\n",
    "\n",
    "    for imodel in np.arange(1,5):\n",
    "        exec( 'base'+str(imodel)+' = countries.plot(ax=ax'+str(imodel)+', color=(1,1,1,0.0), edgecolor=\\'black\\',zorder=2)' )\n",
    "        if (imodel==2):\n",
    "            exec( 'pcm2 = da2.plot(ax=base2,cmap=\\'rainbow\\', zorder=1, vmin=0, vmax='+str(vmax/200)+', add_colorbar=True, extend=\\'max\\', cbar_kwargs={\\'orientation\\': \\'horizontal\\'})' )\n",
    "        else:\n",
    "            exec( 'pcm'+str(imodel)+' = da'+str(imodel)+'.plot(ax=base'+str(imodel)+',cmap=\\'rainbow\\', zorder=1, vmin=0, vmax='+str(vmax)+', add_colorbar=False)' )\n",
    "        if (imodel==1):\n",
    "            exec( 'ax'+str(imodel)+'.set_title(names['+str(imodel-1)+'])' )\n",
    "        else:\n",
    "            exec('ax'+str(imodel)+'.set_title(names['+str(imodel-1)+']+\\'(pcorr=\\'+str(np.round(pcorr['+str(imodel-2)+'],2))+\\')\\' )')\n",
    "        exec( 'ax'+str(imodel)+'.set_xlabel(\\'lon\\')' )\n",
    "        exec( 'ax'+str(imodel)+'.set_ylabel(\\'lat\\')' )\n",
    "\n",
    "    exec( 'pcm1.set_clim([0,vmax])')\n",
    "    fig.subplots_adjust(right=0.8)\n",
    "    cbar_ax = fig.add_axes([0.85, 0.15, 0.03, 0.7])\n",
    "    exec( 'fig.colorbar(pcm1, cax=cbar_ax, extend=\\'max\\')' )\n",
    "    fig.text(0.82,0.86,'[# yr$^{-1}$ km$^{-2}$]')\n",
    "    \n",
    "    plt.rcParams.update({'font.size': 10})"
   ]
  },
  {
   "cell_type": "code",
   "execution_count": null,
   "id": "indoor-being",
   "metadata": {
    "tags": []
   },
   "outputs": [],
   "source": [
    "plot_4panels(ydt_predict_truth_unnorm['F'].mean('Time'), \n",
    "             ydt_predict_r14_unnorm.mean('Time'),\n",
    "             ydt_predict_rfreg_unnorm.mean('Time'),\n",
    "             ydt_predict_mlpreg_unnorm.mean('Time'),\n",
    "             ['OBS','R14','RF','NN'],\n",
    "             vmax=1)"
   ]
  },
  {
   "cell_type": "code",
   "execution_count": null,
   "id": "lovely-merchant",
   "metadata": {},
   "outputs": [],
   "source": [
    "ss = 1\n",
    "plot_4panels(ydt_predict_truth_unnorm['F'].groupby('Time.season').mean('Time').isel(season=ss), \n",
    "             ydt_predict_r14_unnorm.groupby('Time.season').mean('Time').isel(season=ss),\n",
    "             ydt_predict_rfreg_unnorm.groupby('Time.season').mean('Time').isel(season=ss),\n",
    "             ydt_predict_mlpreg_unnorm.groupby('Time.season').mean('Time').isel(season=ss),\n",
    "             names=['OBS','R14','RF','NN'],\n",
    "             vmax=1)"
   ]
  },
  {
   "cell_type": "code",
   "execution_count": null,
   "id": "nonprofit-baltimore",
   "metadata": {},
   "outputs": [],
   "source": [
    "x = ydt_predict_truth_unnorm['F'].mean(dim={'lat','lon'}).resample(Time='1D').mean().Time"
   ]
  },
  {
   "cell_type": "code",
   "execution_count": null,
   "id": "stone-arabic",
   "metadata": {},
   "outputs": [],
   "source": [
    "obs_dt_unnorm    = ydt_predict_truth_unnorm['F'].mean(dim={'lat','lon'}).resample(Time='1D').mean().values\n",
    "r14_dt_unnorm    = ydt_predict_r14_unnorm.mean(dim={'lat','lon'}).resample(Time='1D').mean().values\n",
    "rfreg_dt_unnorm  = ydt_predict_rfreg_unnorm.mean(dim={'lat','lon'}).resample(Time='1D').mean().values\n",
    "mlpreg_dt_unnorm = ydt_predict_mlpreg_unnorm.mean(dim={'lat','lon'}).resample(Time='1D').mean().values"
   ]
  },
  {
   "cell_type": "code",
   "execution_count": null,
   "id": "inappropriate-fraud",
   "metadata": {},
   "outputs": [],
   "source": [
    "r14_dt_cor  = np.round(np.corrcoef(obs_dt_unnorm, r14_dt_unnorm)[0,1], 2)\n",
    "r14_dt_rmse = np.round(np.sqrt(np.mean((obs_dt_unnorm - r14_dt_unnorm) ** 2)), 2)\n",
    "\n",
    "rfreg_dt_cor  = np.round(np.corrcoef(obs_dt_unnorm, rfreg_dt_unnorm)[0,1], 2)\n",
    "rfreg_dt_rmse = np.round(np.sqrt(np.mean((obs_dt_unnorm - rfreg_dt_unnorm) ** 2)), 2)\n",
    "\n",
    "mlpreg_dt_cor  = np.round(np.corrcoef(obs_dt_unnorm, mlpreg_dt_unnorm)[0,1], 2)\n",
    "mlpreg_dt_rmse = np.round(np.sqrt(np.mean((obs_dt_unnorm - mlpreg_dt_unnorm) ** 2)), 2)"
   ]
  },
  {
   "cell_type": "code",
   "execution_count": null,
   "id": "injured-poland",
   "metadata": {},
   "outputs": [],
   "source": [
    "fig = plt.figure(figsize=[32,8])\n",
    "\n",
    "# obs\n",
    "line1 = plt.plot(x, obs_dt_unnorm, 'black')\n",
    "plt.setp(line1,linewidth=2.0, marker='o', markersize=6.0)\n",
    "\n",
    "# r14\n",
    "line2 = plt.plot(x, r14_dt_unnorm*200, 'blue')\n",
    "plt.setp(line2,linewidth=2.0, marker='o', markersize=6.0)\n",
    "\n",
    "# rf\n",
    "line3 = plt.plot(x, rfreg_dt_unnorm, 'orangered')\n",
    "plt.setp(line3,linewidth=2.0, marker='o', markersize=6.0)\n",
    "\n",
    "# nn\n",
    "line4 = plt.plot(x, mlpreg_dt_unnorm, 'green')\n",
    "plt.setp(line4,linewidth=2.0, marker='o', markersize=6.0)\n",
    "\n",
    "# y-scale\n",
    "#plt.yscale('log')\n",
    "\n",
    "# set x-, y-axis\n",
    "#plt.xticks(np.arange(0,39,5), np.arange(1980,2019,5))\n",
    "#plt.tick_params(labelsize=7,direction='in',length=3,width=0.4,color='black')\n",
    "plt.xticks(fontsize=24)\n",
    "plt.yticks(fontsize=24)\n",
    "\n",
    "# zero line\n",
    "plt.axhline(0,color='black',linewidth=1.0)\n",
    "\n",
    "# x-, y-label\n",
    "plt.xlabel('Time', fontsize=24)\n",
    "plt.ylabel('Lightning stroke density', fontsize=24)\n",
    "plt.title('', y=0.99, fontsize=32)\n",
    "\n",
    "# legend\n",
    "plt.legend(\n",
    "    ['OBS', \n",
    "     '200x R14 (Cor='+str(r14_dt_cor)+', RMSE='+str(r14_dt_rmse)+')', \n",
    "     'RF (Cor='+str(rfreg_dt_cor)+', RMSE='+str(rfreg_dt_rmse)+')',\n",
    "     'NN (Cor='+str(mlpreg_dt_cor)+', RMSE='+str(mlpreg_dt_rmse)+')'], \n",
    "    loc='upper left', \n",
    "    prop={'size':24}, \n",
    "    ncol=2\n",
    "    )\n",
    "\n",
    "# set plot area\n",
    "plt.subplots_adjust(bottom=0.1, top=0.93, left=0.1, right=0.96)\n",
    "\n",
    "# save\n",
    "# plt.savefig(main_dir+'fig/result_cnn.png', dpi=300)\n",
    "# plt.close()\n"
   ]
  },
  {
   "cell_type": "code",
   "execution_count": null,
   "id": "egyptian-coordination",
   "metadata": {},
   "outputs": [],
   "source": []
  },
  {
   "cell_type": "code",
   "execution_count": null,
   "id": "mathematical-norfolk",
   "metadata": {},
   "outputs": [],
   "source": [
    "y_train_r14_unnorm = R14.predict(\n",
    "    dataset_raw['cape'].where( ~np.isnan(mask) ).isel(Time=idx_train), \n",
    "    dataset_raw['pcp'].where( ~np.isnan(mask) ).isel(Time=idx_train), \n",
    "    r14coef\n",
    ")"
   ]
  },
  {
   "cell_type": "code",
   "execution_count": null,
   "id": "catholic-glass",
   "metadata": {},
   "outputs": [],
   "source": [
    "y_train_rfreg_norm = rfreg.predict(X_train[feature_name])\n",
    "y_train['y_train_rfreg_norm'] = y_train_rfreg_norm\n",
    "y_train_rfreg_norm = y_train['y_train_rfreg_norm'].to_xarray()\n",
    "y_train_rfreg_unnorm = xr.apply_ufunc(unnormalize,\n",
    "    y_train_rfreg_norm.groupby('Time.month'),\n",
    "    dataset_raw['F'].groupby('Time.month').mean('Time'),\n",
    "    dataset_raw['F'].groupby('Time.month').std('Time'),\n",
    "    dask='allowed'\n",
    "                                   )"
   ]
  },
  {
   "cell_type": "code",
   "execution_count": null,
   "id": "optical-nebraska",
   "metadata": {},
   "outputs": [],
   "source": [
    "y_train_mlpreg_norm = mlpreg.predict(X_train[feature_name])\n",
    "y_train['y_train_mlpreg_norm'] = y_train_mlpreg_norm\n",
    "y_train_mlpreg_norm = y_train['y_train_mlpreg_norm'].to_xarray()\n",
    "y_train_mlpreg_unnorm = xr.apply_ufunc(unnormalize,\n",
    "    y_train_mlpreg_norm.groupby('Time.month'),\n",
    "    dataset_raw['F'].groupby('Time.month').mean('Time'),\n",
    "    dataset_raw['F'].groupby('Time.month').std('Time'),\n",
    "    dask='allowed'\n",
    "                                   )"
   ]
  },
  {
   "cell_type": "code",
   "execution_count": null,
   "id": "hungarian-bracket",
   "metadata": {},
   "outputs": [],
   "source": [
    "def plot_line_graph(xvarstr,yvarstr,xvar_1,yvar_1,xvar_2,yvar_2,xvar_3,yvar_3,xvar_4,yvar_4,bins,xyminmax,legends):\n",
    "\n",
    "    plt.rcParams.update({'font.size': 36})\n",
    "    \n",
    "    logbins = np.logspace(np.log10(xyminmax[0]),np.log10(xyminmax[1]),bins)\n",
    "    \n",
    "    var1_w = plt.hist(xvar_1[:], weights=yvar_1[:], range=[xyminmax[0], xyminmax[1]], bins=logbins);\n",
    "    var1_h = plt.hist(xvar_1[:], range=[xyminmax[0], xyminmax[1]], bins=logbins);\n",
    "\n",
    "    var2_w = plt.hist(xvar_2[:], weights=yvar_2[:], range=[xyminmax[0], xyminmax[1]], bins=logbins);\n",
    "    var2_h = plt.hist(xvar_2[:], range=[xyminmax[0], xyminmax[1]], bins=logbins);\n",
    "    \n",
    "    var3_w = plt.hist(xvar_3[:], weights=yvar_3[:], range=[xyminmax[0], xyminmax[1]], bins=logbins);\n",
    "    var3_h = plt.hist(xvar_3[:], range=[xyminmax[0], xyminmax[1]], bins=logbins);\n",
    "    \n",
    "    var4_w = plt.hist(xvar_4[:], weights=yvar_4[:], range=[xyminmax[0], xyminmax[1]], bins=logbins);\n",
    "    var4_h = plt.hist(xvar_4[:], range=[xyminmax[0], xyminmax[1]], bins=logbins);\n",
    "    \n",
    "    plt.clf()\n",
    "\n",
    "    fig0 = plt.figure(figsize=(10,10))\n",
    "    ax0  = fig0.add_subplot(111)\n",
    "\n",
    "    var1_wh = var1_w[0] / var1_h[0]\n",
    "    var2_wh = var2_w[0] / var2_h[0]\n",
    "    var3_wh = var3_w[0] / var3_h[0]\n",
    "    var4_wh = var4_w[0] / var4_h[0]\n",
    "\n",
    "    plt.plot(var1_w[1][0:bins-1], var1_wh[:], 'k-', linewidth=3)\n",
    "    plt.plot(var2_w[1][0:bins-1], var2_wh[:], 'b-', linewidth=3)\n",
    "    plt.plot(var3_w[1][0:bins-1], var3_wh[:], 'r-', linewidth=3)\n",
    "    plt.plot(var4_w[1][0:bins-1], var4_wh[:], 'g-', linewidth=3)\n",
    "\n",
    "    plt.legend(legends,\n",
    "               loc='upper left')\n",
    "    plt.xlim(xyminmax[0], xyminmax[1])\n",
    "    plt.ylim(xyminmax[2], xyminmax[3])\n",
    "    plt.xlabel(xvarstr)\n",
    "    plt.ylabel(yvarstr)\n",
    "    plt.xscale('log')\n",
    "    plt.yscale('log')\n",
    "    plt.title('')\n",
    "\n",
    "    plt.rcParams.update({'font.size': 10})\n",
    "#plt.show()"
   ]
  },
  {
   "cell_type": "code",
   "execution_count": null,
   "id": "ideal-adjustment",
   "metadata": {},
   "outputs": [],
   "source": [
    "xvar_1 = dataset_raw['cape'].where( ~np.isnan(mask) ).isel(Time=idx_train).values.ravel()\n",
    "yvar_1 = dataset_raw['F'].where( ~np.isnan(mask) ).isel(Time=idx_train).values.ravel()\n",
    "\n",
    "xvar_2 = dataset_raw['cape'].where( ~np.isnan(mask) ).isel(Time=idx_train).values.ravel()\n",
    "yvar_2 = y_train_r14_unnorm.values.ravel()\n",
    "\n",
    "xvar_3 = dataset_raw['cape'].where( ~np.isnan(mask) ).isel(Time=idx_train).values.ravel()\n",
    "yvar_3 = y_train_rfreg_unnorm.values.ravel()\n",
    "\n",
    "xvar_4 = dataset_raw['cape'].where( ~np.isnan(mask) ).isel(Time=idx_train).values.ravel()\n",
    "yvar_4 = y_train_mlpreg_unnorm.values.ravel()"
   ]
  },
  {
   "cell_type": "code",
   "execution_count": null,
   "id": "dying-friendship",
   "metadata": {},
   "outputs": [],
   "source": [
    "bins         = 20\n",
    "xyminmax     = [0.1,2000,0.001,100]\n",
    "\n",
    "xvarstr      = 'CAPE$^{1/2}$ [m s$^{-1}$]'\n",
    "yvarstr      = 'F [km$^{-2}$ yr$^{-1}$]'\n",
    "\n",
    "legends      = ['OBS','R14','RF','NN']\n",
    "\n",
    "labelformat    = '%3.1f'\n",
    "\n",
    "plot_line_graph(xvarstr,yvarstr,\n",
    "                xvar_1,yvar_1,\n",
    "                xvar_2,yvar_2,\n",
    "                xvar_3,yvar_3,\n",
    "                xvar_4,yvar_4,\n",
    "                bins,\n",
    "                xyminmax,\n",
    "                legends)\n"
   ]
  },
  {
   "cell_type": "code",
   "execution_count": null,
   "id": "guilty-voluntary",
   "metadata": {},
   "outputs": [],
   "source": [
    "xvar_1 = dataset_raw['pcp'].where( ~np.isnan(mask) ).isel(Time=idx_train).values.ravel()\n",
    "yvar_1 = dataset_raw['F'].where( ~np.isnan(mask) ).isel(Time=idx_train).values.ravel()\n",
    "\n",
    "xvar_2 = dataset_raw['pcp'].where( ~np.isnan(mask) ).isel(Time=idx_train).values.ravel()\n",
    "yvar_2 = y_train_r14_unnorm.values.ravel()\n",
    "\n",
    "xvar_3 = dataset_raw['pcp'].where( ~np.isnan(mask) ).isel(Time=idx_train).values.ravel()\n",
    "yvar_3 = y_train_rfreg_unnorm.values.ravel()\n",
    "\n",
    "xvar_4 = dataset_raw['pcp'].where( ~np.isnan(mask) ).isel(Time=idx_train).values.ravel()\n",
    "yvar_4 = y_train_mlpreg_unnorm.values.ravel()"
   ]
  },
  {
   "cell_type": "code",
   "execution_count": null,
   "id": "hollow-bloom",
   "metadata": {},
   "outputs": [],
   "source": [
    "plt.rcParams.update({'font.size': 36})\n",
    "bins         = 20\n",
    "xyminmax     = [0.0001,3,0.001,100]\n",
    "\n",
    "xvarstr      = 'Precip [mm hr$^{-1}$]'\n",
    "yvarstr      = 'F [km$^{-2}$ yr$^{-1}$]'\n",
    "\n",
    "legends      = ['OBS','R14','RF','NN']\n",
    "\n",
    "labelformat    = '%3.1f'\n",
    "\n",
    "plot_line_graph(xvarstr,yvarstr,\n",
    "                xvar_1,yvar_1,\n",
    "                xvar_2,yvar_2,\n",
    "                xvar_3,yvar_3,\n",
    "                xvar_4,yvar_4,\n",
    "                bins,\n",
    "                xyminmax,\n",
    "                legends)\n"
   ]
  },
  {
   "cell_type": "code",
   "execution_count": null,
   "id": "received-funds",
   "metadata": {},
   "outputs": [],
   "source": [
    "xvar_1 = dataset_raw['cape'].where( ~np.isnan(mask) ).isel(Time=idx_test).values.ravel()\n",
    "yvar_1 = dataset_raw['F'].where( ~np.isnan(mask) ).isel(Time=idx_test).values.ravel()\n",
    "\n",
    "xvar_2 = dataset_raw['cape'].where( ~np.isnan(mask) ).isel(Time=idx_test).values.ravel()\n",
    "yvar_2 = y_predict_r14_unnorm.values.ravel()\n",
    "\n",
    "xvar_3 = dataset_raw['cape'].where( ~np.isnan(mask) ).isel(Time=idx_test).values.ravel()\n",
    "yvar_3 = y_predict_rfreg_unnorm.values.ravel()\n",
    "\n",
    "xvar_4 = dataset_raw['cape'].where( ~np.isnan(mask) ).isel(Time=idx_test).values.ravel()\n",
    "yvar_4 = y_predict_mlpreg_unnorm.values.ravel()"
   ]
  },
  {
   "cell_type": "code",
   "execution_count": null,
   "id": "ethical-resort",
   "metadata": {},
   "outputs": [],
   "source": [
    "bins         = 20\n",
    "xyminmax     = [0.1,2000,0.001,100]\n",
    "\n",
    "xvarstr      = 'CAPE$^{1/2}$ [m s$^{-1}$]'\n",
    "yvarstr      = 'F [km$^{-2}$ yr$^{-1}$]'\n",
    "\n",
    "legends      = ['OBS','R14','RF','NN']\n",
    "\n",
    "labelformat    = '%3.1f'\n",
    "\n",
    "plot_line_graph(xvarstr,yvarstr,\n",
    "                xvar_1,yvar_1,\n",
    "                xvar_2,yvar_2,\n",
    "                xvar_3,yvar_3,\n",
    "                xvar_4,yvar_4,\n",
    "                bins,\n",
    "                xyminmax,\n",
    "                legends)\n"
   ]
  },
  {
   "cell_type": "code",
   "execution_count": null,
   "id": "improving-obligation",
   "metadata": {},
   "outputs": [],
   "source": [
    "xvar_1 = dataset_raw['pcp'].where( ~np.isnan(mask) ).isel(Time=idx_test).values.ravel()\n",
    "yvar_1 = dataset_raw['F'].where( ~np.isnan(mask) ).isel(Time=idx_test).values.ravel()\n",
    "\n",
    "xvar_2 = dataset_raw['pcp'].where( ~np.isnan(mask) ).isel(Time=idx_test).values.ravel()\n",
    "yvar_2 = y_predict_r14_unnorm.values.ravel()\n",
    "\n",
    "xvar_3 = dataset_raw['pcp'].where( ~np.isnan(mask) ).isel(Time=idx_test).values.ravel()\n",
    "yvar_3 = y_predict_rfreg_unnorm.values.ravel()\n",
    "\n",
    "xvar_4 = dataset_raw['pcp'].where( ~np.isnan(mask) ).isel(Time=idx_test).values.ravel()\n",
    "yvar_4 = y_predict_mlpreg_unnorm.values.ravel()"
   ]
  },
  {
   "cell_type": "code",
   "execution_count": null,
   "id": "renewable-canvas",
   "metadata": {},
   "outputs": [],
   "source": [
    "plt.rcParams.update({'font.size': 36})\n",
    "bins         = 20\n",
    "xyminmax     = [0.0001,3,0.001,100]\n",
    "\n",
    "xvarstr      = 'Precip [mm hr$^{-1}$]'\n",
    "yvarstr      = 'F [km$^{-2}$ yr$^{-1}$]'\n",
    "\n",
    "legends      = ['OBS','R14','RF','NN']\n",
    "\n",
    "labelformat    = '%3.1f'\n",
    "\n",
    "plot_line_graph(xvarstr,yvarstr,\n",
    "                xvar_1,yvar_1,\n",
    "                xvar_2,yvar_2,\n",
    "                xvar_3,yvar_3,\n",
    "                xvar_4,yvar_4,\n",
    "                bins,\n",
    "                xyminmax,\n",
    "                legends)\n"
   ]
  },
  {
   "cell_type": "code",
   "execution_count": null,
   "id": "devoted-opposition",
   "metadata": {},
   "outputs": [],
   "source": []
  },
  {
   "cell_type": "code",
   "execution_count": null,
   "id": "remarkable-baptist",
   "metadata": {},
   "outputs": [],
   "source": [
    "obs_unnorm    = y_predict_truth_unnorm['F'].mean(dim={'lat','lon'}).resample(Time='1D').mean().values.ravel()\n",
    "r14_unnorm    = y_predict_r14_unnorm.mean(dim={'lat','lon'}).resample(Time='1D').mean().values.ravel()\n",
    "rfreg_unnorm  = y_predict_rfreg_unnorm.mean(dim={'lat','lon'}).resample(Time='1D').mean().values.ravel()\n",
    "mlpreg_unnorm = y_predict_mlpreg_unnorm.mean(dim={'lat','lon'}).resample(Time='1D').mean().values.ravel()"
   ]
  },
  {
   "cell_type": "code",
   "execution_count": null,
   "id": "hydraulic-irish",
   "metadata": {},
   "outputs": [],
   "source": [
    "r14_cor  = np.round(ma.corrcoef(ma.masked_invalid(obs_unnorm), ma.masked_invalid(r14_unnorm))[0,1], 2)\n",
    "r14_rmse = np.round(np.sqrt(ma.mean((ma.masked_invalid(obs_unnorm) - ma.masked_invalid(r14_unnorm)) ** 2)), 2)\n",
    "\n",
    "rfreg_cor  = np.round(ma.corrcoef(ma.masked_invalid(obs_unnorm), ma.masked_invalid(rfreg_unnorm))[0,1], 2)\n",
    "rfreg_rmse = np.round(np.sqrt(ma.mean((ma.masked_invalid(obs_unnorm) - ma.masked_invalid(rfreg_unnorm)) ** 2)), 2)\n",
    "\n",
    "mlpreg_cor  = np.round(ma.corrcoef(ma.masked_invalid(obs_unnorm), ma.masked_invalid(mlpreg_unnorm))[0,1], 2)\n",
    "mlpreg_rmse = np.round(np.sqrt(ma.mean((ma.masked_invalid(obs_unnorm) - ma.masked_invalid(mlpreg_unnorm)) ** 2)), 2)"
   ]
  },
  {
   "cell_type": "code",
   "execution_count": null,
   "id": "broken-niagara",
   "metadata": {},
   "outputs": [],
   "source": [
    "print(r14_cor, r14_rmse)\n",
    "print(rfreg_cor, rfreg_rmse)\n",
    "print(mlpreg_cor, mlpreg_rmse)"
   ]
  },
  {
   "cell_type": "code",
   "execution_count": null,
   "id": "reserved-thriller",
   "metadata": {},
   "outputs": [],
   "source": [
    "obs_dt_unnorm    = ydt_predict_truth_unnorm['F'].mean(dim={'lat','lon'}).resample(Time='1D').mean().values.ravel()\n",
    "r14_dt_unnorm    = ydt_predict_r14_unnorm.mean(dim={'lat','lon'}).resample(Time='1D').mean().values.ravel()\n",
    "rfreg_dt_unnorm  = ydt_predict_rfreg_unnorm.mean(dim={'lat','lon'}).resample(Time='1D').mean().values.ravel()\n",
    "mlpreg_dt_unnorm = ydt_predict_mlpreg_unnorm.mean(dim={'lat','lon'}).resample(Time='1D').mean().values.ravel()"
   ]
  },
  {
   "cell_type": "code",
   "execution_count": null,
   "id": "actual-folks",
   "metadata": {},
   "outputs": [],
   "source": [
    "r14_dt_cor  = np.round(ma.corrcoef(ma.masked_invalid(obs_dt_unnorm), ma.masked_invalid(r14_dt_unnorm))[0,1], 2)\n",
    "r14_dt_rmse = np.round(np.sqrt(ma.mean((ma.masked_invalid(obs_dt_unnorm) - ma.masked_invalid(r14_dt_unnorm)) ** 2)), 2)\n",
    "\n",
    "rfreg_dt_cor  = np.round(ma.corrcoef(ma.masked_invalid(obs_dt_unnorm), ma.masked_invalid(rfreg_dt_unnorm))[0,1], 2)\n",
    "rfreg_dt_rmse = np.round(np.sqrt(ma.mean((ma.masked_invalid(obs_dt_unnorm) - ma.masked_invalid(rfreg_dt_unnorm)) ** 2)), 2)\n",
    "\n",
    "mlpreg_dt_cor  = np.round(ma.corrcoef(ma.masked_invalid(obs_dt_unnorm), ma.masked_invalid(mlpreg_dt_unnorm))[0,1], 2)\n",
    "mlpreg_dt_rmse = np.round(np.sqrt(ma.mean((ma.masked_invalid(obs_dt_unnorm) - ma.masked_invalid(mlpreg_dt_unnorm)) ** 2)), 2)"
   ]
  },
  {
   "cell_type": "code",
   "execution_count": null,
   "id": "unique-convertible",
   "metadata": {},
   "outputs": [],
   "source": [
    "print(r14_dt_cor, r14_dt_rmse)\n",
    "print(rfreg_dt_cor, rfreg_dt_rmse)\n",
    "print(mlpreg_dt_cor, mlpreg_dt_rmse)"
   ]
  },
  {
   "cell_type": "code",
   "execution_count": null,
   "id": "actual-unknown",
   "metadata": {},
   "outputs": [],
   "source": []
  },
  {
   "cell_type": "code",
   "execution_count": null,
   "id": "surgical-indication",
   "metadata": {},
   "outputs": [],
   "source": []
  },
  {
   "cell_type": "code",
   "execution_count": null,
   "id": "adolescent-basketball",
   "metadata": {},
   "outputs": [],
   "source": []
  },
  {
   "cell_type": "code",
   "execution_count": null,
   "id": "bronze-delta",
   "metadata": {},
   "outputs": [],
   "source": []
  }
 ],
 "metadata": {
  "kernelspec": {
   "display_name": "Python 3",
   "language": "python",
   "name": "python3"
  },
  "language_info": {
   "codemirror_mode": {
    "name": "ipython",
    "version": 3
   },
   "file_extension": ".py",
   "mimetype": "text/x-python",
   "name": "python",
   "nbconvert_exporter": "python",
   "pygments_lexer": "ipython3",
   "version": "3.7.9"
  }
 },
 "nbformat": 4,
 "nbformat_minor": 5
}
