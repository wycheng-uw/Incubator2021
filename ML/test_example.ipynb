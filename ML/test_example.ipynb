{
 "cells": [
  {
   "cell_type": "code",
   "execution_count": null,
   "metadata": {
    "scrolled": false
   },
   "outputs": [],
   "source": [
    "import numpy as np\n",
    "import pandas as pd\n",
    "import matplotlib.pyplot as plt\n",
    "from netCDF4 import Dataset"
   ]
  },
  {
   "cell_type": "markdown",
   "metadata": {},
   "source": [
    "# Data Processing"
   ]
  },
  {
   "cell_type": "markdown",
   "metadata": {},
   "source": [
    "## set time and regional domain"
   ]
  },
  {
   "cell_type": "code",
   "execution_count": null,
   "metadata": {},
   "outputs": [],
   "source": [
    "#\"\"\"\n",
    "region     = 'CONUS'\n",
    "ilon_start =  45\n",
    "ilon_end   = 120\n",
    "ilat_start = 110\n",
    "ilat_end   = 150\n",
    "#\"\"\"\n",
    "\n",
    "\n",
    "isl        = 1\n",
    "pcp_thrs   = 0\n",
    "YYYY_list  = [2012];"
   ]
  },
  {
   "cell_type": "markdown",
   "metadata": {},
   "source": [
    "## read data"
   ]
  },
  {
   "cell_type": "code",
   "execution_count": null,
   "metadata": {},
   "outputs": [],
   "source": [
    "WWLLN_dir       = '/home/disk/eos12/wycheng/data/US/WWLLN/'\n",
    "ERA5_dir        = '/home/disk/eos12/wycheng/data/US/ERA5/'\n",
    "TRMM_dir        = '/home/disk/eos12/wycheng/data/US/TRMM/'\n",
    "island_dir      = '/home/disk/eos9/wycheng/LightningMachineLearning/data/cgdata/island/'\n",
    "\n",
    "island_fname    = 'island_1deg.nc'\n",
    "ncin_island     = Dataset(island_dir+island_fname,'r')\n",
    "island_in       = ncin_island.variables['island'][ilat_start:ilat_end,ilon_start:ilon_end]\n",
    "\n",
    "nYYYY           = np.shape(YYYY_list)[0]\n",
    "\n",
    "for iYYYY in range(nYYYY):\n",
    "    YYYY = YYYY_list[iYYYY];\n",
    "\n",
    "    WWLLN_F_fname   = 'WWLLN_'+str(YYYY)+'_F_cg_1deg3hr_US.nc'\n",
    "    ERA5_cape_fname = 'ERA5_'+str(YYYY)+'_cape_cg_1deg3hr_US.nc'\n",
    "    TRMM_pcp_fname  = 'TRMM_'+str(YYYY)+'_pcp_cg_1deg3hr_US.nc'\n",
    "\n",
    "    ncin_F          = Dataset(WWLLN_dir+WWLLN_F_fname,'r')\n",
    "    ncin_cape       = Dataset(ERA5_dir+ERA5_cape_fname,'r')\n",
    "    ncin_pcp        = Dataset(TRMM_dir+TRMM_pcp_fname,'r')\n",
    "\n",
    "    \n",
    "    if (iYYYY==0):\n",
    "        F_in        = ncin_F.variables['F'][:,:,:]\n",
    "        cape_in     = ncin_cape.variables['cape'][:,:,:]\n",
    "        pcp_in      = ncin_pcp.variables['pcp'][:,:,:]\n",
    "\n",
    "    else:\n",
    "        F_in        = np.append(F_in,ncin_F.variables['F'][:,:,:],axis=0)\n",
    "        cape_in     = np.append(cape_in,ncin_cape.variables['cape'][:,:,:],axis=0)\n",
    "        pcp_in      = np.append(pcp_in,ncin_pcp.variables['pcp'][:,:,:],axis=0)\n",
    "\n",
    "F_in           = F_in * (1/((111.19492664455873)**2)) * (365.25*8) # turn unit into [km-2 yr-1]\n",
    "isLightning_in = np.where(F_in>0,1,0)\n",
    "sqrtcape_in    = cape_in ** 0.5;\n",
    "\n",
    "island_in3d    = np.broadcast_to(island_in, F_in.shape)"
   ]
  },
  {
   "cell_type": "code",
   "execution_count": null,
   "metadata": {},
   "outputs": [],
   "source": [
    "mask_island   = np.where(island_in3d==1, 1, np.nan);\n",
    "print(mask_island.shape)"
   ]
  },
  {
   "cell_type": "code",
   "execution_count": null,
   "metadata": {},
   "outputs": [],
   "source": [
    "F_lnd           = F_in*mask_island\n",
    "isLightning_lnd = isLightning_in*mask_island\n",
    "cape_lnd        = cape_in*mask_island\n",
    "sqrtcape_lnd    = sqrtcape_in*mask_island\n",
    "pcp_lnd         = pcp_in*mask_island"
   ]
  },
  {
   "cell_type": "code",
   "execution_count": null,
   "metadata": {},
   "outputs": [],
   "source": [
    "dataset = pd.DataFrame(data=np.column_stack((F_lnd.ravel(),isLightning_lnd.ravel(),cape_lnd.ravel(),pcp_lnd.ravel())), columns=['F','IL','CAPE','pcp']).dropna()"
   ]
  },
  {
   "cell_type": "markdown",
   "metadata": {},
   "source": [
    "## check data"
   ]
  },
  {
   "cell_type": "code",
   "execution_count": null,
   "metadata": {},
   "outputs": [],
   "source": [
    "dataset.info(verbose=True)"
   ]
  },
  {
   "cell_type": "markdown",
   "metadata": {},
   "source": [
    "## formatting input (training/test) data"
   ]
  },
  {
   "cell_type": "code",
   "execution_count": null,
   "metadata": {},
   "outputs": [],
   "source": [
    "from sklearn.model_selection import train_test_split"
   ]
  },
  {
   "cell_type": "code",
   "execution_count": null,
   "metadata": {},
   "outputs": [],
   "source": [
    "feature_names = ['CAPE','pcp']\n",
    "output_name   = ['IL']\n",
    "X = dataset[feature_names]\n",
    "y = dataset[output_name]\n",
    "\n",
    "X_train, X_test, y_train, y_test = train_test_split(X, y, test_size=0.33, random_state=None)"
   ]
  },
  {
   "cell_type": "code",
   "execution_count": null,
   "metadata": {},
   "outputs": [],
   "source": [
    "print(X_train.info())\n",
    "print(y_train.info())"
   ]
  },
  {
   "cell_type": "markdown",
   "metadata": {},
   "source": [
    "# ML"
   ]
  },
  {
   "cell_type": "markdown",
   "metadata": {},
   "source": [
    "## R14"
   ]
  },
  {
   "cell_type": "code",
   "execution_count": null,
   "metadata": {},
   "outputs": [],
   "source": [
    "import scipy as sp\n",
    "from sklearn.metrics import accuracy_score, precision_score, f1_score, confusion_matrix\n",
    "from sklearn.preprocessing import normalize"
   ]
  },
  {
   "cell_type": "code",
   "execution_count": null,
   "metadata": {},
   "outputs": [],
   "source": [
    "class R14:\n",
    "    \n",
    "    def fit(CAPE,pcp,y):\n",
    "\n",
    "        thrs = sp.optimize.fminbound(lambda x: -f1_score(y, ((CAPE*pcp > x) * 1.0).astype(int)), 0, 4000)\n",
    "        fval = f1_score(y, ((CAPE*pcp >= thrs) * 1.0).astype(int))\n",
    "        \n",
    "        return thrs, fval\n",
    "    \n",
    "    def predict(CAPE,pcp,thrs):\n",
    "        \n",
    "        y_predict = ((CAPE*pcp >= thrs) * 1.0).astype(int)\n",
    "        y_predict_proba = CAPE*pcp\n",
    "        \n",
    "        return y_predict, y_predict_proba/np.max(y_predict_proba)"
   ]
  },
  {
   "cell_type": "code",
   "execution_count": null,
   "metadata": {},
   "outputs": [],
   "source": [
    "[r14_thrs,fval] = R14.fit(X_train['CAPE'],X_train['pcp'],y_train)"
   ]
  },
  {
   "cell_type": "code",
   "execution_count": null,
   "metadata": {},
   "outputs": [],
   "source": [
    "print(r14_thrs, fval)"
   ]
  },
  {
   "cell_type": "code",
   "execution_count": null,
   "metadata": {},
   "outputs": [],
   "source": [
    "y_predict_r14, y_predict_prob_r14 = R14.predict(X_test['CAPE'],X_test['pcp'],r14_thrs)"
   ]
  },
  {
   "cell_type": "markdown",
   "metadata": {},
   "source": [
    "## random forest"
   ]
  },
  {
   "cell_type": "code",
   "execution_count": null,
   "metadata": {},
   "outputs": [],
   "source": [
    "from sklearn.ensemble import RandomForestClassifier"
   ]
  },
  {
   "cell_type": "code",
   "execution_count": null,
   "metadata": {},
   "outputs": [],
   "source": [
    "rfclf = RandomForestClassifier(n_estimators=10, max_depth=4, min_samples_split=1000, random_state=0)"
   ]
  },
  {
   "cell_type": "code",
   "execution_count": null,
   "metadata": {},
   "outputs": [],
   "source": [
    "rfclf.fit(X_train[feature_names], y_train[output_name])"
   ]
  },
  {
   "cell_type": "code",
   "execution_count": null,
   "metadata": {},
   "outputs": [],
   "source": [
    "y_predict_rfclf = rfclf.predict(X_test[feature_names])"
   ]
  },
  {
   "cell_type": "markdown",
   "metadata": {},
   "source": [
    "## Model Evaluation"
   ]
  },
  {
   "cell_type": "code",
   "execution_count": null,
   "metadata": {},
   "outputs": [],
   "source": [
    "from sklearn import metrics\n",
    "from sklearn.metrics import accuracy_score, precision_score, recall_score, f1_score, confusion_matrix\n",
    "from sklearn.metrics import plot_roc_curve"
   ]
  },
  {
   "cell_type": "code",
   "execution_count": null,
   "metadata": {},
   "outputs": [],
   "source": [
    "print(precision_score(y_test['IL'], y_predict_rfclf))\n",
    "print(precision_score(y_test['IL'], y_predict_r14))"
   ]
  },
  {
   "cell_type": "code",
   "execution_count": null,
   "metadata": {},
   "outputs": [],
   "source": [
    "print(recall_score(y_test['IL'], y_predict_rfclf))\n",
    "print(recall_score(y_test['IL'], y_predict_r14))"
   ]
  },
  {
   "cell_type": "code",
   "execution_count": null,
   "metadata": {},
   "outputs": [],
   "source": [
    "print(f1_score(y_test['IL'], y_predict_rfclf))\n",
    "print(f1_score(y_test['IL'], y_predict_r14))"
   ]
  },
  {
   "cell_type": "code",
   "execution_count": null,
   "metadata": {},
   "outputs": [],
   "source": [
    "auc_rfclf = metrics.roc_auc_score(y_test, rfclf.predict_proba(X_test)[:,1])\n",
    "auc_r14   = metrics.roc_auc_score(y_test, y_predict_prob_r14)\n",
    "print(auc_rfclf, auc_r14)"
   ]
  },
  {
   "cell_type": "code",
   "execution_count": null,
   "metadata": {},
   "outputs": [],
   "source": [
    "xthrs = np.linspace(0,4000,20)\n",
    "fpr = []\n",
    "tpr = []\n",
    "for i in range(np.size(xthrs)):\n",
    "    yp, fv = R14.predict(X_test['CAPE'],X_test['pcp'],xthrs[i])\n",
    "    tn, fp, fn, tp = confusion_matrix(y_test['IL'], yp).ravel()\n",
    "    fpr.append( (fp/(fp+tn)) ) \n",
    "    tpr.append( (tp/(tp+fn)) )"
   ]
  },
  {
   "cell_type": "code",
   "execution_count": null,
   "metadata": {},
   "outputs": [],
   "source": [
    "print(tpr)"
   ]
  },
  {
   "cell_type": "code",
   "execution_count": null,
   "metadata": {},
   "outputs": [],
   "source": [
    "plot_roc_curve(rfclf, X_test, y_test, label='RFC (AUC = %0.2f)'%(auc_rfclf) ) \n",
    "plt.plot(fpr, tpr, 'r-',label='R14 (AUC = %0.2f)'%(auc_r14))\n",
    "plt.legend(fontsize=16)\n",
    "plt.show()  "
   ]
  },
  {
   "cell_type": "code",
   "execution_count": null,
   "metadata": {},
   "outputs": [],
   "source": [
    "pd.DataFrame(\n",
    "    confusion_matrix(y_test['IL'], y_predict_rfclf),\n",
    "    columns=['Predicted No Lightning', 'Predicted Lightning'],\n",
    "    index=['True No Lightning', 'True Lightning']\n",
    ")"
   ]
  },
  {
   "cell_type": "code",
   "execution_count": null,
   "metadata": {},
   "outputs": [],
   "source": [
    "pd.DataFrame(\n",
    "    confusion_matrix(y_test['IL'], y_predict_r14),\n",
    "    columns=['Predicted No Lightning', 'Predicted Lightning'],\n",
    "    index=['True No Lightning', 'True Lightning']\n",
    ")"
   ]
  },
  {
   "cell_type": "code",
   "execution_count": null,
   "metadata": {},
   "outputs": [],
   "source": []
  },
  {
   "cell_type": "code",
   "execution_count": null,
   "metadata": {},
   "outputs": [],
   "source": []
  }
 ],
 "metadata": {
  "kernelspec": {
   "display_name": "Python 3",
   "language": "python",
   "name": "python3"
  },
  "language_info": {
   "codemirror_mode": {
    "name": "ipython",
    "version": 3
   },
   "file_extension": ".py",
   "mimetype": "text/x-python",
   "name": "python",
   "nbconvert_exporter": "python",
   "pygments_lexer": "ipython3",
   "version": "3.9.1"
  }
 },
 "nbformat": 4,
 "nbformat_minor": 2
}
