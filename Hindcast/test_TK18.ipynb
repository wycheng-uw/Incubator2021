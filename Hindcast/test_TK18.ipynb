{
 "cells": [
  {
   "cell_type": "code",
   "execution_count": null,
   "id": "established-scholarship",
   "metadata": {},
   "outputs": [],
   "source": [
    "import numpy as np\n",
    "import scipy as sp\n",
    "import dask\n",
    "import pandas as pd\n",
    "import xarray as xr\n",
    "import matplotlib\n",
    "from cycler import cycler\n",
    "import matplotlib.pyplot as plt\n",
    "import time"
   ]
  },
  {
   "cell_type": "markdown",
   "id": "regulation-shift",
   "metadata": {},
   "source": [
    "# Data Processing"
   ]
  },
  {
   "cell_type": "markdown",
   "id": "amber-being",
   "metadata": {},
   "source": [
    "## Read WWLLN data"
   ]
  },
  {
   "cell_type": "markdown",
   "id": "sustained-organizer",
   "metadata": {},
   "source": [
    "- Read in the WWLLN data \n",
    "- Variable(s):\n",
    "    - F (Lightning flash rate): The number of lightning strokes observed by WWLLN in each grid cell(# of strokes / grid / 3 hr)."
   ]
  },
  {
   "cell_type": "code",
   "execution_count": null,
   "id": "alone-zambia",
   "metadata": {},
   "outputs": [],
   "source": [
    "wwlln_dataset = xr.open_mfdataset('/home/disk/eos12/wycheng/data/WWLLN/Global/WWLLN_20*.nc', \n",
    "                                  chunks={'Time':'auto','lat':'auto','lon':'auto'},\n",
    "                                  parallel=True,\n",
    "                                 )"
   ]
  },
  {
   "cell_type": "markdown",
   "id": "affected-international",
   "metadata": {},
   "source": [
    "- Select the CONUS area"
   ]
  },
  {
   "cell_type": "code",
   "execution_count": null,
   "id": "willing-completion",
   "metadata": {},
   "outputs": [],
   "source": [
    "wwlln_dataset = wwlln_dataset.sel(lon=slice(-125,-65),lat=slice(20,50))"
   ]
  },
  {
   "cell_type": "markdown",
   "id": "regional-elements",
   "metadata": {},
   "source": [
    "- Change the temporal resolution from 3 hours to 1 day \n",
    "    - Method: Sum up all observed strokes in 1 day"
   ]
  },
  {
   "cell_type": "code",
   "execution_count": null,
   "id": "lonely-graduation",
   "metadata": {},
   "outputs": [],
   "source": [
    "Fdata = wwlln_dataset.F.resample(Time='1D').sum()"
   ]
  },
  {
   "cell_type": "markdown",
   "id": "ready-module",
   "metadata": {},
   "source": [
    "- Saving the F data as a dask array for later"
   ]
  },
  {
   "cell_type": "code",
   "execution_count": null,
   "id": "usual-principle",
   "metadata": {},
   "outputs": [],
   "source": [
    "Fdata.persist()"
   ]
  },
  {
   "cell_type": "code",
   "execution_count": null,
   "id": "heavy-assault",
   "metadata": {},
   "outputs": [],
   "source": [
    "Fdata.mean(dim='Time').plot()"
   ]
  },
  {
   "cell_type": "markdown",
   "id": "german-madonna",
   "metadata": {},
   "source": [
    "## Read GEFS data"
   ]
  },
  {
   "cell_type": "markdown",
   "id": "gross-purpose",
   "metadata": {},
   "source": [
    "- Read in the Hindcast dataset from GEFS model - CAPE: convective available potential energy (J/kg); PR: precipitation (mm)\n",
    "- Rename the coordinates from ('X', 'Y') to ('lon', 'lat')\n",
    "- The dimensions:\n",
    "    - S: Start Time (forecast_reference_time): ordered from (0000 6 Jan 2010) to (0000 28 Dec 2016) by 7 (days)\n",
    "    - M: Ensemble Member (realization): ordered from (0) to (10) by 1.0\n",
    "    - L: Forecast Lead Time (forecast_period): ordered from (0.5 days) to (34.5 days) by 1.0 (days)\n",
    "    - lon: The longitude; Notice that the range of this coordinate is from (0) to (360)\n",
    "    - lat: The latitude; Notice that the order of this coordinate is from (90) to (-90)"
   ]
  },
  {
   "cell_type": "code",
   "execution_count": null,
   "id": "narrative-cylinder",
   "metadata": {},
   "outputs": [],
   "source": [
    "gefs_dataset = xr.open_mfdataset('/home/disk/eos12/wycheng/data/GEFS/GEFS*.nc',\n",
    "                                 chunks={'S':'auto','M':'auto','L':'auto','X':'auto','Y':'auto'},\n",
    "                                 parallel=True,\n",
    "                                )\\\n",
    "                 .rename({'X': 'lon','Y': 'lat'})"
   ]
  },
  {
   "cell_type": "markdown",
   "id": "portable-combine",
   "metadata": {},
   "source": [
    "- Select the CONUS area"
   ]
  },
  {
   "cell_type": "code",
   "execution_count": null,
   "id": "advised-discrimination",
   "metadata": {},
   "outputs": [],
   "source": [
    "gefs_dataset = gefs_dataset.sel(lon=slice(235,295),lat=slice(50,20))"
   ]
  },
  {
   "cell_type": "code",
   "execution_count": null,
   "id": "described-replica",
   "metadata": {},
   "outputs": [],
   "source": [
    "gefs_dataset"
   ]
  },
  {
   "cell_type": "markdown",
   "id": "tribal-demonstration",
   "metadata": {},
   "source": [
    "- Reassign the longitude coordinate from (0, 360) to (-180, 180)\n",
    "- Reverse the latitude coordinate from (60, 20) to (20, 60)"
   ]
  },
  {
   "cell_type": "code",
   "execution_count": null,
   "id": "necessary-dylan",
   "metadata": {},
   "outputs": [],
   "source": [
    "with dask.config.set(**{'array.slicing.split_large_chunks': True}):\n",
    "    gefs_dataset = gefs_dataset.assign_coords(lon=(((gefs_dataset.lon + 180) % 360) - 180)).reindex(lat=gefs_dataset.lat[::-1])"
   ]
  },
  {
   "cell_type": "code",
   "execution_count": null,
   "id": "yellow-milan",
   "metadata": {},
   "outputs": [],
   "source": [
    "gefs_dataset"
   ]
  },
  {
   "cell_type": "markdown",
   "id": "differential-notion",
   "metadata": {},
   "source": [
    "- Interpolate the data from integer grid point to half degree grid point to match the F data from WWLLN"
   ]
  },
  {
   "cell_type": "code",
   "execution_count": null,
   "id": "european-algebra",
   "metadata": {},
   "outputs": [],
   "source": [
    "lono = xr.DataArray(np.linspace(-124.5,-65.5,60), dims='lon')\n",
    "lato = xr.DataArray(np.linspace(20.5,49.5,30), dims='lat')\n",
    "\n",
    "with dask.config.set(**{'array.slicing.split_large_chunks': True}):\n",
    "    gefs_dataset = gefs_dataset.interp(lon=lono,lat=lato,method='linear')"
   ]
  },
  {
   "cell_type": "code",
   "execution_count": null,
   "id": "willing-failing",
   "metadata": {},
   "outputs": [],
   "source": [
    "gefs_dataset"
   ]
  },
  {
   "cell_type": "markdown",
   "id": "bigger-pollution",
   "metadata": {},
   "source": [
    "# Create CP data"
   ]
  },
  {
   "cell_type": "code",
   "execution_count": null,
   "id": "congressional-allergy",
   "metadata": {},
   "outputs": [],
   "source": [
    "cp_data = gefs_dataset.cape * gefs_dataset.pr"
   ]
  },
  {
   "cell_type": "code",
   "execution_count": null,
   "id": "sophisticated-taylor",
   "metadata": {},
   "outputs": [],
   "source": [
    "cp_data"
   ]
  },
  {
   "cell_type": "markdown",
   "id": "virgin-bikini",
   "metadata": {},
   "source": [
    "# TK18: Fig 1"
   ]
  },
  {
   "cell_type": "markdown",
   "id": "consolidated-month",
   "metadata": {},
   "source": [
    "## Generate daily avg CP map"
   ]
  },
  {
   "cell_type": "code",
   "execution_count": null,
   "id": "unable-status",
   "metadata": {},
   "outputs": [],
   "source": [
    "cp_data_SMLmean = cp_data.mean(dim={'S','M','L'})"
   ]
  },
  {
   "cell_type": "code",
   "execution_count": null,
   "id": "peripheral-peeing",
   "metadata": {},
   "outputs": [],
   "source": [
    "cp_data_SMLmean"
   ]
  },
  {
   "cell_type": "code",
   "execution_count": null,
   "id": "fifty-opinion",
   "metadata": {},
   "outputs": [],
   "source": [
    "start = time.time()\n",
    "cp_data_SMLmean.persist()\n",
    "end = time.time()\n",
    "print(end - start)"
   ]
  },
  {
   "cell_type": "code",
   "execution_count": null,
   "id": "beneficial-tackle",
   "metadata": {},
   "outputs": [],
   "source": [
    "start = time.time()\n",
    "cp_data_SMLmean.to_netcdf('/home/disk/eos12/wycheng/data/metadata/cp_data_SMLmean.nc',mode='w')\n",
    "end = time.time()\n",
    "print(end - start)"
   ]
  },
  {
   "cell_type": "markdown",
   "id": "deluxe-relative",
   "metadata": {},
   "source": [
    "## Generate CP forecast data"
   ]
  },
  {
   "cell_type": "markdown",
   "id": "stunning-baseline",
   "metadata": {},
   "source": [
    "- Turn the Start time and Lead time coordinates ('S', 'L') to new Forecast time coordinate (fct)"
   ]
  },
  {
   "cell_type": "code",
   "execution_count": null,
   "id": "controlling-marketing",
   "metadata": {},
   "outputs": [],
   "source": [
    "new_coor = (cp_data.S + cp_data.L).stack(fct=('S', 'L')).reset_index('fct',drop=True)"
   ]
  },
  {
   "cell_type": "code",
   "execution_count": null,
   "id": "civilian-electron",
   "metadata": {},
   "outputs": [],
   "source": [
    "new_coor"
   ]
  },
  {
   "cell_type": "code",
   "execution_count": null,
   "id": "significant-suicide",
   "metadata": {},
   "outputs": [],
   "source": [
    "cp_forecast = cp_data.stack(fct=('S', 'L')).reset_index('fct',drop=True)"
   ]
  },
  {
   "cell_type": "code",
   "execution_count": null,
   "id": "optical-little",
   "metadata": {},
   "outputs": [],
   "source": [
    "cp_forecast"
   ]
  },
  {
   "cell_type": "code",
   "execution_count": null,
   "id": "piano-pregnancy",
   "metadata": {},
   "outputs": [],
   "source": [
    "cp_forecast = cp_forecast.assign_coords(fct=new_coor)"
   ]
  },
  {
   "cell_type": "code",
   "execution_count": null,
   "id": "diverse-gentleman",
   "metadata": {},
   "outputs": [],
   "source": [
    "cp_forecast"
   ]
  },
  {
   "cell_type": "code",
   "execution_count": null,
   "id": "polar-valley",
   "metadata": {},
   "outputs": [],
   "source": [
    "cp_forecast_MXYmean = cp_forecast.mean(dim={'M', 'lat', 'lon'})"
   ]
  },
  {
   "cell_type": "code",
   "execution_count": null,
   "id": "rubber-herald",
   "metadata": {},
   "outputs": [],
   "source": [
    "cp_forecast_MXYmean"
   ]
  },
  {
   "cell_type": "code",
   "execution_count": null,
   "id": "increased-oxygen",
   "metadata": {},
   "outputs": [],
   "source": [
    "cp_forecast_MXYTmean = cp_forecast_mean.groupby(test_mean.fct).mean(dim='fct')"
   ]
  },
  {
   "cell_type": "code",
   "execution_count": null,
   "id": "digital-denmark",
   "metadata": {},
   "outputs": [],
   "source": [
    "cp_forecast_MXYTmean"
   ]
  },
  {
   "cell_type": "code",
   "execution_count": null,
   "id": "qualified-technique",
   "metadata": {},
   "outputs": [],
   "source": [
    "cp_data1c = cp_forecast_MXYTmean.sel(fct=slice(\"2011-01-01\", \"2011-12-31\"))"
   ]
  },
  {
   "cell_type": "code",
   "execution_count": null,
   "id": "entertaining-arabic",
   "metadata": {},
   "outputs": [],
   "source": [
    "cp_data1c.persist()"
   ]
  },
  {
   "cell_type": "code",
   "execution_count": null,
   "id": "harmful-installation",
   "metadata": {},
   "outputs": [],
   "source": [
    "F_data1c = Fdata.where( ~np.isnan(mask) ).sum(dim={'lat','lon'}).sel(Time=slice(\"2011-01-01\", \"2011-12-31\")).persist()"
   ]
  },
  {
   "cell_type": "code",
   "execution_count": null,
   "id": "verified-tourism",
   "metadata": {},
   "outputs": [],
   "source": [
    "F_data1c"
   ]
  },
  {
   "cell_type": "code",
   "execution_count": null,
   "id": "dependent-assistant",
   "metadata": {},
   "outputs": [],
   "source": [
    "da1 = F_data1c.expand_dims('y')"
   ]
  },
  {
   "cell_type": "code",
   "execution_count": null,
   "id": "oriental-crowd",
   "metadata": {},
   "outputs": [],
   "source": [
    "da2 = cp_data1c.expand_dims('y')"
   ]
  },
  {
   "cell_type": "code",
   "execution_count": null,
   "id": "danish-fleece",
   "metadata": {},
   "outputs": [],
   "source": []
  },
  {
   "cell_type": "markdown",
   "id": "systematic-twist",
   "metadata": {},
   "source": [
    "## Read cp_data_SMLmean dataset"
   ]
  },
  {
   "cell_type": "code",
   "execution_count": null,
   "id": "latter-equation",
   "metadata": {},
   "outputs": [],
   "source": [
    "#cp_data_SMLmean = xr.open_dataarray('/home/wei/data/metadata/cp_data_SMLmean.nc').persist()"
   ]
  },
  {
   "cell_type": "markdown",
   "id": "constant-convention",
   "metadata": {},
   "source": [
    "## Plotting"
   ]
  },
  {
   "cell_type": "code",
   "execution_count": null,
   "id": "southwest-desktop",
   "metadata": {
    "tags": []
   },
   "outputs": [],
   "source": [
    "import cartopy.crs as ccrs\n",
    "import regionmask\n",
    "import geopandas as gpd\n",
    "\n",
    "import matplotlib.ticker as mticker\n",
    "from mpl_toolkits.axes_grid1 import make_axes_locatable"
   ]
  },
  {
   "cell_type": "code",
   "execution_count": null,
   "id": "virgin-asbestos",
   "metadata": {},
   "outputs": [],
   "source": [
    "def plot_map(figsize,data,cmap,vmin=None,vmax=None,title=None,unit=None):\n",
    "    \n",
    "    plt.rcParams.update({'font.size': 48})\n",
    "    \n",
    "    xlim    = (-125,-65)\n",
    "    ylim    = (25,50)\n",
    "    \n",
    "    pcm = xr.plot.pcolormesh(data,\"lon\",\"lat\",\n",
    "                             figsize=figsize,\n",
    "                             xlim=xlim,\n",
    "                             ylim=ylim,\n",
    "                             cmap=cmap,\n",
    "                             vmin=vmin,\n",
    "                             vmax=vmax,\n",
    "                             add_colorbar=True,\n",
    "                            )\n",
    "\n",
    "    plt.title(title)\n",
    "    plt.xlabel('')\n",
    "    plt.ylabel('')"
   ]
  },
  {
   "cell_type": "markdown",
   "id": "inside-carroll",
   "metadata": {},
   "source": [
    "### Set CONUS filter"
   ]
  },
  {
   "cell_type": "code",
   "execution_count": null,
   "id": "incredible-handbook",
   "metadata": {},
   "outputs": [],
   "source": [
    "PATH_TO_SHAPEFILE = '/home/disk/eos12/wycheng/data/WorldCountriesBoundaries/99bfd9e7-bb42-4728-87b5-07f8c8ac631c2020328-1-1vef4ev.lu5nk.shp'\n",
    "countries = gpd.read_file(PATH_TO_SHAPEFILE)\n",
    "indexes = np.arange(250).tolist()\n",
    "countries_mask_poly = regionmask.Regions(name = 'COUNTRY', numbers = indexes, names = countries.CNTRY_NAME[indexes], abbrevs = countries.CNTRY_NAME[indexes], outlines = list(countries.geometry.values[i] for i in range(0,countries.shape[0])))"
   ]
  },
  {
   "cell_type": "code",
   "execution_count": null,
   "id": "nervous-institution",
   "metadata": {},
   "outputs": [],
   "source": [
    "mask = countries_mask_poly.mask(Fdata.isel(Time = 0), lat_name='lat', lon_name='lon')\n",
    "mask = mask.where( (mask==232) & (mask.lat<49.35) & (mask.lat>24.74)  & (mask.lon>-124.78) & (mask.lon<-66.95) )"
   ]
  },
  {
   "cell_type": "code",
   "execution_count": null,
   "id": "scenic-spiritual",
   "metadata": {},
   "outputs": [],
   "source": [
    "mask"
   ]
  },
  {
   "cell_type": "markdown",
   "id": "infectious-saudi",
   "metadata": {},
   "source": [
    "## Figure 1a"
   ]
  },
  {
   "cell_type": "code",
   "execution_count": null,
   "id": "grand-jones",
   "metadata": {},
   "outputs": [],
   "source": [
    "data1a = Fdata.mean(dim='Time').where( ~np.isnan(mask) ).persist()"
   ]
  },
  {
   "cell_type": "code",
   "execution_count": null,
   "id": "prime-heaven",
   "metadata": {},
   "outputs": [],
   "source": [
    "figsize = (48,16)\n",
    "cmap    = plt.get_cmap('jet')\n",
    "vmin    = 0\n",
    "vmax    = 200\n",
    "title   = 'Daily Avg Number of Strokes'\n",
    "unit    = ''\n",
    "\n",
    "plot_map(figsize,data1a,cmap,vmin=vmin,vmax=vmax,title=title,unit=unit)\n",
    "plt.savefig('TK18_Fig1a.png')"
   ]
  },
  {
   "cell_type": "markdown",
   "id": "working-bhutan",
   "metadata": {},
   "source": [
    "## Figure 1b"
   ]
  },
  {
   "cell_type": "code",
   "execution_count": null,
   "id": "hungry-fortune",
   "metadata": {},
   "outputs": [],
   "source": [
    "data1b = cp_data_SMLmean.where( ~np.isnan(mask) ).persist()"
   ]
  },
  {
   "cell_type": "code",
   "execution_count": null,
   "id": "healthy-skirt",
   "metadata": {},
   "outputs": [],
   "source": [
    "figsize = (48,16)\n",
    "cmap    = plt.get_cmap('jet')\n",
    "vmin    = 0\n",
    "vmax    = 0.04\n",
    "title   = 'Daily Avg CP'\n",
    "unit    = ''\n",
    "\n",
    "plot_map(figsize,data=data1b,cmap=cmap,vmin=vmin,vmax=vmax,title=title,unit=unit)\n",
    "plt.savefig('TK18_Fig1b.png')"
   ]
  },
  {
   "cell_type": "markdown",
   "id": "prepared-brush",
   "metadata": {},
   "source": [
    "## Figure 1c"
   ]
  },
  {
   "cell_type": "code",
   "execution_count": null,
   "id": "opposite-water",
   "metadata": {},
   "outputs": [],
   "source": [
    "data1c = Fdata.where( ~np.isnan(mask) ).sum(dim={'lat','lon'}).isel(Time=slice(365,730)).persist()"
   ]
  },
  {
   "cell_type": "code",
   "execution_count": null,
   "id": "stuffed-bread",
   "metadata": {},
   "outputs": [],
   "source": [
    "figsize = (48,16)\n",
    "\n",
    "xr.plot.line(data1c,\n",
    "             figsize=figsize,\n",
    "             linewidth=4,\n",
    "             color='gray',\n",
    "            )\n",
    "plt.savefig('TK18_Fig1c.png')"
   ]
  },
  {
   "cell_type": "markdown",
   "id": "satisfactory-remark",
   "metadata": {},
   "source": [
    "## Figure 1d"
   ]
  },
  {
   "cell_type": "code",
   "execution_count": null,
   "id": "sapphire-hearing",
   "metadata": {},
   "outputs": [],
   "source": [
    "data1d = Fdata.where( (Fdata>0) & (~np.isnan(mask)) ).count(dim={'lat','lon'}).isel(Time=slice(365,730)).persist()"
   ]
  },
  {
   "cell_type": "code",
   "execution_count": null,
   "id": "exterior-horizontal",
   "metadata": {},
   "outputs": [],
   "source": [
    "figsize = (48,16)\n",
    "\n",
    "xr.plot.line(data1d,\n",
    "             figsize=figsize,\n",
    "             linewidth=4,\n",
    "             color='gray',\n",
    "            )\n",
    "plt.savefig('TK18_Fig1d.png')"
   ]
  },
  {
   "cell_type": "code",
   "execution_count": null,
   "id": "satellite-corruption",
   "metadata": {},
   "outputs": [],
   "source": []
  },
  {
   "cell_type": "markdown",
   "id": "norman-carry",
   "metadata": {},
   "source": [
    "# Testing"
   ]
  },
  {
   "cell_type": "code",
   "execution_count": null,
   "id": "verbal-portland",
   "metadata": {},
   "outputs": [],
   "source": [
    "new_time_coor = data1c.Time\n",
    "new_time_coor = new_time_coor.reset_index('Time',drop=True)"
   ]
  },
  {
   "cell_type": "code",
   "execution_count": null,
   "id": "geological-circumstances",
   "metadata": {},
   "outputs": [],
   "source": [
    "new_time_coor"
   ]
  },
  {
   "cell_type": "code",
   "execution_count": null,
   "id": "common-sampling",
   "metadata": {},
   "outputs": [],
   "source": [
    "da1 = data1c.expand_dims('y')\n",
    "da2 = test_1c."
   ]
  },
  {
   "cell_type": "code",
   "execution_count": null,
   "id": "abroad-concentrate",
   "metadata": {},
   "outputs": [],
   "source": [
    "test_1c.reset_index('fct',drop=True)"
   ]
  },
  {
   "cell_type": "code",
   "execution_count": null,
   "id": "smaller-beaver",
   "metadata": {},
   "outputs": [],
   "source": [
    "test = xr.concat([da1,da2],'y')"
   ]
  },
  {
   "cell_type": "code",
   "execution_count": null,
   "id": "thrown-study",
   "metadata": {},
   "outputs": [],
   "source": [
    "test"
   ]
  },
  {
   "cell_type": "code",
   "execution_count": null,
   "id": "present-karaoke",
   "metadata": {},
   "outputs": [],
   "source": [
    "matplotlib.rcParams['axes.prop_cycle'] = matplotlib.cycler(color=[\"grey\", \"b\", \"g\"]) \n",
    "\n",
    "xr.plot.line(test,\n",
    "             hue='y',\n",
    "             figsize=figsize,\n",
    "             linewidth=4,\n",
    "             \n",
    "            )\n",
    "plt.legend(['WWLLN','GEFS'])"
   ]
  },
  {
   "cell_type": "code",
   "execution_count": null,
   "id": "affected-graduate",
   "metadata": {},
   "outputs": [],
   "source": []
  },
  {
   "cell_type": "code",
   "execution_count": null,
   "id": "extensive-teens",
   "metadata": {},
   "outputs": [],
   "source": [
    "cp_data"
   ]
  },
  {
   "cell_type": "code",
   "execution_count": null,
   "id": "duplicate-august",
   "metadata": {},
   "outputs": [],
   "source": [
    "new_coor = (cp_data.S + cp_data.L).stack(fct=('S', 'L')).reset_index('fct',drop=True)"
   ]
  },
  {
   "cell_type": "code",
   "execution_count": null,
   "id": "figured-windows",
   "metadata": {},
   "outputs": [],
   "source": [
    "new_coor"
   ]
  },
  {
   "cell_type": "code",
   "execution_count": null,
   "id": "coordinate-shift",
   "metadata": {},
   "outputs": [],
   "source": [
    "test = cp_data.stack(fct=('S', 'L')).reset_index('fct',drop=True)"
   ]
  },
  {
   "cell_type": "code",
   "execution_count": null,
   "id": "coated-washington",
   "metadata": {},
   "outputs": [],
   "source": [
    "test"
   ]
  },
  {
   "cell_type": "code",
   "execution_count": null,
   "id": "quantitative-findings",
   "metadata": {},
   "outputs": [],
   "source": []
  },
  {
   "cell_type": "code",
   "execution_count": null,
   "id": "thorough-alert",
   "metadata": {},
   "outputs": [],
   "source": [
    "test.assign_coords(fct=new_coor)"
   ]
  },
  {
   "cell_type": "code",
   "execution_count": null,
   "id": "scheduled-brunei",
   "metadata": {},
   "outputs": [],
   "source": [
    "test_mean = test.mean(dim={'M', 'lat', 'lon'}).assign_coords(fct=new_coor)"
   ]
  },
  {
   "cell_type": "code",
   "execution_count": null,
   "id": "dying-stuff",
   "metadata": {},
   "outputs": [],
   "source": [
    "test_mean"
   ]
  },
  {
   "cell_type": "code",
   "execution_count": null,
   "id": "animal-chain",
   "metadata": {},
   "outputs": [],
   "source": [
    "test_1c = test_mean.groupby(test_mean.fct).mean(dim='fct')"
   ]
  },
  {
   "cell_type": "code",
   "execution_count": null,
   "id": "declared-seating",
   "metadata": {},
   "outputs": [],
   "source": [
    "test_1c = test_1c.isel(fct=slice(360,725))"
   ]
  },
  {
   "cell_type": "code",
   "execution_count": null,
   "id": "competent-dividend",
   "metadata": {},
   "outputs": [],
   "source": [
    "data1c"
   ]
  },
  {
   "cell_type": "code",
   "execution_count": null,
   "id": "fatal-drink",
   "metadata": {},
   "outputs": [],
   "source": []
  }
 ],
 "metadata": {
  "kernelspec": {
   "display_name": "Python 3",
   "language": "python",
   "name": "python3"
  },
  "language_info": {
   "codemirror_mode": {
    "name": "ipython",
    "version": 3
   },
   "file_extension": ".py",
   "mimetype": "text/x-python",
   "name": "python",
   "nbconvert_exporter": "python",
   "pygments_lexer": "ipython3",
   "version": "3.7.9"
  }
 },
 "nbformat": 4,
 "nbformat_minor": 5
}
