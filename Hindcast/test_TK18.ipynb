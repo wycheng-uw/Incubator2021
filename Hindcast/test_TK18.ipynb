{
 "cells": [
  {
   "cell_type": "code",
   "execution_count": null,
   "id": "social-velvet",
   "metadata": {},
   "outputs": [],
   "source": [
    "import sys\n",
    "print(sys.executable)"
   ]
  },
  {
   "cell_type": "code",
   "execution_count": null,
   "id": "moderate-maldives",
   "metadata": {},
   "outputs": [],
   "source": [
    "import numpy as np\n",
    "import scipy as sp\n",
    "import dask\n",
    "import pandas as pd\n",
    "import xarray as xr\n",
    "import matplotlib\n",
    "from cycler import cycler\n",
    "import matplotlib.pyplot as plt\n",
    "import time\n",
    "from datetime import datetime, timedelta"
   ]
  },
  {
   "cell_type": "markdown",
   "id": "owned-airport",
   "metadata": {},
   "source": [
    "# Data Processing"
   ]
  },
  {
   "cell_type": "markdown",
   "id": "defined-question",
   "metadata": {},
   "source": [
    "### Set CONUS filter"
   ]
  },
  {
   "cell_type": "code",
   "execution_count": null,
   "id": "three-reaction",
   "metadata": {},
   "outputs": [],
   "source": [
    "import regionmask\n",
    "import geopandas as gpd"
   ]
  },
  {
   "cell_type": "code",
   "execution_count": null,
   "id": "corrected-scale",
   "metadata": {},
   "outputs": [],
   "source": [
    "PATH_TO_SHAPEFILE = '/home/disk/eos12/wycheng/data/WorldCountriesBoundaries/99bfd9e7-bb42-4728-87b5-07f8c8ac631c2020328-1-1vef4ev.lu5nk.shp'\n",
    "countries = gpd.read_file(PATH_TO_SHAPEFILE)\n",
    "indexes = np.arange(250).tolist()\n",
    "countries_mask_poly = regionmask.Regions(name = 'COUNTRY', numbers = indexes, names = countries.CNTRY_NAME[indexes], abbrevs = countries.CNTRY_NAME[indexes], outlines = list(countries.geometry.values[i] for i in range(0,countries.shape[0])))"
   ]
  },
  {
   "cell_type": "markdown",
   "id": "meaning-scale",
   "metadata": {},
   "source": [
    "## Read WWLLN data"
   ]
  },
  {
   "cell_type": "markdown",
   "id": "forbidden-czech",
   "metadata": {},
   "source": [
    "- Variable(s):\n",
    "    - F (Lightning flash rate): The number of lightning strokes observed by WWLLN in each grid cell(# of strokes / grid / 3 hr)."
   ]
  },
  {
   "cell_type": "code",
   "execution_count": null,
   "id": "opening-marsh",
   "metadata": {},
   "outputs": [],
   "source": [
    "WWLLN_dataset = xr.open_mfdataset('/home/disk/eos12/wycheng/data/WWLLN/Global/WWLLN_20*.nc', \n",
    "                                  chunks={'Time':'auto','lat':'auto','lon':'auto'},\n",
    "                                  parallel=True,\n",
    "                                 )"
   ]
  },
  {
   "cell_type": "markdown",
   "id": "violent-native",
   "metadata": {},
   "source": [
    "Select the CONUS area"
   ]
  },
  {
   "cell_type": "code",
   "execution_count": null,
   "id": "duplicate-scholar",
   "metadata": {},
   "outputs": [],
   "source": [
    "WWLLN_dataset = WWLLN_dataset.sel(lon=slice(-125,-65),lat=slice(20,50))"
   ]
  },
  {
   "cell_type": "markdown",
   "id": "human-consortium",
   "metadata": {},
   "source": [
    "Change the temporal resolution from 3 hours to 1 day \n",
    "- Method: Sum up all observed strokes in 1 day"
   ]
  },
  {
   "cell_type": "code",
   "execution_count": null,
   "id": "ancient-festival",
   "metadata": {},
   "outputs": [],
   "source": [
    "F_data = WWLLN_dataset.F.resample(Time='1D').sum()"
   ]
  },
  {
   "cell_type": "markdown",
   "id": "fluid-medline",
   "metadata": {},
   "source": [
    "US country code = 232"
   ]
  },
  {
   "cell_type": "code",
   "execution_count": null,
   "id": "separate-helping",
   "metadata": {},
   "outputs": [],
   "source": [
    "mask = countries_mask_poly.mask(F_data.isel(Time = 0), lat_name='lat', lon_name='lon')\n",
    "mask = mask.where( (mask==232) & (mask.lat<49.35) & (mask.lat>24.74)  & (mask.lon>-124.78) & (mask.lon<-66.95) )"
   ]
  },
  {
   "cell_type": "markdown",
   "id": "restricted-printing",
   "metadata": {},
   "source": [
    "Persist F_data array for later use"
   ]
  },
  {
   "cell_type": "code",
   "execution_count": null,
   "id": "faced-restaurant",
   "metadata": {},
   "outputs": [],
   "source": [
    "F_data = F_data.where( ~np.isnan(mask) ).persist()\n",
    "F_data"
   ]
  },
  {
   "cell_type": "code",
   "execution_count": null,
   "id": "endless-accessory",
   "metadata": {},
   "outputs": [],
   "source": [
    "F_data.mean(dim='Time').plot()"
   ]
  },
  {
   "cell_type": "markdown",
   "id": "illegal-pregnancy",
   "metadata": {},
   "source": [
    "## Read GEFS data"
   ]
  },
  {
   "cell_type": "markdown",
   "id": "approved-cosmetic",
   "metadata": {},
   "source": [
    "Read in the Hindcast dataset from GEFS model and Rename the coordinates from ('X', 'Y') to ('lon', 'lat')\n",
    "- Variables:\n",
    "    - CAPE: convective available potential energy (J/kg)\n",
    "    - PR: precipitation (mm)\n",
    "- The dimensions:\n",
    "    - S: Start Time (forecast_reference_time): ordered from (0000 6 Jan 2010) to (0000 28 Dec 2016) by 7 (days)\n",
    "    - M: Ensemble Member (realization): ordered from (0) to (10) by 1.0\n",
    "    - L: Forecast Lead Time (forecast_period): ordered from (0.5 days) to (34.5 days) by 1.0 (days)\n",
    "    - lon: The longitude; Notice that the range of this coordinate is from (0) to (360)\n",
    "    - lat: The latitude; Notice that the order of this coordinate is from (90) to (-90)"
   ]
  },
  {
   "cell_type": "code",
   "execution_count": null,
   "id": "descending-quantum",
   "metadata": {},
   "outputs": [],
   "source": [
    "GEFS_dataset = xr.open_mfdataset('/home/disk/eos12/wycheng/data/GEFS/GEFS*.nc',\n",
    "                                 chunks={'S':'auto','M':'auto','L':'auto','X':'auto','Y':'auto'},\n",
    "                                 parallel=True,\n",
    "                                )\\\n",
    "                 .rename({'X': 'lon','Y': 'lat'})"
   ]
  },
  {
   "cell_type": "markdown",
   "id": "monetary-settle",
   "metadata": {},
   "source": [
    "Select the CONUS area"
   ]
  },
  {
   "cell_type": "code",
   "execution_count": null,
   "id": "hungry-apache",
   "metadata": {},
   "outputs": [],
   "source": [
    "GEFS_dataset = GEFS_dataset.sel(lon=slice(225,300),lat=slice(60,20))"
   ]
  },
  {
   "cell_type": "code",
   "execution_count": null,
   "id": "indian-madonna",
   "metadata": {},
   "outputs": [],
   "source": [
    "GEFS_dataset"
   ]
  },
  {
   "cell_type": "markdown",
   "id": "reasonable-bobby",
   "metadata": {},
   "source": [
    "- Reassign the longitude coordinate from (0, 360) to (-180, 180)\n",
    "- Reverse the latitude coordinate from (60, 20) to (20, 60)"
   ]
  },
  {
   "cell_type": "code",
   "execution_count": null,
   "id": "offshore-variable",
   "metadata": {},
   "outputs": [],
   "source": [
    "with dask.config.set(**{'array.slicing.split_large_chunks': True}):\n",
    "    GEFS_dataset = GEFS_dataset.assign_coords(lon=(((GEFS_dataset.lon + 180) % 360) - 180)).reindex(lat=GEFS_dataset.lat[::-1])"
   ]
  },
  {
   "cell_type": "code",
   "execution_count": null,
   "id": "fitting-property",
   "metadata": {},
   "outputs": [],
   "source": [
    "GEFS_dataset"
   ]
  },
  {
   "cell_type": "markdown",
   "id": "upper-merit",
   "metadata": {},
   "source": [
    "Interpolate the data from integer grid point to half degree grid point to match the F data from WWLLN"
   ]
  },
  {
   "cell_type": "code",
   "execution_count": null,
   "id": "blank-sullivan",
   "metadata": {},
   "outputs": [],
   "source": [
    "lono = xr.DataArray(np.linspace(-134.5,-60.5,75), dims='lon')\n",
    "lato = xr.DataArray(np.linspace(20.5,59.5,40), dims='lat')\n",
    "\n",
    "with dask.config.set(**{'array.slicing.split_large_chunks': True}):\n",
    "    GEFS_dataset = GEFS_dataset.interp(lon=lono,lat=lato,method='linear')"
   ]
  },
  {
   "cell_type": "code",
   "execution_count": null,
   "id": "unexpected-ballot",
   "metadata": {},
   "outputs": [],
   "source": [
    "GEFS_dataset"
   ]
  },
  {
   "cell_type": "code",
   "execution_count": null,
   "id": "exceptional-roman",
   "metadata": {},
   "outputs": [],
   "source": [
    "#GEFS_dataset['cape'].to_netcdf(path='/home/disk/eos12/wycheng/data/US/GEFS/GEFS_cape_dataset.nc', mode='w')\n",
    "GEFS_dataset['pr'].to_netcdf(path='/home/disk/eos12/wycheng/data/US/GEFS/GEFS_pr_dataset.nc', mode='w')\n",
    "\n",
    "#GEFS_dataset = xr.open_mfdataset('/home/disk/eos12/wycheng/data/US/GEFS/GEFS_*_dataset.nc')"
   ]
  },
  {
   "cell_type": "markdown",
   "id": "german-chile",
   "metadata": {},
   "source": [
    "# Create CP data"
   ]
  },
  {
   "cell_type": "code",
   "execution_count": null,
   "id": "awful-workshop",
   "metadata": {},
   "outputs": [],
   "source": [
    "CP_data_raw = (GEFS_dataset.cape * GEFS_dataset.pr).where( ~np.isnan(mask) )\n",
    "CP_data_raw.name = 'CP_raw'\n",
    "CP_data_raw"
   ]
  },
  {
   "cell_type": "code",
   "execution_count": null,
   "id": "enhanced-petite",
   "metadata": {},
   "outputs": [],
   "source": [
    "CP_data_raw.mean(dim={'S','M','L'}).plot()"
   ]
  },
  {
   "cell_type": "markdown",
   "id": "local-forth",
   "metadata": {
    "tags": []
   },
   "source": [
    "# TK18: Fig 1"
   ]
  },
  {
   "cell_type": "markdown",
   "id": "devoted-namibia",
   "metadata": {},
   "source": [
    "Turn the Start time and Lead time coordinates ('S', 'L') into forecast time coordinate (FCT) for later use"
   ]
  },
  {
   "cell_type": "code",
   "execution_count": null,
   "id": "harmful-brass",
   "metadata": {},
   "outputs": [],
   "source": [
    "FCT_coor = xr.DataArray(\n",
    "                        data=(CP_data_raw.S + CP_data_raw.L).stack(FCT={'S','L'}),\n",
    "                        dims=['FCT'],\n",
    "                        coords=dict(\n",
    "                                    FCT=(['FCT'], (CP_data_raw.S + CP_data_raw.L).stack(FCT={'S','L'})),\n",
    "                                   ),\n",
    "                        attrs=None,\n",
    "                       )\n",
    "FCT_coor.name='FCT'\n",
    "FCT_coor"
   ]
  },
  {
   "cell_type": "markdown",
   "id": "electronic-tyler",
   "metadata": {},
   "source": [
    "## Generate CP forecast data"
   ]
  },
  {
   "cell_type": "markdown",
   "id": "becoming-waterproof",
   "metadata": {
    "tags": []
   },
   "source": [
    "### Calculate the conversion coefficient (Ccpf) that convert CP to lightning flash rates. "
   ]
  },
  {
   "cell_type": "markdown",
   "id": "narrative-disney",
   "metadata": {},
   "source": [
    "In TK18, the conversion coefficient is only a function of lead time and has no temporal and spatial variation. So for each lead time, we sum up all lightning strokes observed over different S (Start time), M (Ensemble members), X (longitude), and Y (latitude), and repeat the same for CP, and the ratio between the two is the conversion coefficient."
   ]
  },
  {
   "cell_type": "code",
   "execution_count": null,
   "id": "marine-graduate",
   "metadata": {},
   "outputs": [],
   "source": [
    "F_data_mean = F_data.mean(dim={'Time','lat','lon'}).values\n",
    "F_data_mean"
   ]
  },
  {
   "cell_type": "code",
   "execution_count": null,
   "id": "given-diploma",
   "metadata": {},
   "outputs": [],
   "source": [
    "CP_data_raw_SMXYmean = CP_data_raw.mean(dim={'S','M','lat','lon'}).values\n",
    "CP_data_raw_SMXYmean"
   ]
  },
  {
   "cell_type": "code",
   "execution_count": null,
   "id": "particular-hearts",
   "metadata": {},
   "outputs": [],
   "source": [
    "Ccpf = xr.DataArray(\n",
    "    data=F_data_mean / CP_data_raw_SMXYmean,\n",
    "    dims=['L'],\n",
    "    coords=dict(\n",
    "        L=(['L'], CP_data_raw.L.values),\n",
    "    ),\n",
    "    attrs=CP_data_raw.L.attrs\n",
    "    ,\n",
    ")"
   ]
  },
  {
   "cell_type": "code",
   "execution_count": null,
   "id": "prescribed-explosion",
   "metadata": {},
   "outputs": [],
   "source": [
    "Ccpf.name='Ccpf'\n",
    "plt.plot(Ccpf.values)\n",
    "plt.ylabel('Conversion coefficient')\n",
    "plt.xlabel('Lead time (days)')"
   ]
  },
  {
   "cell_type": "code",
   "execution_count": null,
   "id": "genuine-health",
   "metadata": {},
   "outputs": [],
   "source": [
    "CP_data = Ccpf*CP_data_raw\n",
    "CP_data.name='CP'\n",
    "CP_data.persist()\n",
    "CP_data.mean(dim={'S','M','L'}).plot()"
   ]
  },
  {
   "cell_type": "markdown",
   "id": "nasty-musician",
   "metadata": {},
   "source": [
    "### Calculate the CP threshold values that determine whether there is lightning event"
   ]
  },
  {
   "cell_type": "markdown",
   "id": "killing-hepatitis",
   "metadata": {},
   "source": [
    "Similar to finding the conversion coefficient, for each lead time, we calculate the total lightning events over different S, M, X, and Y, and then try to find the corresponding CP value that will have the same number of events (where CP is greater than this value). "
   ]
  },
  {
   "cell_type": "markdown",
   "id": "transsexual-generator",
   "metadata": {},
   "source": [
    "We first create a binary classification dataset that stores whether a lightning event is observed by WWLLN. When isL=1, more than 1 lightning strokes are observed by WWLLN; When isL=0, no lightning stroke is observed by WWLLN."
   ]
  },
  {
   "cell_type": "code",
   "execution_count": null,
   "id": "round-leader",
   "metadata": {},
   "outputs": [],
   "source": [
    "isL_data = F_data.where( (F_data<1) | (np.isnan(F_data)) , 1).persist()\n",
    "isL_data.name = 'isL'\n",
    "isL_data.persist()"
   ]
  },
  {
   "cell_type": "code",
   "execution_count": null,
   "id": "sensitive-block",
   "metadata": {},
   "outputs": [],
   "source": [
    "isL_data.mean(dim={'Time'}).plot()"
   ]
  },
  {
   "cell_type": "markdown",
   "id": "assigned-niger",
   "metadata": {},
   "source": [
    "Calculate the daily average of number of lightning events for normalization"
   ]
  },
  {
   "cell_type": "code",
   "execution_count": null,
   "id": "detailed-heritage",
   "metadata": {},
   "outputs": [],
   "source": [
    "isL_data_TXYsum = isL_data.sum(dim={'Time','lat','lon'}).values\n",
    "isL_data_TXYsum"
   ]
  },
  {
   "cell_type": "markdown",
   "id": "superior-characteristic",
   "metadata": {},
   "source": [
    "This means that on average, there are approximately 455367/2557~=178 lightning events per day across CONUS. This will be used as the basis for normalization of binary CP classification."
   ]
  },
  {
   "cell_type": "code",
   "execution_count": null,
   "id": "retired-barcelona",
   "metadata": {
    "tags": []
   },
   "outputs": [],
   "source": [
    "\"\"\"\n",
    "# Should've used 'DataArray.rank' instead of 'np.sort'\n",
    "thrs = np.zeros((35))\n",
    "for iL in range(35):\n",
    "    print(iL)\n",
    "    CP_data_sorted = np.sort(CP_data.isel(L=iL), axis=None)\n",
    "    thrs[iL] = CP_data_sorted[::-1][np.sum(np.isnan(CP_data_sorted))+int(np.floor(isL_data_TXYsum)*(11*365/2557))]\n",
    "\"\"\""
   ]
  },
  {
   "cell_type": "code",
   "execution_count": null,
   "id": "nasty-program",
   "metadata": {
    "tags": []
   },
   "outputs": [],
   "source": [
    "#np.save('/home/disk/eos12/wycheng/data/metadata/thrs.npy', thrs)\n",
    "thrs = np.load('/home/disk/eos12/wycheng/data/metadata/thrs.npy')"
   ]
  },
  {
   "cell_type": "code",
   "execution_count": null,
   "id": "universal-supervision",
   "metadata": {},
   "outputs": [],
   "source": [
    "plt.plot(thrs)\n",
    "plt.ylabel('CP threshold')\n",
    "plt.xlabel('Lead time (days)')"
   ]
  },
  {
   "cell_type": "code",
   "execution_count": null,
   "id": "wrong-course",
   "metadata": {},
   "outputs": [],
   "source": [
    "CP_thrs = xr.DataArray(\n",
    "    data=thrs,\n",
    "    dims=['L'],\n",
    "    coords=dict(\n",
    "        L=(['L'], CP_data_raw.L.values),\n",
    "    ),\n",
    "    attrs=CP_data_raw.L.attrs\n",
    "    ,\n",
    ")\n",
    "CP_thrs.name = 'cp_thrs'\n",
    "CP_thrs"
   ]
  },
  {
   "cell_type": "code",
   "execution_count": null,
   "id": "impressive-bulgaria",
   "metadata": {},
   "outputs": [],
   "source": [
    "#isCP_data = CP_data.where( (CP_data>40) | (np.isnan(CP_data)) , 0).where( (CP_data==0) | (np.isnan(CP_data)), 1)\n",
    "isCP_data = xr.where(CP_data>CP_thrs, 1, 0).where(~np.isnan(CP_data))\n",
    "isCP_data.name = 'isCP'\n",
    "isCP_data.persist()"
   ]
  },
  {
   "cell_type": "markdown",
   "id": "architectural-bottom",
   "metadata": {},
   "source": [
    "Just to double check, should be pretty close 178"
   ]
  },
  {
   "cell_type": "code",
   "execution_count": null,
   "id": "former-georgia",
   "metadata": {},
   "outputs": [],
   "source": [
    "isCP_data_SMmean_XYsum = isCP_data.isel(L=slice(0,7)).mean(dim={'S','M'}).sum(dim={'lat','lon'}).values\n",
    "isCP_data_SMmean_XYsum"
   ]
  },
  {
   "cell_type": "code",
   "execution_count": null,
   "id": "tough-programmer",
   "metadata": {},
   "outputs": [],
   "source": [
    "isCP_data.isel(L=slice(0,7)).mean(dim={'S','M','L'}).plot()"
   ]
  },
  {
   "cell_type": "markdown",
   "id": "economic-compilation",
   "metadata": {},
   "source": [
    "## Plotting"
   ]
  },
  {
   "cell_type": "code",
   "execution_count": null,
   "id": "cathedral-landing",
   "metadata": {
    "tags": []
   },
   "outputs": [],
   "source": [
    "import cartopy.crs as ccrs\n",
    "import matplotlib.ticker as mticker\n",
    "from mpl_toolkits.axes_grid1 import make_axes_locatable"
   ]
  },
  {
   "cell_type": "code",
   "execution_count": null,
   "id": "excellent-matrix",
   "metadata": {},
   "outputs": [],
   "source": [
    "def plot_map(figsize,data,cmap,vmin=None,vmax=None,title=None,unit=None):\n",
    "    \n",
    "    plt.rcParams.update({'font.size': 48})\n",
    "    \n",
    "    xlim    = (-125,-65)\n",
    "    ylim    = (25,50)\n",
    "    \n",
    "    pcm = xr.plot.pcolormesh(data,\"lon\",\"lat\",\n",
    "                             figsize=figsize,\n",
    "                             xlim=xlim,\n",
    "                             ylim=ylim,\n",
    "                             cmap=cmap,\n",
    "                             vmin=vmin,\n",
    "                             vmax=vmax,\n",
    "                             add_colorbar=True,\n",
    "                            )\n",
    "\n",
    "    plt.title(title)\n",
    "    plt.xlabel('')\n",
    "    plt.ylabel('')\n",
    "    \n",
    "    plt.rcParams.update({'font.size': 10})"
   ]
  },
  {
   "cell_type": "markdown",
   "id": "blond-dover",
   "metadata": {},
   "source": [
    "## Figure 1"
   ]
  },
  {
   "cell_type": "markdown",
   "id": "statutory-truck",
   "metadata": {},
   "source": [
    "### Fig 1a"
   ]
  },
  {
   "cell_type": "code",
   "execution_count": null,
   "id": "improving-cathedral",
   "metadata": {},
   "outputs": [],
   "source": [
    "data1a = F_data.mean(dim='Time').where( ~np.isnan(mask) ).persist()"
   ]
  },
  {
   "cell_type": "code",
   "execution_count": null,
   "id": "ahead-input",
   "metadata": {},
   "outputs": [],
   "source": [
    "figsize = (48,16)\n",
    "cmap    = plt.get_cmap('jet')\n",
    "vmin    = 0\n",
    "vmax    = 200\n",
    "title   = 'Daily Avg Number of Strokes'\n",
    "unit    = ''\n",
    "\n",
    "plot_map(figsize,data1a,cmap,vmin=vmin,vmax=vmax,title=title,unit=unit)\n",
    "#plt.savefig('TK18_Fig1a.png')"
   ]
  },
  {
   "cell_type": "markdown",
   "id": "chronic-tracy",
   "metadata": {},
   "source": [
    "### Fig 1b"
   ]
  },
  {
   "cell_type": "code",
   "execution_count": null,
   "id": "choice-spanking",
   "metadata": {},
   "outputs": [],
   "source": [
    "data1b = CP_data.isel(L=slice(0,7)).mean(dim={'S','M','L'}).where( ~np.isnan(mask) ).persist()"
   ]
  },
  {
   "cell_type": "code",
   "execution_count": null,
   "id": "primary-monkey",
   "metadata": {},
   "outputs": [],
   "source": [
    "figsize = (48,16)\n",
    "cmap    = plt.get_cmap('jet')\n",
    "vmin    = 0\n",
    "vmax    = 200\n",
    "title   = 'Daily Avg CP'\n",
    "unit    = ''\n",
    "\n",
    "plot_map(figsize,data=data1b,cmap=cmap,vmin=vmin,vmax=vmax,title=title,unit=unit)\n",
    "#plt.savefig('TK18_Fig1b.png')"
   ]
  },
  {
   "cell_type": "markdown",
   "id": "recorded-moisture",
   "metadata": {},
   "source": [
    "### Fig 1c"
   ]
  },
  {
   "cell_type": "code",
   "execution_count": null,
   "id": "existing-saver",
   "metadata": {
    "tags": []
   },
   "outputs": [],
   "source": [
    " _, index = np.unique(FCT_coor['FCT'], return_index=True)\n",
    "fig1cd_coor = FCT_coor.isel(FCT=index).sel(FCT=slice(\"2011-01-01\", \"2011-12-31\"))\n",
    "fig1cd_coor"
   ]
  },
  {
   "cell_type": "code",
   "execution_count": null,
   "id": "hired-nevada",
   "metadata": {
    "tags": []
   },
   "outputs": [],
   "source": [
    "F_data_1c = F_data.sel(Time=slice(\"2011-01-01\", \"2011-12-31\")).sum(dim={'lat','lon'}).persist()\n",
    "F_data_1c.name = 'F_data_1c'\n",
    "F_data_1c"
   ]
  },
  {
   "cell_type": "code",
   "execution_count": null,
   "id": "external-norman",
   "metadata": {
    "tags": []
   },
   "outputs": [],
   "source": [
    "CP_data_1c = xr.DataArray(\n",
    "                          data=CP_data.isel(L=slice(0,7)).stack(FCT=('S', 'L')).sum(dim={'lat','lon'}).mean('M'),\n",
    "                          dims=['FCT'],\n",
    "                          coords=dict(\n",
    "                                      FCT=(['FCT'], (CP_data.isel(L=slice(0,7)).S + CP_data.isel(L=slice(0,7)).L).stack(FCT=('S', 'L'))),\n",
    "                                     ),\n",
    "                          attrs=None,\n",
    "                         ).sel(FCT=slice(\"2011-01-01\", \"2011-12-31\")).persist()\n",
    "CP_data_1c.name= 'CP_data_1c'\n",
    "CP_data_1c"
   ]
  },
  {
   "cell_type": "code",
   "execution_count": null,
   "id": "prepared-formula",
   "metadata": {
    "tags": []
   },
   "outputs": [],
   "source": [
    "figsize = (48,16)\n",
    "matplotlib.rcParams['axes.linewidth'] = 4\n",
    "plt.rcParams.update({'font.size': 48})\n",
    "\n",
    "fig = plt.figure(figsize=figsize)\n",
    "ax  = fig.add_subplot(111)\n",
    "\n",
    "ax.plot(fig1cd_coor, F_data_1c, label='WWLLN', color='gray', linewidth=4)\n",
    "ax.plot(fig1cd_coor, CP_data_1c, label='GEFS', color='blue', linewidth=4)\n",
    "\n",
    "ax.set_xlim(14975,15340)\n",
    "ax.set_ylim(0,200000)\n",
    "\n",
    "plt.legend()\n",
    "#plt.savefig('TK18_Fig1c.png')\n",
    "\n",
    "matplotlib.rcParams['axes.linewidth'] = 1\n",
    "plt.rcParams.update({'font.size': 10})"
   ]
  },
  {
   "cell_type": "markdown",
   "id": "powered-distribution",
   "metadata": {},
   "source": [
    "### Fig 1d"
   ]
  },
  {
   "cell_type": "code",
   "execution_count": null,
   "id": "swiss-brain",
   "metadata": {},
   "outputs": [],
   "source": [
    "isL_data_1d = isL_data.sel(Time=slice(\"2011-01-01\", \"2011-12-31\")).sum(dim={'lat','lon'}).persist()\n",
    "isL_data_1d"
   ]
  },
  {
   "cell_type": "code",
   "execution_count": null,
   "id": "final-arthritis",
   "metadata": {
    "tags": []
   },
   "outputs": [],
   "source": [
    "isCP_data_1d = xr.DataArray(\n",
    "                            data=isCP_data.isel(L=slice(0,7)).stack(FCT=('S', 'L')).sum(dim={'lat','lon'}).mean('M'),\n",
    "                            dims=['FCT'],\n",
    "                            coords=dict(\n",
    "                                        FCT=(['FCT'], (isCP_data.isel(L=slice(0,7)).S + isCP_data.isel(L=slice(0,7)).L).stack(FCT=('S', 'L'))),\n",
    "                                       ),\n",
    "                            attrs=None,\n",
    "                           ).sel(FCT=slice(\"2011-01-01\", \"2011-12-31\")).persist()\n",
    "isCP_data_1d.name= 'isCP_data_1d'\n",
    "isCP_data_1d"
   ]
  },
  {
   "cell_type": "code",
   "execution_count": null,
   "id": "closed-pound",
   "metadata": {},
   "outputs": [],
   "source": [
    "figsize = (48,16)\n",
    "plt.rcParams.update({'font.size': 48})\n",
    "matplotlib.rcParams['axes.linewidth'] = 4\n",
    "\n",
    "fig = plt.figure(figsize=figsize)\n",
    "ax  = fig.add_subplot(111)\n",
    "\n",
    "ax.plot(fig1cd_coor, isL_data_1d, label='WWLLN', color='gray', linewidth=4)\n",
    "ax.plot(fig1cd_coor, isCP_data_1d, label='GEFS', color='blue', linewidth=4)\n",
    "\n",
    "ax.set_xlim(14975,15340)\n",
    "ax.set_ylim(0,600)\n",
    "\n",
    "plt.legend()\n",
    "#plt.savefig('TK18_Fig1d.png')\n",
    "\n",
    "matplotlib.rcParams['axes.linewidth'] = 1\n",
    "plt.rcParams.update({'font.size': 10})"
   ]
  },
  {
   "cell_type": "markdown",
   "id": "blank-accident",
   "metadata": {},
   "source": [
    "## Figure 2"
   ]
  },
  {
   "cell_type": "code",
   "execution_count": null,
   "id": "approximate-mouse",
   "metadata": {},
   "outputs": [],
   "source": [
    "fig2_coor = np.linspace(1,35,35)"
   ]
  },
  {
   "cell_type": "markdown",
   "id": "executive-syracuse",
   "metadata": {},
   "source": [
    "### Fig 2a"
   ]
  },
  {
   "cell_type": "code",
   "execution_count": null,
   "id": "alpha-earthquake",
   "metadata": {},
   "outputs": [],
   "source": [
    "\"\"\"\n",
    "F_data_FCT = F_data.interp(Time=FCT_coor - np.timedelta64(12,'h'))\n",
    "F_data_FCT = F_data_FCT.compute()\n",
    "F_data_FCT\n",
    "\"\"\""
   ]
  },
  {
   "cell_type": "code",
   "execution_count": null,
   "id": "flying-stable",
   "metadata": {
    "tags": []
   },
   "outputs": [],
   "source": [
    "\"\"\"\n",
    "CP_data_FCT = xr.DataArray(\n",
    "                          data=CP_data.stack(FCT=('S', 'L')).mean('M'),\n",
    "                          dims=['lat','lon','FCT'],\n",
    "                          coords=dict(\n",
    "                                      lat=CP_data['lat'],\n",
    "                                      lon=CP_data['lon'],\n",
    "                                      FCT=(['FCT'], FCT_coor),\n",
    "                                     ),\n",
    "                          attrs=None,\n",
    "                         ).compute()\n",
    "CP_data_FCT\n",
    "\"\"\""
   ]
  },
  {
   "cell_type": "code",
   "execution_count": null,
   "id": "secret-recovery",
   "metadata": {
    "tags": []
   },
   "outputs": [],
   "source": [
    "\"\"\"\n",
    "fig2a_TOT = np.zeros((35))\n",
    "for iL in range(35):\n",
    "    fig2a_TOT[iL] = xr.corr(\n",
    "                            F_data_FCT.isel(FCT=slice(iL,12775,35)).stack(grid=('lat','lon')).mean('FCT').compute().rank('grid'), \n",
    "                            CP_data_FCT.isel(FCT=slice(iL,12775,35)).stack(grid=('lat','lon')).mean('FCT').compute().rank('grid'),  \n",
    "                            dim='grid'\n",
    "                           ).values\n",
    "\"\"\""
   ]
  },
  {
   "cell_type": "code",
   "execution_count": null,
   "id": "blocked-compatibility",
   "metadata": {
    "tags": []
   },
   "outputs": [],
   "source": [
    "\"\"\"\n",
    "F_data_FCT_Manom  = F_data_FCT.groupby('FCT.month') - F_data_FCT.groupby('FCT.month').mean('FCT')\n",
    "CP_data_FCT_Manom = CP_data_FCT.groupby('FCT.month') - CP_data_FCT.groupby('FCT.month').mean('FCT')\n",
    "                                                                                                                                                    \n",
    "fig2a_AMA = np.zeros((35))\n",
    "for iL in range(35):\n",
    "    fig2a_AMA[iL] = xr.corr(\n",
    "                            F_data_FCT_Manom.isel(FCT=slice(iL,12775,35)).stack(grid=('lat','lon')).compute().rank('grid'), \n",
    "                            CP_data_FCT_Manom.isel(FCT=slice(iL,12775,35)).stack(grid=('lat','lon')).compute().rank('grid'),  \n",
    "                            dim='grid'\n",
    "                           ).mean('FCT').values\n",
    "\"\"\""
   ]
  },
  {
   "cell_type": "code",
   "execution_count": null,
   "id": "through-forty",
   "metadata": {
    "tags": []
   },
   "outputs": [],
   "source": [
    "\"\"\"\n",
    "F_data_FCT_Danom  = F_data_FCT.groupby('FCT.day') - F_data_FCT.groupby('FCT.day').mean('FCT')\n",
    "CP_data_FCT_Danom = CP_data_FCT.groupby('FCT.day') - CP_data_FCT.groupby('FCT.day').mean('FCT')\n",
    "                                                                                                                                                    \n",
    "fig2a_ADA = np.zeros((35))\n",
    "for iL in range(35):\n",
    "    fig2a_ADA[iL] = xr.corr(\n",
    "                            F_data_FCT_Danom.isel(FCT=slice(iL,12775,35)).stack(grid=('lat','lon')).compute().rank('grid'), \n",
    "                            CP_data_FCT_Danom.isel(FCT=slice(iL,12775,35)).stack(grid=('lat','lon')).compute().rank('grid'),  \n",
    "                            dim='grid'\n",
    "                           ).mean('FCT').values\n",
    "\"\"\""
   ]
  },
  {
   "cell_type": "code",
   "execution_count": null,
   "id": "suitable-interstate",
   "metadata": {},
   "outputs": [],
   "source": [
    "#np.save('/home/disk/eos12/wycheng/data/metadata/fig2a_TOT.npy', fig2a_TOT)\n",
    "#np.save('/home/disk/eos12/wycheng/data/metadata/fig2a_AMA.npy', fig2a_AMA)\n",
    "#np.save('/home/disk/eos12/wycheng/data/metadata/fig2a_ADA.npy', fig2a_ADA)\n",
    "\n",
    "fig2a_TOT = np.load('/home/disk/eos12/wycheng/data/metadata/fig2a_TOT.npy')\n",
    "fig2a_AMA = np.load('/home/disk/eos12/wycheng/data/metadata/fig2a_AMA.npy')\n",
    "fig2a_ADA = np.load('/home/disk/eos12/wycheng/data/metadata/fig2a_ADA.npy')"
   ]
  },
  {
   "cell_type": "code",
   "execution_count": null,
   "id": "significant-jacksonville",
   "metadata": {
    "tags": []
   },
   "outputs": [],
   "source": [
    "figsize = (24,16)\n",
    "plt.rcParams.update({'font.size': 48})\n",
    "matplotlib.rcParams['axes.linewidth'] = 4\n",
    "\n",
    "fig = plt.figure(figsize=figsize)\n",
    "ax  = fig.add_subplot(111)\n",
    "\n",
    "ax.plot(fig2_coor, fig2a_TOT, label='Total', color='blue', linewidth=4)\n",
    "ax.plot(fig2_coor, fig2a_AMA, label='Anomalies from Monthly Average', color='red', linewidth=4)\n",
    "ax.plot(fig2_coor, fig2a_ADA, label='Anomalies from Daily Average', color='orange', linewidth=4)\n",
    "\n",
    "ax.set_xlim(0,35)\n",
    "ax.set_ylim(-0.2,1)\n",
    "ax.set_xlabel('Forecast time')\n",
    "ax.set_ylabel('R')\n",
    "ax.set_title('Forecast rank correlation (Number of strokes)')\n",
    "\n",
    "plt.legend(loc='lower left',fontsize=36)\n",
    "#plt.savefig('TK18_Fig1d.png')\n",
    "\n",
    "matplotlib.rcParams['axes.linewidth'] = 1\n",
    "plt.rcParams.update({'font.size': 10})"
   ]
  },
  {
   "cell_type": "markdown",
   "id": "guilty-biotechnology",
   "metadata": {},
   "source": [
    "### Fig 2b"
   ]
  },
  {
   "cell_type": "code",
   "execution_count": null,
   "id": "structural-caution",
   "metadata": {
    "tags": []
   },
   "outputs": [],
   "source": [
    "#\"\"\"\n",
    "isL_data_FCT = isL_data.interp(Time=FCT_coor - np.timedelta64(12,'h'))\n",
    "isL_data_FCT = isL_data_FCT.compute()\n",
    "isL_data_FCT\n",
    "#\"\"\""
   ]
  },
  {
   "cell_type": "code",
   "execution_count": null,
   "id": "laughing-morgan",
   "metadata": {
    "tags": []
   },
   "outputs": [],
   "source": [
    "#\"\"\"\n",
    "isCP_data_FCT = xr.DataArray(\n",
    "                          data=isCP_data.stack(FCT=('S', 'L')).mean('M'),\n",
    "                          dims=['lat','lon','FCT'],\n",
    "                          coords=dict(\n",
    "                                      lat=isCP_data['lat'],\n",
    "                                      lon=isCP_data['lon'],\n",
    "                                      FCT=(['FCT'], FCT_coor),\n",
    "                                     ),\n",
    "                          attrs=None,\n",
    "                         ).compute()\n",
    "isCP_data_FCT\n",
    "#\"\"\""
   ]
  },
  {
   "cell_type": "code",
   "execution_count": null,
   "id": "incomplete-robinson",
   "metadata": {
    "tags": []
   },
   "outputs": [],
   "source": [
    "#\"\"\"\n",
    "fig2b_TOT = np.zeros((35))\n",
    "for iL in range(35):\n",
    "    fig2b_TOT[iL] = xr.corr(\n",
    "                            isL_data_FCT.isel(FCT=slice(iL,12775,35)).stack(grid=('lat','lon')).compute().rank('grid'), \n",
    "                            isCP_data_FCT.isel(FCT=slice(iL,12775,35)).stack(grid=('lat','lon')).compute().rank('grid'),  \n",
    "                            dim='grid'\n",
    "                           ).mean('FCT').values\n",
    "#\"\"\""
   ]
  },
  {
   "cell_type": "code",
   "execution_count": null,
   "id": "coordinate-evening",
   "metadata": {
    "tags": []
   },
   "outputs": [],
   "source": [
    "\"\"\"\n",
    "isL_data_FCT_Manom  = isL_data_FCT.groupby('FCT.month') - isL_data_FCT.groupby('FCT.month').mean('FCT')\n",
    "isCP_data_FCT_Manom = isCP_data_FCT.groupby('FCT.month') - isCP_data_FCT.groupby('FCT.month').mean('FCT')\n",
    "                                                                                                                                                    \n",
    "fig2b_AMA = np.zeros((35))\n",
    "for iL in range(35):\n",
    "    fig2b_AMA[iL] = xr.corr(\n",
    "                            isL_data_FCT_Manom.isel(FCT=slice(iL,12775,35)).stack(grid=('lat','lon')).compute().rank('grid'), \n",
    "                            isCP_data_FCT_Manom.isel(FCT=slice(iL,12775,35)).stack(grid=('lat','lon')).compute().rank('grid'),  \n",
    "                            dim='grid'\n",
    "                           ).mean('FCT').values\n",
    "\"\"\""
   ]
  },
  {
   "cell_type": "code",
   "execution_count": null,
   "id": "stunning-conversion",
   "metadata": {
    "tags": []
   },
   "outputs": [],
   "source": [
    "\"\"\"\n",
    "isL_data_FCT_Danom  = isL_data_FCT.groupby('FCT.day') - isL_data_FCT.groupby('FCT.day').mean('FCT')\n",
    "isCP_data_FCT_Danom = isCP_data_FCT.groupby('FCT.day') - isCP_data_FCT.groupby('FCT.day').mean('FCT')\n",
    "                                                                                                                                                    \n",
    "fig2b_ADA = np.zeros((35))\n",
    "for iL in range(35):\n",
    "    fig2b_ADA[iL] = xr.corr(\n",
    "                            isL_data_FCT_Danom.isel(FCT=slice(iL,12775,35)).stack(grid=('lat','lon')).compute().rank('grid'), \n",
    "                            isCP_data_FCT_Danom.isel(FCT=slice(iL,12775,35)).stack(grid=('lat','lon')).compute().rank('grid'),  \n",
    "                            dim='grid'\n",
    "                           ).mean('FCT').values\n",
    "\"\"\""
   ]
  },
  {
   "cell_type": "code",
   "execution_count": null,
   "id": "identified-candle",
   "metadata": {
    "tags": []
   },
   "outputs": [],
   "source": [
    "#np.save('/home/disk/eos12/wycheng/data/metadata/fig2b_TOT.npy', fig2b_TOT)\n",
    "#np.save('/home/disk/eos12/wycheng/data/metadata/fig2b_AMA.npy', fig2b_AMA)\n",
    "#np.save('/home/disk/eos12/wycheng/data/metadata/fig2b_ADA.npy', fig2b_ADA)\n",
    "\n",
    "#fig2b_TOT = np.load('/home/disk/eos12/wycheng/data/metadata/fig2b_TOT.npy')\n",
    "#fig2b_AMA = np.load('/home/disk/eos12/wycheng/data/metadata/fig2b_AMA.npy')\n",
    "#fig2b_ADA = np.load('/home/disk/eos12/wycheng/data/metadata/fig2b_ADA.npy')"
   ]
  },
  {
   "cell_type": "code",
   "execution_count": null,
   "id": "steady-knife",
   "metadata": {},
   "outputs": [],
   "source": [
    "figsize = (24,16)\n",
    "plt.rcParams.update({'font.size': 48})\n",
    "matplotlib.rcParams['axes.linewidth'] = 4\n",
    "\n",
    "fig = plt.figure(figsize=figsize)\n",
    "ax  = fig.add_subplot(111)\n",
    "\n",
    "ax.plot(fig2_coor, fig2b_TOT, label='Total', color='blue', linewidth=4)\n",
    "ax.plot(fig2_coor, fig2b_AMA, label='Anomalies from Monthly Average', color='red', linewidth=4)\n",
    "ax.plot(fig2_coor, fig2b_ADA, label='Anomalies from Daily Average', color='orange', linewidth=4)\n",
    "\n",
    "ax.set_xlim(0,35)\n",
    "ax.set_ylim(-0.2,1)\n",
    "ax.set_xlabel('Forecast time')\n",
    "ax.set_ylabel('R')\n",
    "ax.set_title('Forecast rank correlation (Binary-class)')\n",
    "\n",
    "plt.legend(loc='lower left',fontsize=36)\n",
    "#plt.savefig('TK18_Fig1d.png')\n",
    "\n",
    "matplotlib.rcParams['axes.linewidth'] = 1\n",
    "plt.rcParams.update({'font.size': 10})"
   ]
  },
  {
   "cell_type": "markdown",
   "id": "clear-aerospace",
   "metadata": {},
   "source": [
    "# Random Forest Regressor"
   ]
  },
  {
   "cell_type": "code",
   "execution_count": null,
   "id": "incorporated-distinction",
   "metadata": {},
   "outputs": [],
   "source": [
    "from sklearn.ensemble import RandomForestClassifier\n",
    "from sklearn.ensemble import RandomForestRegressor\n",
    "from sklearn.multioutput import MultiOutputRegressor\n",
    "from sklearn.model_selection import validation_curve\n",
    "from sklearn.model_selection import learning_curve\n",
    "from sklearn.model_selection import train_test_split\n",
    "from imblearn.under_sampling import RandomUnderSampler\n",
    "\n",
    "from sklearn.metrics import r2_score\n",
    "from sklearn.metrics import accuracy_score, precision_score, average_precision_score, recall_score, f1_score, roc_auc_score, confusion_matrix\n",
    "from sklearn.metrics import plot_roc_curve, plot_precision_recall_curve\n",
    "from sklearn.metrics import roc_curve, precision_recall_curve\n",
    "from sklearn.metrics import auc"
   ]
  },
  {
   "cell_type": "code",
   "execution_count": null,
   "id": "offshore-extent",
   "metadata": {},
   "outputs": [],
   "source": [
    "GEFS_dataset = GEFS_dataset.persist()\n",
    "display(GEFS_dataset)"
   ]
  },
  {
   "cell_type": "code",
   "execution_count": null,
   "id": "valid-parallel",
   "metadata": {},
   "outputs": [],
   "source": [
    "feature_name  = ['cape','pr']\n",
    "output_name   = ['isL']\n",
    "undersample   = RandomUnderSampler(sampling_strategy=0.33)\n",
    "rfclf = RandomForestClassifier(n_estimators=4,\n",
    "                               max_depth=4,\n",
    "                               random_state=0,\n",
    "                               n_jobs=4,\n",
    "                               verbose=0)"
   ]
  },
  {
   "cell_type": "code",
   "execution_count": null,
   "id": "stuffed-tokyo",
   "metadata": {
    "tags": []
   },
   "outputs": [],
   "source": [
    "AUROCC_RFC = np.zeros((35))\n",
    "AUPRC_RFC  = np.zeros((35))\n",
    "\n",
    "for iL in range(35):\n",
    "    \n",
    "    print(iL)\n",
    "    \n",
    "    F_data_interp   = F_data.interp(Time=(GEFS_dataset['S'] + GEFS_dataset.isel(L=iL)['L']) - np.timedelta64(12,'h'))\n",
    "    isL_data_interp = isL_data.interp(Time=(GEFS_dataset['S'] + GEFS_dataset.isel(L=iL)['L']) - np.timedelta64(12,'h'))\n",
    "    \n",
    "    ML_dataset = xr.Dataset(\n",
    "                            data_vars=dict(\n",
    "                                           F=(['FCT', 'lat', 'lon'], F_data_interp),\n",
    "                                           isL=(['FCT', 'lat', 'lon'], isL_data_interp),\n",
    "                                           cape=(['FCT', 'M', 'lat', 'lon'], GEFS_dataset['cape'].isel(L=iL)),\n",
    "                                           pr=(['FCT', 'M', 'lat', 'lon'], GEFS_dataset['pr'].isel(L=iL)),\n",
    "                                          ),\n",
    "                            coords=dict(\n",
    "                                        FCT=(['FCT'], (GEFS_dataset['S'] + GEFS_dataset.isel(L=iL)['L'])),\n",
    "                                        M=(['M'], GEFS_dataset['M']),\n",
    "                                        lat=(['lat'], GEFS_dataset['lat']),\n",
    "                                        lon=(['lon'], GEFS_dataset['lon']),\n",
    "                                       ),\n",
    "                            attrs=None,\n",
    "                           )\n",
    "    \n",
    "    (ML_dataset,) = xr.broadcast(ML_dataset)\n",
    "    \n",
    "    dataframe = ML_dataset.to_dataframe().dropna(axis=0)\n",
    "\n",
    "    X = dataframe[feature_name]\n",
    "    y = dataframe[output_name]\n",
    "    \n",
    "    X_train_raw, X_test, y_train_raw, y_test = train_test_split(X, y, test_size=0.33, random_state=0)\n",
    "    X_train, y_train = undersample.fit_resample(X_train_raw, y_train_raw)\n",
    "\n",
    "    y_predict_truth = y_test[output_name].values.ravel()\n",
    "    \n",
    "    rfclf.fit(X_train[feature_name], y_train[output_name].values.ravel())\n",
    "    \n",
    "    y_predict_rfclf = rfclf.predict(X_test[feature_name])\n",
    "    \n",
    "    y_score = rfclf.predict_proba(X_test[feature_name])[:,1]\n",
    "    precision, recall, thresholds = precision_recall_curve(y_predict_truth, y_score)\n",
    "    \n",
    "    AUROCC_RFC[iL] = roc_auc_score(y_predict_truth, y_score)\n",
    "    AUPRC_RFC[iL] = auc(recall, precision)"
   ]
  },
  {
   "cell_type": "code",
   "execution_count": null,
   "id": "settled-purse",
   "metadata": {
    "tags": []
   },
   "outputs": [],
   "source": [
    "AUROCC_R14 = np.zeros((35))\n",
    "AUPRC_R14  = np.zeros((35))\n",
    "\n",
    "for iL in range(35):\n",
    "    \n",
    "    print(iL)\n",
    "    \n",
    "    F_data_interp   = F_data.interp(Time=(GEFS_dataset['S'] + GEFS_dataset.isel(L=iL)['L']) - np.timedelta64(12,'h'))\n",
    "    isL_data_interp = isL_data.interp(Time=(GEFS_dataset['S'] + GEFS_dataset.isel(L=iL)['L']) - np.timedelta64(12,'h'))\n",
    "    \n",
    "    R14_dataset = xr.Dataset(\n",
    "                             data_vars=dict(\n",
    "                                            F=(['FCT', 'lat', 'lon'], F_data_interp),\n",
    "                                            isL=(['FCT', 'lat', 'lon'], isL_data_interp),\n",
    "                                            cape=(['FCT', 'M', 'lat', 'lon'], GEFS_dataset['cape'].isel(L=iL)),\n",
    "                                            pr=(['FCT', 'M', 'lat', 'lon'], GEFS_dataset['pr'].isel(L=iL)),\n",
    "                                            CP=(['FCT', 'M', 'lat', 'lon'], CP_data.isel(L=iL)),\n",
    "                                            isCP=(['FCT', 'M', 'lat', 'lon'], isCP_data.isel(L=iL)),\n",
    "                                           ),\n",
    "                             coords=dict(\n",
    "                                         FCT=(['FCT'], (GEFS_dataset['S'] + GEFS_dataset.isel(L=iL)['L'])),\n",
    "                                         M=(['M'], GEFS_dataset['M']),\n",
    "                                         lat=(['lat'], GEFS_dataset['lat']),\n",
    "                                         lon=(['lon'], GEFS_dataset['lon']),\n",
    "                                        ),\n",
    "                             attrs=None,\n",
    "                            )\n",
    "    \n",
    "    (R14_dataset,) = xr.broadcast(R14_dataset)\n",
    "    \n",
    "    dataframe = R14_dataset.to_dataframe().dropna(axis=0)\n",
    "\n",
    "    X = dataframe[:]\n",
    "    y = dataframe[output_name]\n",
    "    \n",
    "    X_train_raw, X_test, y_train_raw, y_test = train_test_split(X, y, test_size=0.33, random_state=0)\n",
    "\n",
    "    y_predict_truth = y_test[output_name].values.ravel()\n",
    "    y_predict_r14   = X_test['isCP']\n",
    "    \n",
    "    y_score = X_test['CP']\n",
    "    precision, recall, thresholds = precision_recall_curve(y_predict_truth, y_score)\n",
    "    \n",
    "    AUROCC_R14[iL] = roc_auc_score(y_predict_truth, y_score)\n",
    "    AUPRC_R14[iL] = auc(recall, precision)"
   ]
  },
  {
   "cell_type": "code",
   "execution_count": null,
   "id": "peaceful-guatemala",
   "metadata": {},
   "outputs": [],
   "source": [
    "#markers = ['.','v','s','p','*','x','d']\n",
    "#colors  = \n",
    "t = np.arange(1,36,1)\n",
    "fig, ax = plt.subplots()\n",
    "sc1 = ax.scatter(AUPRC_RFC, AUROCC_RFC, marker='o', s=20, c=t, cmap='jet')\n",
    "sc2 = ax.scatter(AUPRC_R14, AUROCC_R14, marker='x', s=20, c=t, cmap='jet')\n",
    "\n",
    "plt.colorbar(sc1)\n",
    "\n",
    "ax.set_title('Model skill')\n",
    "ax.set_xlabel('Area under PR curve')\n",
    "ax.set_ylabel('Area under ROC curve')\n",
    "#ax.set_xlim([0.40,0.55])\n",
    "#ax.set_ylim([0.75,0.95])\n",
    "#ax.legend(loc='best')\n",
    "\n",
    "#divider = make_axes_locatable(ax)\n",
    "#cax = divider.append_axes('right', size='5%', pad=0.05)\n",
    "#fig.colorbar(sc, cax=cax, orientation='vertical')"
   ]
  },
  {
   "cell_type": "code",
   "execution_count": null,
   "id": "requested-amino",
   "metadata": {},
   "outputs": [],
   "source": []
  },
  {
   "cell_type": "code",
   "execution_count": null,
   "id": "exterior-copyright",
   "metadata": {},
   "outputs": [],
   "source": []
  },
  {
   "cell_type": "code",
   "execution_count": null,
   "id": "authentic-silver",
   "metadata": {},
   "outputs": [],
   "source": []
  },
  {
   "cell_type": "code",
   "execution_count": null,
   "id": "derived-image",
   "metadata": {},
   "outputs": [],
   "source": []
  },
  {
   "cell_type": "code",
   "execution_count": null,
   "id": "afraid-payment",
   "metadata": {},
   "outputs": [],
   "source": []
  },
  {
   "cell_type": "code",
   "execution_count": null,
   "id": "particular-attraction",
   "metadata": {},
   "outputs": [],
   "source": []
  },
  {
   "cell_type": "code",
   "execution_count": null,
   "id": "continent-authority",
   "metadata": {},
   "outputs": [],
   "source": []
  },
  {
   "cell_type": "code",
   "execution_count": null,
   "id": "aggregate-advertiser",
   "metadata": {},
   "outputs": [],
   "source": []
  },
  {
   "cell_type": "code",
   "execution_count": null,
   "id": "subjective-equity",
   "metadata": {},
   "outputs": [],
   "source": []
  },
  {
   "cell_type": "code",
   "execution_count": null,
   "id": "optional-healing",
   "metadata": {},
   "outputs": [],
   "source": []
  }
 ],
 "metadata": {
  "kernelspec": {
   "display_name": "Python 3",
   "language": "python",
   "name": "python3"
  },
  "language_info": {
   "codemirror_mode": {
    "name": "ipython",
    "version": 3
   },
   "file_extension": ".py",
   "mimetype": "text/x-python",
   "name": "python",
   "nbconvert_exporter": "python",
   "pygments_lexer": "ipython3",
   "version": "3.7.9"
  }
 },
 "nbformat": 4,
 "nbformat_minor": 5
}
