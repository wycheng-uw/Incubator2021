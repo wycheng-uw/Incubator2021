{
 "cells": [
  {
   "cell_type": "code",
   "execution_count": null,
   "metadata": {},
   "outputs": [],
   "source": [
    "import numpy as np\n",
    "import matplotlib.pyplot as plt\n",
    "import matplotlib.colors as mcolors\n",
    "from mpl_toolkits.axes_grid1 import make_axes_locatable\n",
    "from matplotlib import ticker\n",
    "from matplotlib.legend_handler import HandlerLine2D\n",
    "from matplotlib.colors import BoundaryNorm\n",
    "from netCDF4 import Dataset\n",
    "import cartopy.crs as ccrs"
   ]
  },
  {
   "cell_type": "code",
   "execution_count": null,
   "metadata": {},
   "outputs": [],
   "source": [
    "#\"\"\"\n",
    "region     = 'CONUS'\n",
    "ilon_start =  45\n",
    "ilon_end   = 120\n",
    "ilat_start = 110\n",
    "ilat_end   = 150\n",
    "#\"\"\"\n",
    "\n",
    "isl        = 1\n",
    "YYYY_list  = [2012];\n",
    "nYYYY      = len(YYYY_list)\n",
    "plt.rcParams.update({'font.size': 22})\n",
    "nx         = ilon_end-ilon_start + 1;\n",
    "ny         = ilat_end-ilat_start + 1;\n"
   ]
  },
  {
   "cell_type": "code",
   "execution_count": null,
   "metadata": {},
   "outputs": [],
   "source": [
    "WWLLN_dir       = '/home/disk/eos12/wycheng/data/US/WWLLN/'\n",
    "ERA5_dir        = '/home/disk/eos12/wycheng/data/US/ERA5/'\n",
    "TRMM_dir        = '/home/disk/eos12/wycheng/data/US/TRMM/'\n",
    "island_dir      = '/home/disk/eos9/wycheng/LightningMachineLearning/data/cgdata/island/'\n",
    "\n",
    "island_fname    = 'island_1deg.nc'\n",
    "ncin_island     = Dataset(island_dir+island_fname,'r')\n",
    "island_in       = ncin_island.variables['island'][ilat_start:ilat_end,ilon_start:ilon_end]\n",
    "\n",
    "nYYYY           = np.shape(YYYY_list)[0]\n",
    "\n",
    "for iYYYY in range(nYYYY):\n",
    "    YYYY = YYYY_list[iYYYY];\n",
    "\n",
    "    WWLLN_F_fname   = 'WWLLN_'+str(YYYY)+'_F_cg_1deg3hr_US.nc'\n",
    "    ERA5_cape_fname = 'ERA5_'+str(YYYY)+'_cape_cg_1deg3hr_US.nc'\n",
    "    TRMM_pcp_fname  = 'TRMM_'+str(YYYY)+'_pcp_cg_1deg3hr_US.nc'\n",
    "\n",
    "    ncin_F          = Dataset(WWLLN_dir+WWLLN_F_fname,'r')\n",
    "    ncin_cape       = Dataset(ERA5_dir+ERA5_cape_fname,'r')\n",
    "    ncin_pcp        = Dataset(TRMM_dir+TRMM_pcp_fname,'r')\n",
    "\n",
    "    \n",
    "    if (iYYYY==0):\n",
    "        F_in        = ncin_F.variables['F'][:,:,:]\n",
    "        cape_in     = ncin_cape.variables['cape'][:,:,:]\n",
    "        pcp_in      = ncin_pcp.variables['pcp'][:,:,:]\n",
    "\n",
    "    else:\n",
    "        F_in        = np.append(F_in,ncin_F.variables['F'][:,:,:],axis=0)\n",
    "        cape_in     = np.append(cape_in,ncin_cape.variables['cape'][:,:,:],axis=0)\n",
    "        pcp_in      = np.append(pcp_in,ncin_pcp.variables['pcp'][:,:,:],axis=0)\n",
    "\n",
    "F_in        = F_in * (1/((111.19492664455873)**2)) * (365.25*8) # turn unit into [km-2 yr-1]\n",
    "sqrtcape_in = cape_in ** 0.5;\n",
    "\n",
    "island_in3d = np.broadcast_to(island_in, F_in.shape)"
   ]
  },
  {
   "cell_type": "code",
   "execution_count": null,
   "metadata": {},
   "outputs": [],
   "source": [
    "print(island_in3d.shape)\n",
    "print(F_in.shape)\n",
    "print(cape_in.shape)\n",
    "print(sqrtcape_in.shape)\n",
    "print(pcp_in.shape)"
   ]
  },
  {
   "cell_type": "code",
   "execution_count": null,
   "metadata": {},
   "outputs": [],
   "source": [
    "mask_island   = island_in3d==1;\n",
    "print(mask_island.shape)\n",
    "mask_normal   = 1.0*mask_island;\n",
    "mask_normal   = np.where(mask_island==0, np.nan, mask_island);\n",
    "print(mask_normal.shape)"
   ]
  },
  {
   "cell_type": "code",
   "execution_count": null,
   "metadata": {},
   "outputs": [],
   "source": [
    "clevs0          = np.arange(0,50,20)\n",
    "\n",
    "llcrnrlon       = -135\n",
    "llcrnrlat       =   20\n",
    "urcrnrlon       =  -60\n",
    "urcrnrlat       =   60\n",
    "coastlinewidth  =    3.\n",
    "coastlinecolor  = 'gray'\n",
    "lat             = np.linspace(  20, 60,  ny);#np.linspace( -89.5, 89.5,ny);\n",
    "lon             = np.linspace(-135,-60,  nx);#np.linspace(-179.5,179.5,nx);\n",
    "lons, lats      = np.meshgrid(lon[:], lat[:]);#np.meshgrid(lon[ilon_start:ilon_end], lat[ilat_start:ilat_end])"
   ]
  },
  {
   "cell_type": "code",
   "execution_count": null,
   "metadata": {},
   "outputs": [],
   "source": [
    "plt.rcParams.update({'font.size': 48})\n",
    "figsize = (40,20)\n",
    "cmap = plt.get_cmap('jet')"
   ]
  },
  {
   "cell_type": "code",
   "execution_count": null,
   "metadata": {},
   "outputs": [],
   "source": [
    "def plot_map(figsize,var,lons,lats,cmap,varminmax,title,unit):\n",
    "    \n",
    "    fig   = plt.figure(figsize=figsize)\n",
    "    ax    = plt.axes(projection=ccrs.PlateCarree())\n",
    "\n",
    "    pcm   = plt.pcolormesh(lons, lats, var, cmap=cmap, norm=mcolors.PowerNorm(1.0))\n",
    "\n",
    "    gl    = ax.gridlines(crs=ccrs.PlateCarree(), draw_labels=True, linewidth=2, color='gray', alpha=0.5, linestyle='--')\n",
    "    gl.xlabels_top   = False\n",
    "    gl.ylabels_right = False\n",
    "    ax.coastlines()\n",
    "\n",
    "    plt.clim(varminmax[0],varminmax[1])\n",
    "    plt.title(title)\n",
    "    divider = make_axes_locatable(ax)\n",
    "    cax = divider.append_axes(\"right\", size=\"2%\", pad=1, axes_class=plt.Axes)\n",
    "    cbar = plt.colorbar(pcm, cax=cax,extend='max')\n",
    "    plt.text(varminmax[0],varminmax[1]*1.08,unit)\n",
    "\n",
    "    plt.show()"
   ]
  },
  {
   "cell_type": "markdown",
   "metadata": {},
   "source": [
    "# Normal Thunderstorm"
   ]
  },
  {
   "cell_type": "code",
   "execution_count": null,
   "metadata": {},
   "outputs": [],
   "source": [
    "array = np.nanmean(pcp_in*mask_normal,axis=0)[:,:]\n",
    "varminmax = [0,0.2]\n",
    "unit = '[mm hr$^{-1}$]'\n",
    "title = 'Precip'\n",
    "plot_map(figsize,array,lons,lats,cmap,varminmax,title,unit)"
   ]
  },
  {
   "cell_type": "code",
   "execution_count": null,
   "metadata": {},
   "outputs": [],
   "source": [
    "array = np.nanmean(cape_in*mask_normal,axis=0)[:,:]\n",
    "varminmax = [0,800]\n",
    "unit = '[J kg$^{-1}$]'\n",
    "title = 'CAPE'\n",
    "plot_map(figsize,array,lons,lats,cmap,varminmax,title,unit)"
   ]
  },
  {
   "cell_type": "code",
   "execution_count": null,
   "metadata": {},
   "outputs": [],
   "source": [
    "F_normal = np.sum((F_in>0)*mask_normal,axis=0)\n",
    "varminmax = [0,500]\n",
    "unit = '[#]'\n",
    "title = 'Lightning events'\n",
    "plot_map(figsize,F_normal,lons,lats,cmap,varminmax,title,unit)"
   ]
  },
  {
   "cell_type": "code",
   "execution_count": null,
   "metadata": {},
   "outputs": [],
   "source": [
    "array = np.nanmean(cape_in*pcp_in*mask_normal,axis=0)[:,:]\n",
    "varminmax = [0,200]\n",
    "unit = ''\n",
    "title = 'CAPE x pcp'\n",
    "plot_map(figsize,array,lons,lats,cmap,varminmax,title,unit)"
   ]
  },
  {
   "cell_type": "markdown",
   "metadata": {},
   "source": [
    "# Dry Thunderstorm"
   ]
  },
  {
   "cell_type": "code",
   "execution_count": null,
   "metadata": {},
   "outputs": [],
   "source": [
    "pcp_thrs      = 2.5/3\n",
    "mask_pcpthrs  = pcp_in<pcp_thrs;\n",
    "mask_dt       = 1.0*mask_pcpthrs*mask_island;\n",
    "mask_dt       = np.where(mask_dt==0, np.nan, mask_dt);\n",
    "print(mask_dt.shape)"
   ]
  },
  {
   "cell_type": "code",
   "execution_count": null,
   "metadata": {},
   "outputs": [],
   "source": [
    "array = np.nansum((F_in>0)*mask_dt,axis=0)[:,:]\n",
    "F_dry = array\n",
    "\n",
    "varminmax = [0,200]\n",
    "unit = '[#]'\n",
    "title = 'Dry thunderstorm events'\n",
    "plot_map(figsize,F_dry,lons,lats,cmap,varminmax,title,unit)"
   ]
  },
  {
   "cell_type": "code",
   "execution_count": null,
   "metadata": {},
   "outputs": [],
   "source": [
    "array = 100*np.where(F_normal>0, F_dry/F_normal , np.nan)\n",
    "\n",
    "varminmax = [0,100]\n",
    "unit = '[%]'\n",
    "title = 'Dry thunderstorm fraction'\n",
    "plot_map(figsize,array,lons,lats,cmap,varminmax,title,unit)"
   ]
  },
  {
   "cell_type": "code",
   "execution_count": null,
   "metadata": {},
   "outputs": [],
   "source": []
  }
 ],
 "metadata": {
  "kernelspec": {
   "display_name": "Python 3",
   "language": "python",
   "name": "python3"
  },
  "language_info": {
   "codemirror_mode": {
    "name": "ipython",
    "version": 3
   },
   "file_extension": ".py",
   "mimetype": "text/x-python",
   "name": "python",
   "nbconvert_exporter": "python",
   "pygments_lexer": "ipython3",
   "version": "3.9.1"
  }
 },
 "nbformat": 4,
 "nbformat_minor": 2
}
