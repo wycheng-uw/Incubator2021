{
 "cells": [
  {
   "cell_type": "markdown",
   "metadata": {},
   "source": [
    "# Read data"
   ]
  },
  {
   "cell_type": "code",
   "execution_count": null,
   "metadata": {},
   "outputs": [],
   "source": [
    "import xarray as xr"
   ]
  },
  {
   "cell_type": "code",
   "execution_count": null,
   "metadata": {},
   "outputs": [],
   "source": [
    "isl        = 1\n",
    "YYYY_list  = [2012];\n",
    "nYYYY      = len(YYYY_list)"
   ]
  },
  {
   "cell_type": "code",
   "execution_count": null,
   "metadata": {},
   "outputs": [],
   "source": [
    "datadir         = '/home/disk/eos12/wycheng/data'\n",
    "\n",
    "island_file     = f'{datadir}/US/island/island_1deg_US.nc'\n",
    "island_data     = xr.open_dataset(island_file)\n",
    "\n",
    "for iyear in range(nYYYY):\n",
    "    YYYY        = str(YYYY_list[iyear])\n",
    "    F_file      = f'{datadir}/US/WWLLN/WWLLN_{YYYY}_F_cg_1deg3hr_US.nc'\n",
    "    cape_file   = f'{datadir}/US/ERA5/ERA5_{YYYY}_cape_cg_1deg3hr_US.nc'\n",
    "    pcp_file    = f'{datadir}/US/TRMM/TRMM_{YYYY}_pcp_cg_1deg3hr_US.nc'\n",
    "    \n",
    "    F_data      = xr.open_dataset(F_file)\n",
    "    cape_data   = xr.open_dataset(cape_file)\n",
    "    pcp_data    = xr.open_dataset(pcp_file)"
   ]
  },
  {
   "cell_type": "code",
   "execution_count": null,
   "metadata": {},
   "outputs": [],
   "source": [
    "pcp_data"
   ]
  },
  {
   "cell_type": "markdown",
   "metadata": {},
   "source": [
    "# Plots"
   ]
  },
  {
   "cell_type": "code",
   "execution_count": null,
   "metadata": {},
   "outputs": [],
   "source": [
    "import matplotlib.pyplot as plt\n",
    "import cartopy.crs as ccrs\n",
    "from mpl_toolkits.axes_grid1 import make_axes_locatable\n",
    "import matplotlib.ticker as mticker"
   ]
  },
  {
   "cell_type": "code",
   "execution_count": null,
   "metadata": {},
   "outputs": [],
   "source": [
    "plt.rcParams.update({'font.size': 48})\n",
    "figsize = (40,20)\n"
   ]
  },
  {
   "cell_type": "code",
   "execution_count": null,
   "metadata": {},
   "outputs": [],
   "source": [
    "def plot_map(figsize,data,cmap,vmin=None,vmax=None,title=None,unit=None):\n",
    "    \n",
    "    fig   = plt.figure(figsize=figsize)\n",
    "\n",
    "    pcm = data.plot.pcolormesh(\"lon\",\"lat\",\n",
    "        subplot_kws=dict(projection=ccrs.PlateCarree(), facecolor=\"white\"),\n",
    "        transform=ccrs.PlateCarree(),\n",
    "        cmap=cmap,\n",
    "        vmin=vmin,vmax=vmax,\n",
    "        add_colorbar = False,\n",
    "    )\n",
    "    pcm.axes.set_extent([-135, -60, 20, 60], ccrs.PlateCarree())\n",
    "    gl = pcm.axes.gridlines(crs=ccrs.PlateCarree(), draw_labels=True, linewidth=2, color='gray', alpha=0.5, linestyle='--')\n",
    "    gl.xlocator = mticker.FixedLocator([-130, -120, -110, -100, -90, -80, -70, -60])\n",
    "    gl.ylocator = mticker.FixedLocator([20, 30, 40, 50, 60])\n",
    "    gl.xlabels_top   = False\n",
    "    gl.ylabels_right = False\n",
    "    pcm.axes.coastlines()\n",
    "    plt.title(title)\n",
    "\n",
    "    divider = make_axes_locatable(pcm.axes)\n",
    "    cax     = divider.append_axes(\"right\", size=\"2%\", pad=1, axes_class=plt.Axes)\n",
    "    cbar    = plt.colorbar(pcm, cax=cax,extend='max')\n",
    "    plt.text(vmin,vmax*1.08,unit)"
   ]
  },
  {
   "cell_type": "code",
   "execution_count": null,
   "metadata": {},
   "outputs": [],
   "source": [
    "data  = (1/((111.19492664455873)**2)) * (365.25*8) * F_data['F'].mean(dim='Time').where(island_data.island==1)\n",
    "cmap  = plt.get_cmap('jet')\n",
    "vmin  = 0\n",
    "vmax  = 10\n",
    "title = 'Lightning flash rate'\n",
    "unit  = '[km$^{-2}$ yr$^{-1}$]'\n",
    "\n",
    "plot_map(figsize,data=data,cmap=cmap,vmin=vmin,vmax=vmax,title=title,unit=unit)"
   ]
  },
  {
   "cell_type": "code",
   "execution_count": null,
   "metadata": {},
   "outputs": [],
   "source": [
    "data  = pcp_data['pcp'].mean(dim='time').where(island_data.island==1)\n",
    "cmap  = plt.get_cmap('jet')\n",
    "vmin  = 0\n",
    "vmax  = 0.2\n",
    "title = 'Precipitation'\n",
    "unit  = '[mm hr$^{-1}$]'\n",
    "\n",
    "plot_map(figsize,data=data,cmap=cmap,vmin=vmin,vmax=vmax,title=title,unit=unit)"
   ]
  },
  {
   "cell_type": "code",
   "execution_count": null,
   "metadata": {},
   "outputs": [],
   "source": [
    "data  = cape_data['cape'].mean(dim='Time').where(island_data.island==1)\n",
    "cmap  = plt.get_cmap('jet')\n",
    "vmin  = 0\n",
    "vmax  = 800\n",
    "title = 'CAPE'\n",
    "unit  = '[J kg$^{-1}$]'\n",
    "\n",
    "plot_map(figsize,data=data,cmap=cmap,vmin=vmin,vmax=vmax,title=title,unit=unit)"
   ]
  },
  {
   "cell_type": "code",
   "execution_count": null,
   "metadata": {},
   "outputs": [],
   "source": [
    "data  = F_data['F'] \\\n",
    "        .where(F_data.F>0) \\\n",
    "        .count(dim='Time') \\\n",
    "        .where(island_data.island==1)\n",
    "cmap  = plt.get_cmap('jet')\n",
    "vmin  = 0\n",
    "vmax  = 500\n",
    "title = 'Lightning events'\n",
    "unit  = '[#]'\n",
    "\n",
    "plot_map(figsize,data=data,cmap=cmap,vmin=vmin,vmax=vmax,title=title,unit=unit)"
   ]
  },
  {
   "cell_type": "markdown",
   "metadata": {},
   "source": [
    "# Dry Thunderstorm"
   ]
  },
  {
   "cell_type": "code",
   "execution_count": null,
   "metadata": {},
   "outputs": [],
   "source": [
    "data  = F_data['F'] \\\n",
    "        .where((F_data.F>0) & (pcp_data.pcp<(2.5/3))) \\\n",
    "        .count(dim='Time') \\\n",
    "        .where(island_data.island==1)\n",
    "cmap  = plt.get_cmap('jet')\n",
    "vmin  = 0\n",
    "vmax  = 300\n",
    "title = 'Dry thunderstorm events'\n",
    "unit  = '[#]'\n",
    "\n",
    "plot_map(figsize,data=data,cmap=cmap,vmin=vmin,vmax=vmax,title=title,unit=unit)"
   ]
  },
  {
   "cell_type": "code",
   "execution_count": null,
   "metadata": {},
   "outputs": [],
   "source": [
    "data  = (F_data['F'] \\\n",
    "        .where(F_data.F>0 & pcp_data.pcp<(2.5/3)) \\\n",
    "        .count(dim='Time') \\\n",
    "        .where(island_data.island==1))@\n",
    "        (1/F_data['F'] \\\n",
    "        .where(F_data.F>0) \\\n",
    "        .count(dim='Time') \\\n",
    "        .where(island_data.island==1))@\n",
    "\n",
    "cmap  = plt.get_cmap('jet')\n",
    "vmin  = 0\n",
    "vmax  = 300\n",
    "title = 'Dry thunderstorm events'\n",
    "unit  = '[#]'\n",
    "\n",
    "plot_map(figsize,data=data,cmap=cmap,vmin=vmin,vmax=vmax,title=title,unit=unit)"
   ]
  },
  {
   "cell_type": "code",
   "execution_count": null,
   "metadata": {},
   "outputs": [],
   "source": []
  }
 ],
 "metadata": {
  "kernelspec": {
   "display_name": "Python 3",
   "language": "python",
   "name": "python3"
  },
  "language_info": {
   "codemirror_mode": {
    "name": "ipython",
    "version": 3
   },
   "file_extension": ".py",
   "mimetype": "text/x-python",
   "name": "python",
   "nbconvert_exporter": "python",
   "pygments_lexer": "ipython3",
   "version": "3.9.1"
  }
 },
 "nbformat": 4,
 "nbformat_minor": 2
}
